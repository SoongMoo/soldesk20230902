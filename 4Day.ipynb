{
 "cells": [
  {
   "cell_type": "code",
   "execution_count": 8,
   "id": "201fad56",
   "metadata": {},
   "outputs": [
    {
     "name": "stderr",
     "output_type": "stream",
     "text": [
      "C:\\Users\\soldesk\\AppData\\Local\\Temp\\ipykernel_5752\\627556072.py:1: DeprecationWarning: Importing display from IPython.core.display is deprecated since IPython 7.14, please import from IPython display\n",
      "  from IPython.core.display import display, HTML\n"
     ]
    },
    {
     "data": {
      "text/html": [
       "<style>\n",
       "div.container { width:100% !important; }\n",
       "div.CodeMirror {font-family: Consolas; font-size: 25pt;}\n",
       "div.output { font-size: 20pt; font-weight: bold;}\n",
       "div.input { font-family: Consolas; font-size: 25pt;}\n",
       "div.prompt { min-width: 100px;}\n",
       "</style>\n"
      ],
      "text/plain": [
       "<IPython.core.display.HTML object>"
      ]
     },
     "metadata": {},
     "output_type": "display_data"
    }
   ],
   "source": [
    "from IPython.core.display import display, HTML\n",
    "display(HTML(\n",
    "\"\"\"<style>\n",
    "div.container { width:100% !important; }\n",
    "div.CodeMirror {font-family: Consolas; font-size: 25pt;}\n",
    "div.output { font-size: 20pt; font-weight: bold;}\n",
    "div.input { font-family: Consolas; font-size: 25pt;}\n",
    "div.prompt { min-width: 100px;}\n",
    "</style>\n",
    "\"\"\"))"
   ]
  },
  {
   "cell_type": "code",
   "execution_count": null,
   "id": "5a3a6ca6",
   "metadata": {},
   "outputs": [],
   "source": [
    "# 자료형, 제어문, 함수\n",
    "# 파일입출력, class, 모듈"
   ]
  },
  {
   "cell_type": "code",
   "execution_count": 8,
   "id": "b27dd11e",
   "metadata": {},
   "outputs": [],
   "source": [
    "#f = open(\"c:/data.txt\", \"w\" ,  encoding='UTF-8')\n",
    "#open(file, mode='r', buffering=None, encoding=None, errors=None, newline=None, closefd=True):\n",
    "f = open(\"data.txt\",\"w\" ,  encoding='UTF-8')"
   ]
  },
  {
   "cell_type": "code",
   "execution_count": 9,
   "id": "bc0b33c0",
   "metadata": {},
   "outputs": [],
   "source": [
    "f.write(\"1번째줄입니다. \\n\")\n",
    "f.write(\"2번째줄입니다. \\n\")\n",
    "f.write(\"3번째줄입니다. \\n\")\n",
    "f.write(\"4번째줄입니다. \\n\")\n",
    "f.write(\"5번째줄입니다. \\n\")\n",
    "f.close()"
   ]
  },
  {
   "cell_type": "code",
   "execution_count": 4,
   "id": "d9164d46",
   "metadata": {},
   "outputs": [],
   "source": [
    "f = open(\"data1.txt\", \"w\" )"
   ]
  },
  {
   "cell_type": "code",
   "execution_count": 5,
   "id": "f8a0f624",
   "metadata": {},
   "outputs": [],
   "source": [
    "f.write(\"1번째줄입니다. \\n\")\n",
    "f.write(\"2번째줄입니다. \\n\")\n",
    "f.write(\"3번째줄입니다. \\n\")\n",
    "f.write(\"4번째줄입니다. \\n\")\n",
    "f.write(\"5번째줄입니다. \\n\")\n",
    "f.close()"
   ]
  },
  {
   "cell_type": "code",
   "execution_count": 6,
   "id": "7ee045a7",
   "metadata": {},
   "outputs": [],
   "source": [
    "f = open(\"data.txt\",\"w\" ,  encoding='UTF-8')"
   ]
  },
  {
   "cell_type": "code",
   "execution_count": 7,
   "id": "96b56e36",
   "metadata": {},
   "outputs": [],
   "source": [
    "f.write(\"6번째줄입니다. \\n\")\n",
    "f.write(\"7번째줄입니다. \\n\")\n",
    "f.write(\"8번째줄입니다. \\n\")\n",
    "f.write(\"9번째줄입니다. \\n\")\n",
    "f.write(\"10번째줄입니다. \\n\")\n",
    "f.close()"
   ]
  },
  {
   "cell_type": "code",
   "execution_count": 10,
   "id": "c64e2b0e",
   "metadata": {},
   "outputs": [],
   "source": [
    "f = open(\"data.txt\",\"a\" ,  encoding='UTF-8')"
   ]
  },
  {
   "cell_type": "code",
   "execution_count": 11,
   "id": "3e39fde4",
   "metadata": {},
   "outputs": [],
   "source": [
    "f.write(\"6번째줄입니다. \\n\")\n",
    "f.write(\"7번째줄입니다. \\n\")\n",
    "f.write(\"8번째줄입니다. \\n\")\n",
    "f.write(\"9번째줄입니다. \\n\")\n",
    "f.write(\"10번째줄입니다. \\n\")\n",
    "f.close()"
   ]
  },
  {
   "cell_type": "code",
   "execution_count": 12,
   "id": "81b80c4c",
   "metadata": {},
   "outputs": [],
   "source": [
    "f = open(\"data.txt\",\"w\" ,  encoding='UTF-8')"
   ]
  },
  {
   "cell_type": "code",
   "execution_count": 13,
   "id": "996e14be",
   "metadata": {},
   "outputs": [],
   "source": [
    "for i in range(1, 6):\n",
    "    f.write(f\"{i}번째줄입니다. \\n\")\n",
    "f.close();"
   ]
  },
  {
   "cell_type": "code",
   "execution_count": 14,
   "id": "1887feac",
   "metadata": {},
   "outputs": [],
   "source": [
    "f = open(\"data.txt\",\"a\" ,  encoding='UTF-8')"
   ]
  },
  {
   "cell_type": "code",
   "execution_count": 15,
   "id": "37f99323",
   "metadata": {},
   "outputs": [],
   "source": [
    "for i in range(6, 11):\n",
    "    f.write(f\"{i}번째줄입니다. \\n\")\n",
    "f.close();"
   ]
  },
  {
   "cell_type": "code",
   "execution_count": 53,
   "id": "d55c038c",
   "metadata": {},
   "outputs": [],
   "source": [
    "f = open(\"data.txt\",\"r\" ,  encoding='UTF-8')"
   ]
  },
  {
   "cell_type": "code",
   "execution_count": 55,
   "id": "f3d98046",
   "metadata": {},
   "outputs": [
    {
     "ename": "ValueError",
     "evalue": "I/O operation on closed file.",
     "output_type": "error",
     "traceback": [
      "\u001b[1;31m---------------------------------------------------------------------------\u001b[0m",
      "\u001b[1;31mValueError\u001b[0m                                Traceback (most recent call last)",
      "Cell \u001b[1;32mIn[55], line 1\u001b[0m\n\u001b[1;32m----> 1\u001b[0m line \u001b[38;5;241m=\u001b[39m \u001b[43mf\u001b[49m\u001b[38;5;241;43m.\u001b[39;49m\u001b[43mreadline\u001b[49m\u001b[43m(\u001b[49m\u001b[43m)\u001b[49m\n\u001b[0;32m      2\u001b[0m \u001b[38;5;28mprint\u001b[39m(line)\n\u001b[0;32m      3\u001b[0m f\u001b[38;5;241m.\u001b[39mclose()\n",
      "\u001b[1;31mValueError\u001b[0m: I/O operation on closed file."
     ]
    }
   ],
   "source": [
    "line = f.readline()\n",
    "print(line)\n",
    "line = f.readline()\n",
    "print(line)\n",
    "line = f.readline()\n",
    "print(line)\n",
    "line = f.readline()\n",
    "print(line)\n",
    "line = f.readline()\n",
    "print(line)\n",
    "line = f.readline()\n",
    "print(line)\n",
    "line = f.readline()\n",
    "print(line)\n",
    "f.close()"
   ]
  },
  {
   "cell_type": "code",
   "execution_count": 25,
   "id": "00b58598",
   "metadata": {},
   "outputs": [],
   "source": [
    "f = open(\"data.txt\",\"r\" ,  encoding='UTF-8')"
   ]
  },
  {
   "cell_type": "code",
   "execution_count": 26,
   "id": "3f5c947d",
   "metadata": {},
   "outputs": [
    {
     "name": "stdout",
     "output_type": "stream",
     "text": [
      "1번째줄입니다. \n",
      "2번째줄입니다. \n",
      "3번째줄입니다. \n",
      "4번째줄입니다. \n",
      "5번째줄입니다. \n",
      "6번째줄입니다. \n",
      "7번째줄입니다. \n",
      "8번째줄입니다. \n",
      "9번째줄입니다. \n",
      "10번째줄입니다. \n"
     ]
    }
   ],
   "source": [
    "while True:\n",
    "    line = f.readline()\n",
    "    if not line:\n",
    "        break;\n",
    "    print(line, end=\"\")\n",
    "f.close()"
   ]
  },
  {
   "cell_type": "code",
   "execution_count": 33,
   "id": "78ac3b95",
   "metadata": {},
   "outputs": [],
   "source": [
    "f = open(\"data.txt\",\"r\" ,  encoding='UTF-8')"
   ]
  },
  {
   "cell_type": "code",
   "execution_count": 34,
   "id": "47d402a7",
   "metadata": {},
   "outputs": [
    {
     "name": "stdout",
     "output_type": "stream",
     "text": [
      "['1번째줄입니다. \\n', '2번째줄입니다. \\n', '3번째줄입니다. \\n', '4번째줄입니다. \\n', '5번째줄입니다. \\n', '6번째줄입니다. \\n', '7번째줄입니다. \\n', '8번째줄입니다. \\n', '9번째줄입니다. \\n', '10번째줄입니다. \\n']\n",
      "1번째줄입니다. \n",
      "2번째줄입니다. \n",
      "3번째줄입니다. \n",
      "4번째줄입니다. \n",
      "5번째줄입니다. \n",
      "6번째줄입니다. \n",
      "7번째줄입니다. \n",
      "8번째줄입니다. \n",
      "9번째줄입니다. \n",
      "10번째줄입니다. \n",
      "\n",
      "1번째줄입니다. \n",
      "\n",
      "2번째줄입니다. \n",
      "\n",
      "3번째줄입니다. \n",
      "\n",
      "4번째줄입니다. \n",
      "\n",
      "5번째줄입니다. \n",
      "\n",
      "6번째줄입니다. \n",
      "\n",
      "7번째줄입니다. \n",
      "\n",
      "8번째줄입니다. \n",
      "\n",
      "9번째줄입니다. \n",
      "\n",
      "10번째줄입니다. \n",
      "\n"
     ]
    }
   ],
   "source": [
    "lines = f.readlines();\n",
    "f.close()\n",
    "print(lines)\n",
    "print(\"\".join(lines))\n",
    "\n",
    "for line in lines:\n",
    "    print(line);"
   ]
  },
  {
   "cell_type": "code",
   "execution_count": 35,
   "id": "e0734335",
   "metadata": {},
   "outputs": [
    {
     "name": "stdout",
     "output_type": "stream",
     "text": [
      "1번째줄입니다. \n",
      "2번째줄입니다. \n",
      "3번째줄입니다. \n",
      "4번째줄입니다. \n",
      "5번째줄입니다. \n",
      "6번째줄입니다. \n",
      "7번째줄입니다. \n",
      "8번째줄입니다. \n",
      "9번째줄입니다. \n",
      "10번째줄입니다. \n",
      "\n"
     ]
    }
   ],
   "source": [
    "f = open(\"data.txt\",\"r\" ,  encoding='UTF-8')\n",
    "data = f.read()\n",
    "f.close()\n",
    "print(data)"
   ]
  },
  {
   "cell_type": "code",
   "execution_count": 56,
   "id": "2f0f42c0",
   "metadata": {},
   "outputs": [],
   "source": [
    "with open(\"data.txt\",\"w\" ,  encoding='UTF-8') as f:\n",
    "    for i in range(1, 6):\n",
    "        f.write(f\"{i}번째입니다. \\n\")"
   ]
  },
  {
   "cell_type": "code",
   "execution_count": 57,
   "id": "4d656009",
   "metadata": {},
   "outputs": [],
   "source": [
    "with open(\"data.txt\",\"a\" ,  encoding='UTF-8') as f:\n",
    "    for i in range(6, 11):\n",
    "        f.write(f\"{i}번째입니다. \\n\")"
   ]
  },
  {
   "cell_type": "code",
   "execution_count": 59,
   "id": "53e88c5c",
   "metadata": {},
   "outputs": [
    {
     "name": "stdout",
     "output_type": "stream",
     "text": [
      "1번째입니다. \n",
      "2번째입니다. \n",
      "3번째입니다. \n",
      "4번째입니다. \n",
      "5번째입니다. \n",
      "6번째입니다. \n",
      "7번째입니다. \n",
      "8번째입니다. \n",
      "9번째입니다. \n",
      "10번째입니다. \n",
      "\n"
     ]
    }
   ],
   "source": [
    "with open(\"data.txt\",\"r\" ,  encoding='UTF-8') as f:\n",
    "    data = f.read()\n",
    "print(data)"
   ]
  },
  {
   "cell_type": "code",
   "execution_count": 61,
   "id": "ff54b7f7",
   "metadata": {},
   "outputs": [],
   "source": [
    "# class : 변수, 함수를 하나로 묶어 놓은것\n",
    "class TestClass:\n",
    "    result = 1\n",
    "    def f(self, x):\n",
    "        self.result = x"
   ]
  },
  {
   "cell_type": "code",
   "execution_count": 65,
   "id": "af337425",
   "metadata": {},
   "outputs": [],
   "source": [
    "a = TestClass() # 객체"
   ]
  },
  {
   "cell_type": "code",
   "execution_count": null,
   "id": "c81cab99",
   "metadata": {},
   "outputs": [],
   "source": [
    "print(a.result)\n",
    "a.f(10)\n",
    "print(a.result)"
   ]
  },
  {
   "cell_type": "code",
   "execution_count": null,
   "id": "16ce613a",
   "metadata": {},
   "outputs": [],
   "source": [
    "b = TestClass() # 객체\n",
    "print(b.result)\n",
    "b.f(100)\n",
    "print(b.result)"
   ]
  },
  {
   "cell_type": "code",
   "execution_count": null,
   "id": "527cb2cb",
   "metadata": {},
   "outputs": [],
   "source": [
    "print(a.result)"
   ]
  },
  {
   "cell_type": "code",
   "execution_count": null,
   "id": "d25c254e",
   "metadata": {},
   "outputs": [],
   "source": [
    "result = 1\n",
    "def f(x):\n",
    "    global result\n",
    "    result = x"
   ]
  },
  {
   "cell_type": "code",
   "execution_count": null,
   "id": "93b6dd7e",
   "metadata": {},
   "outputs": [],
   "source": [
    "result1 = 1\n",
    "def f1(x):\n",
    "    global result1\n",
    "    result1 = x"
   ]
  },
  {
   "cell_type": "code",
   "execution_count": null,
   "id": "a8262fac",
   "metadata": {},
   "outputs": [],
   "source": [
    "result2 = 1\n",
    "def f2(x):\n",
    "    global result2\n",
    "    result2 = x\n",
    "print(result1)\n",
    "print(result2)"
   ]
  },
  {
   "cell_type": "code",
   "execution_count": 70,
   "id": "0d4f9def",
   "metadata": {},
   "outputs": [],
   "source": [
    "c = TestClass() "
   ]
  },
  {
   "cell_type": "code",
   "execution_count": 71,
   "id": "4df12b32",
   "metadata": {},
   "outputs": [
    {
     "name": "stdout",
     "output_type": "stream",
     "text": [
      "10\n",
      "100\n",
      "1\n"
     ]
    }
   ],
   "source": [
    "print(a.result)\n",
    "print(b.result)\n",
    "print(c.result)"
   ]
  },
  {
   "cell_type": "code",
   "execution_count": 72,
   "id": "ef9083e8",
   "metadata": {},
   "outputs": [],
   "source": [
    "class Men:\n",
    "    name =\"\"\n",
    "    age = 0\n",
    "    def setName(self, name):\n",
    "        self.name = name\n",
    "    def setAge(self, age):\n",
    "        self.age = age "
   ]
  },
  {
   "cell_type": "code",
   "execution_count": 76,
   "id": "4a86633d",
   "metadata": {},
   "outputs": [],
   "source": [
    "rhee = Men()"
   ]
  },
  {
   "cell_type": "code",
   "execution_count": 78,
   "id": "cf474980",
   "metadata": {},
   "outputs": [
    {
     "name": "stdout",
     "output_type": "stream",
     "text": [
      "\n",
      "이숭무\n"
     ]
    }
   ],
   "source": [
    "print(rhee.name)\n",
    "rhee.setName('이숭무')\n",
    "print(rhee.name)"
   ]
  },
  {
   "cell_type": "code",
   "execution_count": 81,
   "id": "c4d3385e",
   "metadata": {},
   "outputs": [
    {
     "name": "stdout",
     "output_type": "stream",
     "text": [
      "이숭무\n",
      "\n",
      "박상원\n"
     ]
    }
   ],
   "source": [
    "park = Men()\n",
    "print(rhee.name)\n",
    "print(park.name)\n",
    "park.setName('박상원')\n",
    "print(park.name)"
   ]
  },
  {
   "cell_type": "code",
   "execution_count": 87,
   "id": "a4b02651",
   "metadata": {},
   "outputs": [
    {
     "name": "stdout",
     "output_type": "stream",
     "text": [
      "이숭무\n",
      "박상원\n",
      "\n",
      "20\n",
      "100\n",
      "0\n",
      "이성범\n",
      "40\n"
     ]
    }
   ],
   "source": [
    "lee = Men()\n",
    "print(rhee.name)\n",
    "print(park.name)\n",
    "print(lee.name)\n",
    "rhee.setAge(20)\n",
    "park.setAge(100)\n",
    "print(rhee.age)\n",
    "print(park.age)\n",
    "print(lee.age)\n",
    "lee.name='이성범'\n",
    "lee.age = 40\n",
    "print(lee.name)\n",
    "print(lee.age)"
   ]
  },
  {
   "cell_type": "code",
   "execution_count": 88,
   "id": "52d0d712",
   "metadata": {},
   "outputs": [
    {
     "name": "stdout",
     "output_type": "stream",
     "text": [
      "이숭무\n",
      "30\n"
     ]
    }
   ],
   "source": [
    "rhee1 = Men() # 객체\n",
    "rhee1.name = '이숭무'\n",
    "rhee1.setAge(30)\n",
    "print(rhee1.name)\n",
    "print(rhee1.age)"
   ]
  },
  {
   "cell_type": "code",
   "execution_count": 96,
   "id": "19566187",
   "metadata": {},
   "outputs": [],
   "source": [
    "class Men:\n",
    "    name =\"\"\n",
    "    age = 0\n",
    "    def setData(self, name, age):\n",
    "        self.name = name\n",
    "        self.age = age\n",
    "    def setName(self, name):\n",
    "        self.name = name\n",
    "    def setAge(self, age):\n",
    "        self.age = age "
   ]
  },
  {
   "cell_type": "code",
   "execution_count": 97,
   "id": "193646f1",
   "metadata": {},
   "outputs": [
    {
     "name": "stdout",
     "output_type": "stream",
     "text": [
      "이숭무\n",
      "30\n"
     ]
    }
   ],
   "source": [
    "rhee = Men() #객체\n",
    "rhee.setData('이숭무', 30)\n",
    "print(rhee.name)\n",
    "print(rhee.age)"
   ]
  },
  {
   "cell_type": "code",
   "execution_count": 98,
   "id": "862d87f0",
   "metadata": {},
   "outputs": [],
   "source": [
    "class Men:\n",
    "    name =\"\"    # 멤버필드 #멤버변수\n",
    "    age = 0\n",
    "    def __init__(self, name, age): # 생성자\n",
    "        self.name = name\n",
    "        self.age = age\n",
    "    def setName(self, name): # 메서드\n",
    "        self.name = name\n",
    "    def setAge(self, age): # 메서드\n",
    "        self.age = age "
   ]
  },
  {
   "cell_type": "code",
   "execution_count": 100,
   "id": "8ba02bec",
   "metadata": {},
   "outputs": [
    {
     "name": "stdout",
     "output_type": "stream",
     "text": [
      "이숭무\n",
      "30\n"
     ]
    }
   ],
   "source": [
    "rhee = Men('이숭무', 30) # 객체 생성과 동시에 멤버필드에 초기화하기\n",
    "print(rhee.name)\n",
    "print(rhee.age)"
   ]
  },
  {
   "cell_type": "code",
   "execution_count": 101,
   "id": "048d66f1",
   "metadata": {},
   "outputs": [
    {
     "name": "stdout",
     "output_type": "stream",
     "text": [
      "박상원\n",
      "18\n"
     ]
    }
   ],
   "source": [
    "park = Men('박상원', 18)\n",
    "print(park.name)\n",
    "print(park.age)"
   ]
  },
  {
   "cell_type": "code",
   "execution_count": 105,
   "id": "a7e1da7f",
   "metadata": {},
   "outputs": [],
   "source": [
    "class FourCal: # 파이썬에서는 멤버필드를 명시하지 않아도 된다.\n",
    "    def __init__(self, first, second):\n",
    "        self.first = first\n",
    "        self.second = second\n",
    "    def add(self):\n",
    "        self.result = self.first + self.second\n",
    "    def div(self):\n",
    "        self.result = self.first /self.second"
   ]
  },
  {
   "cell_type": "code",
   "execution_count": 106,
   "id": "fc8e0479",
   "metadata": {},
   "outputs": [
    {
     "name": "stdout",
     "output_type": "stream",
     "text": [
      "30\n"
     ]
    }
   ],
   "source": [
    "calc = FourCal(10, 20)\n",
    "calc.add()\n",
    "print(calc.result)"
   ]
  },
  {
   "cell_type": "code",
   "execution_count": 107,
   "id": "57fe9810",
   "metadata": {},
   "outputs": [],
   "source": [
    "class MoreFourCal(FourCal): # 상속\n",
    "    '''\n",
    "    def __init__(self, first, second):\n",
    "        self.first = first\n",
    "        self.second = second\n",
    "    def add(self):\n",
    "        self.result = self.first + self.second\n",
    "    def div(self):\n",
    "        self.result = self.first /self.second\n",
    "    '''\n",
    "    def sub(self):\n",
    "        self.result = self.first - self.second\n",
    "    def mul(self):\n",
    "        self.result = self.first * self.second"
   ]
  },
  {
   "cell_type": "code",
   "execution_count": 110,
   "id": "cbbdd175",
   "metadata": {},
   "outputs": [
    {
     "name": "stdout",
     "output_type": "stream",
     "text": [
      "30\n"
     ]
    }
   ],
   "source": [
    "a  = MoreFourCal(10, 20)\n",
    "a.add()\n",
    "print(a.result)"
   ]
  },
  {
   "cell_type": "code",
   "execution_count": 111,
   "id": "65458b42",
   "metadata": {},
   "outputs": [
    {
     "name": "stdout",
     "output_type": "stream",
     "text": [
      "0.0\n"
     ]
    }
   ],
   "source": [
    "b = MoreFourCal(0, 10)\n",
    "b.div() # 0 / 10 = 0 : 부정 : 오류X\n",
    "print(b.result)"
   ]
  },
  {
   "cell_type": "code",
   "execution_count": 112,
   "id": "79e81420",
   "metadata": {},
   "outputs": [
    {
     "ename": "ZeroDivisionError",
     "evalue": "division by zero",
     "output_type": "error",
     "traceback": [
      "\u001b[1;31m---------------------------------------------------------------------------\u001b[0m",
      "\u001b[1;31mZeroDivisionError\u001b[0m                         Traceback (most recent call last)",
      "Cell \u001b[1;32mIn[112], line 2\u001b[0m\n\u001b[0;32m      1\u001b[0m c \u001b[38;5;241m=\u001b[39m MoreFourCal(\u001b[38;5;241m10\u001b[39m, \u001b[38;5;241m0\u001b[39m)\n\u001b[1;32m----> 2\u001b[0m \u001b[43mc\u001b[49m\u001b[38;5;241;43m.\u001b[39;49m\u001b[43mdiv\u001b[49m\u001b[43m(\u001b[49m\u001b[43m)\u001b[49m\n",
      "Cell \u001b[1;32mIn[105], line 8\u001b[0m, in \u001b[0;36mFourCal.div\u001b[1;34m(self)\u001b[0m\n\u001b[0;32m      7\u001b[0m \u001b[38;5;28;01mdef\u001b[39;00m \u001b[38;5;21mdiv\u001b[39m(\u001b[38;5;28mself\u001b[39m):\n\u001b[1;32m----> 8\u001b[0m     \u001b[38;5;28mself\u001b[39m\u001b[38;5;241m.\u001b[39mresult \u001b[38;5;241m=\u001b[39m \u001b[38;5;28;43mself\u001b[39;49m\u001b[38;5;241;43m.\u001b[39;49m\u001b[43mfirst\u001b[49m\u001b[43m \u001b[49m\u001b[38;5;241;43m/\u001b[39;49m\u001b[38;5;28;43mself\u001b[39;49m\u001b[38;5;241;43m.\u001b[39;49m\u001b[43msecond\u001b[49m\n",
      "\u001b[1;31mZeroDivisionError\u001b[0m: division by zero"
     ]
    }
   ],
   "source": [
    "c = MoreFourCal(10, 0)\n",
    "c.div() # 10 / 0 : 불능 : 오류 O"
   ]
  },
  {
   "cell_type": "code",
   "execution_count": null,
   "id": "c862bf40",
   "metadata": {},
   "outputs": [],
   "source": []
  },
  {
   "cell_type": "code",
   "execution_count": 113,
   "id": "a01dbc09",
   "metadata": {},
   "outputs": [],
   "source": [
    "class MoreFourCal(FourCal): # 상속\n",
    "    '''\n",
    "    def __init__(self, first, second):\n",
    "        self.first = first\n",
    "        self.second = second\n",
    "    def add(self):\n",
    "        self.result = self.first + self.second\n",
    "    def div(self):\n",
    "        self.result = self.first /self.second\n",
    "    '''\n",
    "    def sub(self):\n",
    "        self.result = self.first - self.second\n",
    "    def mul(self):\n",
    "        self.result = self.first * self.second\n",
    "    def div(self): # 재정의 # 오버라이딩 overriding\n",
    "        if self.second == 0 :\n",
    "            self.result = 0\n",
    "        else:\n",
    "            self.result = self.first /self.second "
   ]
  },
  {
   "cell_type": "code",
   "execution_count": 116,
   "id": "0f5ac471",
   "metadata": {},
   "outputs": [
    {
     "name": "stdout",
     "output_type": "stream",
     "text": [
      "0\n"
     ]
    }
   ],
   "source": [
    "d = MoreFourCal(10, 0)\n",
    "d.div()\n",
    "print(d.result)"
   ]
  },
  {
   "cell_type": "code",
   "execution_count": 118,
   "id": "2a811f48",
   "metadata": {},
   "outputs": [],
   "source": [
    "class FourCal:\n",
    "    def add(self, num1, num2):\n",
    "        self.result = num1 + num2\n",
    "    def div(self, num1, num2):\n",
    "        self.result = num1 + num2       "
   ]
  },
  {
   "cell_type": "code",
   "execution_count": 120,
   "id": "b2b4adf6",
   "metadata": {},
   "outputs": [
    {
     "name": "stdout",
     "output_type": "stream",
     "text": [
      "40\n",
      "50\n"
     ]
    }
   ],
   "source": [
    "cal3 = FourCal()\n",
    "cal3.add(10, 30)  # add(self, num1, num2):  # self:cal3  # cal3.result\n",
    "print(cal3.result)\n",
    "FourCal.add(cal3, 30, 20)\n",
    "print(cal3.result)"
   ]
  },
  {
   "cell_type": "code",
   "execution_count": 123,
   "id": "eadc87a3",
   "metadata": {},
   "outputs": [
    {
     "name": "stdout",
     "output_type": "stream",
     "text": [
      "60\n",
      "60\n"
     ]
    }
   ],
   "source": [
    "cal4 = FourCal()\n",
    "FourCal.add(cal4, 20, 40)  # add(self, num1, num2):\n",
    "print(cal4.result) \n",
    "cal4.add(20, 40) # FourCal.add(cal4, 20, 40)\n",
    "print(cal4.result)\n",
    "# self는 객체 자기자신을 말한다."
   ]
  },
  {
   "cell_type": "code",
   "execution_count": null,
   "id": "7bb834c5",
   "metadata": {},
   "outputs": [],
   "source": [
    "# 모듈 :  변수, 함수, 상수, 클래스 , 객체를 하나로 묶어 놓은 것"
   ]
  },
  {
   "cell_type": "code",
   "execution_count": 2,
   "id": "0d726b94",
   "metadata": {},
   "outputs": [
    {
     "name": "stdout",
     "output_type": "stream",
     "text": [
      "3.141592\n",
      "30\n",
      "110\n",
      "40\n"
     ]
    }
   ],
   "source": [
    "import mod1\n",
    "print(mod1.PI)\n",
    "result = mod1.add(10, 20)\n",
    "print(result)\n",
    "obj = mod1.FourCal()\n",
    "obj.add(40, 70)\n",
    "print(obj.result)\n",
    "mod1.calc5.add(10, 30)\n",
    "print(mod1.calc5.result)"
   ]
  },
  {
   "cell_type": "code",
   "execution_count": 4,
   "id": "f2a321a2",
   "metadata": {},
   "outputs": [
    {
     "name": "stdout",
     "output_type": "stream",
     "text": [
      "17\n"
     ]
    }
   ],
   "source": [
    "import random\n",
    "n = random.randint(1, 20)\n",
    "print(n)"
   ]
  },
  {
   "cell_type": "code",
   "execution_count": 5,
   "id": "105058c6",
   "metadata": {},
   "outputs": [
    {
     "name": "stdout",
     "output_type": "stream",
     "text": [
      "20\n"
     ]
    }
   ],
   "source": [
    "from random import *\n",
    "n = randint(1, 20)\n",
    "print(n)"
   ]
  },
  {
   "cell_type": "code",
   "execution_count": 6,
   "id": "c34d5761",
   "metadata": {},
   "outputs": [
    {
     "name": "stdout",
     "output_type": "stream",
     "text": [
      "3.141592\n",
      "30\n",
      "110\n",
      "40\n"
     ]
    }
   ],
   "source": [
    "from mod1 import *\n",
    "print(PI)\n",
    "result = add(10, 20)\n",
    "print(result)\n",
    "obj = FourCal()\n",
    "obj.add(40, 70)\n",
    "print(obj.result)\n",
    "calc5.add(10, 30)\n",
    "print(calc5.result)"
   ]
  },
  {
   "cell_type": "code",
   "execution_count": 7,
   "id": "4a0ee50e",
   "metadata": {},
   "outputs": [],
   "source": [
    "### 스크래핑 : 웹 문서에 있는 코드 모두를 다 가지고 오는 것\n",
    "### 크롤링 : 스크래핑한 코드에서 원하는 내용만 추출해오는 것"
   ]
  },
  {
   "cell_type": "code",
   "execution_count": 11,
   "id": "c2e8495f",
   "metadata": {},
   "outputs": [
    {
     "data": {
      "text/plain": [
       "('test.png', <http.client.HTTPMessage at 0x22289a3eed0>)"
      ]
     },
     "execution_count": 11,
     "metadata": {},
     "output_type": "execute_result"
    }
   ],
   "source": [
    "# 스크래핑\n",
    "import urllib.request\n",
    "url = \"http://uta.pw/shodou/img/28/214.png\"\n",
    "saveFile = \"test.png\"\n",
    "urllib.request.urlretrieve(url, saveFile)"
   ]
  },
  {
   "cell_type": "code",
   "execution_count": 15,
   "id": "53df464f",
   "metadata": {},
   "outputs": [],
   "source": [
    "import urllib.request\n",
    "url = \"http://uta.pw/shodou/img/28/214.png\"\n",
    "mem = urllib.request.urlopen(url).read()\n",
    "with open(\"test1.png\", \"wb\") as f:\n",
    "    f.write(mem)"
   ]
  },
  {
   "cell_type": "code",
   "execution_count": 17,
   "id": "7c8c8270",
   "metadata": {},
   "outputs": [
    {
     "name": "stdout",
     "output_type": "stream",
     "text": [
      "b'[ip]\\nAPI_URI=http://api.aoikujira.com/ip/get.php\\nREMOTE_ADDR=121.160.41.224\\nREMOTE_HOST=121.160.41.224\\nREMOTE_PORT=35298\\nHTTP_HOST=api.aoikujira.com\\nHTTP_USER_AGENT=Python-urllib/3.11\\nHTTP_ACCEPT_LANGUAGE=\\nHTTP_ACCEPT_CHARSET=\\nSERVER_PORT=80\\nFORMAT=ini\\n\\n'\n",
      "[ip]\n",
      "API_URI=http://api.aoikujira.com/ip/get.php\n",
      "REMOTE_ADDR=121.160.41.224\n",
      "REMOTE_HOST=121.160.41.224\n",
      "REMOTE_PORT=35298\n",
      "HTTP_HOST=api.aoikujira.com\n",
      "HTTP_USER_AGENT=Python-urllib/3.11\n",
      "HTTP_ACCEPT_LANGUAGE=\n",
      "HTTP_ACCEPT_CHARSET=\n",
      "SERVER_PORT=80\n",
      "FORMAT=ini\n",
      "\n",
      "\n"
     ]
    }
   ],
   "source": [
    "import urllib.request\n",
    "url = \"http://api.aoikujira.com/ip/ini\"\n",
    "mem = urllib.request.urlopen(url).read()\n",
    "print(mem)\n",
    "text = mem.decode(\"utf-8\")\n",
    "print(text)"
   ]
  },
  {
   "cell_type": "code",
   "execution_count": 20,
   "id": "b5ee8ef4",
   "metadata": {},
   "outputs": [],
   "source": [
    "# https://search.naver.com/project명/search.naver?sm=nnf_hty&query=python&x=0&y=0\n",
    "# <----------------------------- url ------------------------------------------->\n",
    "# <---------도메인-------><-----    uri   -------> <--------- 쿼리스트링 --------->\n",
    "#                        <--------->\n",
    "#                        contextPath : /\n",
    "import urllib.request\n",
    "url = \"http://www.kma.go.kr/weather/forecast/mid-term-rss3.jsp?stnId=108\"\n",
    "mem = urllib.request.urlopen(url).read()\n",
    "text = mem.decode(\"utf-8\")\n",
    "print(text)"
   ]
  },
  {
   "cell_type": "code",
   "execution_count": 31,
   "id": "e840570b",
   "metadata": {},
   "outputs": [
    {
     "name": "stdout",
     "output_type": "stream",
     "text": [
      "지역번호를 입력하세요. 108\n",
      "stnId=108\n",
      "http://www.kma.go.kr/weather/forecast/mid-term-rss3.jsp?stnId=108\n"
     ]
    }
   ],
   "source": [
    "# 스크래핑\n",
    "import urllib.request\n",
    "import urllib.parse\n",
    "regionNumber = int(input(\"지역번호를 입력하세요. \"))\n",
    "API = \"http://www.kma.go.kr/weather/forecast/mid-term-rss3.jsp\"\n",
    "value={\"stnId\":regionNumber}\n",
    "params = urllib.parse.urlencode(value)    # stnId=108\n",
    "print(params)\n",
    "url = API + \"?\" + params\n",
    "print(url)\n",
    "mem = urllib.request.urlopen(url).read()\n",
    "text = mem.decode(\"utf-8\")\n",
    "print(text)"
   ]
  },
  {
   "cell_type": "code",
   "execution_count": 38,
   "id": "911ae1b4",
   "metadata": {},
   "outputs": [
    {
     "name": "stdout",
     "output_type": "stream",
     "text": [
      "<h1>스크레이핑이란?</h1>\n",
      "스크레이핑이란?\n",
      "<p>웹 페이지를 분석하는 것</p>\n",
      "웹 페이지를 분석하는 것\n",
      "<p>원하는 부분을 추출하는 것</p>\n",
      "원하는 부분을 추출하는 것\n"
     ]
    }
   ],
   "source": [
    "from bs4 import BeautifulSoup\n",
    "# 스크래핑\n",
    "html = \"\"\"  \n",
    "<html><body>\n",
    "  <h1>스크레이핑이란?</h1>\n",
    "  <p>웹 페이지를 분석하는 것</p>\n",
    "  <p>원하는 부분을 추출하는 것</p>\n",
    "</body></html>\n",
    "\"\"\"\n",
    "### 크롤링\n",
    "soup = BeautifulSoup(html, 'html.parser') # text를 html변환\n",
    "h1 = soup.html.h1\n",
    "print(h1)\n",
    "print(h1.string)\n",
    "p1 = soup.html.p\n",
    "print(p1)\n",
    "print(p1.string)\n",
    "p2 = soup.html.p.next_sibling.next_sibling\n",
    "print(p2)\n",
    "print(p2.string)"
   ]
  },
  {
   "cell_type": "code",
   "execution_count": 43,
   "id": "c7dba183",
   "metadata": {},
   "outputs": [
    {
     "name": "stdout",
     "output_type": "stream",
     "text": [
      "스크레이핑이란?\n",
      "<h1 id=\"title\">스크레이핑이란?</h1>\n",
      "스크레이핑이란?\n",
      "웹 페이지를 분석하는 것\n",
      "스크레이핑이란?\n"
     ]
    }
   ],
   "source": [
    "html = \"\"\"  \n",
    "<html><body>\n",
    "  <h1 id='title'>스크레이핑이란?</h1>\n",
    "  <p id='body'>웹 페이지를 분석하는 것</p>\n",
    "  <p>원하는 부분을 추출하는 것</p>\n",
    "</body></html>\n",
    "\"\"\"\n",
    "soup = BeautifulSoup(html, 'html.parser')\n",
    "h1 = soup.html.h1.string\n",
    "print(h1)\n",
    "title = soup.find(id='title')\n",
    "print(title)\n",
    "print(title.string)\n",
    "body = soup.find(id='body').string\n",
    "print(body)\n",
    "h1 = soup.find(\"h1\").string\n",
    "print(h1)"
   ]
  },
  {
   "cell_type": "code",
   "execution_count": 50,
   "id": "5e370a34",
   "metadata": {},
   "outputs": [
    {
     "name": "stdout",
     "output_type": "stream",
     "text": [
      " 원하는 부분을 추출하는 것 \n",
      "{'href': 'a.html', 'id': 'link'}\n",
      "a.html\n"
     ]
    }
   ],
   "source": [
    "html = \"\"\"  \n",
    "<html><body>\n",
    "  <h1 id='title'>스크레이핑이란?</h1>\n",
    "  <p id='body'>웹 페이지를 분석하는 것</p>\n",
    "  <p> <a href='a.html' id='link'> 원하는 부분을 추출하는 것 </a> </p>\n",
    "</body></html>\n",
    "\"\"\"\n",
    "soup = BeautifulSoup(html, 'html.parser')\n",
    "a = soup.html.a\n",
    "print(a.string)\n",
    "attrs = a.attrs\n",
    "print(attrs)\n",
    "print(attrs['href'])"
   ]
  },
  {
   "cell_type": "code",
   "execution_count": 61,
   "id": "c0b330b3",
   "metadata": {},
   "outputs": [
    {
     "name": "stdout",
     "output_type": "stream",
     "text": [
      "기상청 육상 중기예보\n",
      "기상청 육상 중기예보\n",
      "<wf><![CDATA[○ (강수) 27일(수) 중부지방에 비가 오겠습니다.<br />○ (기온) 아침 기온은 11~23도, 낮 기온은 23~28도로 평년(최저기온 11~18도, 최고기온 22~26도)과 비슷하거나 조금 높겠습니다.<br /><br />* 이번 예보기간에는 우리나라 주변 기압계에 따라 강수 시점과 지역이 변경될 가능성이 있겠으니, 앞으로 발표되는 예보를 참고하기 바랍니다.]]></wf>\n",
      "○ (강수) 27일(수) 중부지방에 비가 오겠습니다.<br />○ (기온) 아침 기온은 11~23도, 낮 기온은 23~28도로 평년(최저기온 11~18도, 최고기온 22~26도)과 비슷하거나 조금 높겠습니다.<br /><br />* 이번 예보기간에는 우리나라 주변 기압계에 따라 강수 시점과 지역이 변경될 가능성이 있겠으니, 앞으로 발표되는 예보를 참고하기 바랍니다.\n"
     ]
    }
   ],
   "source": [
    "import urllib.request as req # 스크래핑\n",
    "from bs4 import BeautifulSoup # 크롤링\n",
    "url = \"http://www.kma.go.kr/weather/forecast/mid-term-rss3.jsp\"\n",
    "mem = req.urlopen(url).read()  # byte\n",
    "#print(mem)\n",
    "# 크롤링\n",
    "soup = BeautifulSoup(mem, 'html.parser')\n",
    "title = soup.title.string\n",
    "print(title)\n",
    "title = soup.find('title')\n",
    "print(title.string)\n",
    "wf = soup.find('wf')\n",
    "print(wf)\n",
    "print(wf.string)"
   ]
  },
  {
   "cell_type": "code",
   "execution_count": 74,
   "id": "65c00f93",
   "metadata": {
    "scrolled": true
   },
   "outputs": [
    {
     "name": "stdout",
     "output_type": "stream",
     "text": [
      "위키북스 도서1111111\n",
      "위키북스 도서1111111\n",
      "<div id=\"meigen\">\n",
      "<h1>위키북스 도서</h1>\n",
      "<ul class=\"items\">\n",
      "<li>유니티 게임 이펙트 입문</li>\n",
      "<li>스위프트로 시작하는 아이폰 앱 개발 교과서</li>\n",
      "<li>모던 웹사이트 디자인의 정석</li>\n",
      "</ul>\n",
      "</div>\n",
      "위키북스 도서\n",
      "위키북스 도서\n",
      "유니티 게임 이펙트 입문\n",
      "유니티 게임 이펙트 입문\n",
      "[<li>유니티 게임 이펙트 입문</li>, <li>스위프트로 시작하는 아이폰 앱 개발 교과서</li>, <li>모던 웹사이트 디자인의 정석</li>]\n",
      "유니티 게임 이펙트 입문\n",
      "스위프트로 시작하는 아이폰 앱 개발 교과서\n",
      "모던 웹사이트 디자인의 정석\n"
     ]
    }
   ],
   "source": [
    "from bs4 import BeautifulSoup\n",
    "text = \"\"\"\n",
    "<html><body>\n",
    "<h1>위키북스 도서1111111</h1>\n",
    "<div>\n",
    "    <h1>이숭무</h1>\n",
    "</div>\n",
    "<div id=\"meigen\">\n",
    "  <h1>위키북스 도서</h1>\n",
    "  <ul class=\"items\">\n",
    "    <li>유니티 게임 이펙트 입문</li>\n",
    "    <li>스위프트로 시작하는 아이폰 앱 개발 교과서</li>\n",
    "    <li>모던 웹사이트 디자인의 정석</li>\n",
    "  </ul>\n",
    "</div>\n",
    "</body></html>\n",
    "\"\"\"\n",
    "soup = BeautifulSoup(text, \"html.parser\")\n",
    "h1 = soup.html.h1\n",
    "print(h1.string)\n",
    "h2 = soup.find('h1')\n",
    "print(h2.string)\n",
    "id1 = soup.find(id='meigen')\n",
    "print(id1)\n",
    "id1 = soup.find(id='meigen').find('h1')\n",
    "print(id1.string)\n",
    "### selector(선택자)를 이용한 크롤링\n",
    "h12 = soup.select_one('div#meigen > h1')\n",
    "print(h12.string)\n",
    "li1 = soup.select_one('div#meigen > ul > li')\n",
    "print(li1.string)\n",
    "li1 = soup.select_one('div#meigen > ul.items > li')\n",
    "print(li1.string)\n",
    "lis = soup.select('div#meigen > ul.items > li') # 리스트\n",
    "print(lis)\n",
    "for li in lis:\n",
    "    print(li.string)"
   ]
  },
  {
   "cell_type": "code",
   "execution_count": 88,
   "id": "1c8b8d9a",
   "metadata": {},
   "outputs": [
    {
     "name": "stdout",
     "output_type": "stream",
     "text": [
      "1,336.50\n",
      "1,336.50\n",
      "900.67\n",
      "1,422.70\n",
      "183.09\n",
      "148.0800\n",
      "1.0657\n",
      "1.2263\n",
      "105.2600\n",
      "90.03\n",
      "1785.02\n",
      "1945.6\n",
      "82672.94\n"
     ]
    }
   ],
   "source": [
    "import urllib.request as req # 스크래핑\n",
    "from bs4 import BeautifulSoup # 크롤링\n",
    "# 스크래핑\n",
    "url = \"https://finance.naver.com/marketindex/\";\n",
    "res = req.urlopen(url)\n",
    "# 크롤링\n",
    "soup = BeautifulSoup(res, 'html.parser')\n",
    "pri = soup.select_one('#exchangeList > li.on > a.head.usd > div > span.value')\n",
    "print(pri.string)\n",
    "prices = soup.select('div > span.value')\n",
    "#print(prices)\n",
    "for price in prices:\n",
    "    print(price.string)"
   ]
  },
  {
   "cell_type": "code",
   "execution_count": 110,
   "id": "d24a9b6d",
   "metadata": {},
   "outputs": [
    {
     "data": {
      "image/png": "[encoded data removed]",
      "text/plain": [
       "<Figure size 1200x400 with 1 Axes>"
      ]
     },
     "metadata": {},
     "output_type": "display_data"
    }
   ],
   "source": [
    "# 데이터분석\n",
    "import requests # 스크래핑\n",
    "from bs4 import BeautifulSoup # 크롤링\n",
    "import pandas # 데이터분석\n",
    "import matplotlib as mpl # 시각화\n",
    "import matplotlib.pyplot as plt # 시각화\n",
    "# 스크래핑\n",
    "url = \"https://www.weather.go.kr/w/obs-climate/land/city-obs.do\"\n",
    "source = requests.get(url)\n",
    "#print(source)\n",
    "\n",
    "# 크롤링\n",
    "soup = BeautifulSoup(source.content , 'html.parser')\n",
    "table = soup.find('table',{'class':'table-col'})\n",
    "#print(table)\n",
    "data = [] \n",
    "for tr in table.find_all('tr'):\n",
    "    tds = list(tr.find_all('td'))\n",
    "    #print(tds)\n",
    "    for td in tds:\n",
    "        if td.find('a'):\n",
    "            point = td.find('a').text\n",
    "            temp = tds[5].string\n",
    "            humidity = tds[9].string\n",
    "            data.append([point,temp,humidity])\n",
    "#print(data)\n",
    "#데이터 처리\n",
    "with open('weather.csv','w',  encoding='utf-8') as f:\n",
    "    f.write('지역,온도,습도\\n')\n",
    "    for i in data:\n",
    "        f.write(\"{0},{1},{2}\\n\".format(i[0],i[1],i[2]))\n",
    "#데이터 분석\n",
    "df = pandas.read_csv('weather.csv', index_col =\"지역\", encoding=\"utf-8\")\n",
    "city_df = df.loc[['서울','인천','대전','대구','광주','부산','울산']]\n",
    "#시각화\n",
    "font_name = mpl.font_manager.FontProperties(fname=\"C:\\Windows\\Fonts\\malgun.ttf\").get_name()\n",
    "mpl.rc('font', family=font_name)\n",
    "\n",
    "ax  = city_df.plot(kind='bar', title='날씨', figsize=(12,4))\n",
    "plt.show()\n"
   ]
  },
  {
   "cell_type": "code",
   "execution_count": 146,
   "id": "077ae6d5",
   "metadata": {},
   "outputs": [
    {
     "name": "stdout",
     "output_type": "stream",
     "text": [
      "7\n"
     ]
    }
   ],
   "source": [
    "# numpy\n",
    "#!pip install numpy\n",
    "# python 자료형 : 정수, 실수, 문자열, 리스트, 튜플, 딕셔너리, 집합, 부울\n",
    "# numpy : 배열 자료형 : 숫자만 다루는 자료형 , numeric python\n",
    "import numpy\n",
    "num = numpy.random.randint(10) # 0 ~ 9\n",
    "print(num)"
   ]
  },
  {
   "cell_type": "code",
   "execution_count": 147,
   "id": "29bd280f",
   "metadata": {},
   "outputs": [
    {
     "name": "stdout",
     "output_type": "stream",
     "text": [
      "9\n"
     ]
    }
   ],
   "source": [
    "import numpy as np\n",
    "num = np.random.randint(10)\n",
    "print(num)"
   ]
  },
  {
   "cell_type": "code",
   "execution_count": 148,
   "id": "a5db0f02",
   "metadata": {},
   "outputs": [
    {
     "name": "stdout",
     "output_type": "stream",
     "text": [
      "[2 1 2 2 0 3]\n"
     ]
    }
   ],
   "source": [
    "# 1차원배열\n",
    "num = np.random.randint(10, size=6)\n",
    "print(num)"
   ]
  },
  {
   "cell_type": "code",
   "execution_count": 149,
   "id": "096854ef",
   "metadata": {},
   "outputs": [
    {
     "name": "stdout",
     "output_type": "stream",
     "text": [
      "[2, 1, 2, 2, 0, 3]\n",
      "[2 1 2 2 0 3]\n"
     ]
    }
   ],
   "source": [
    "l = [2, 1, 2, 2, 0, 3]\n",
    "print(l)\n",
    "print(num)"
   ]
  },
  {
   "cell_type": "code",
   "execution_count": 151,
   "id": "4238036b",
   "metadata": {},
   "outputs": [
    {
     "name": "stdout",
     "output_type": "stream",
     "text": [
      "1\n",
      "1\n",
      "[2, 2]\n",
      "[2 2]\n"
     ]
    }
   ],
   "source": [
    "# 리스트 : [2, 1, 2, 2, 0, 3]\n",
    "#          0  1  2  3  4  5\n",
    "# 배열 :   [2  1  2  2  0  3]\n",
    "#          0  1  2  3  4  5\n",
    "print(l[1]) # 리스트\n",
    "print(num[1]) # 배열\n",
    "\n",
    "print(l[2:4]) # 리스트\n",
    "print(num[2:4]) # 배열"
   ]
  },
  {
   "cell_type": "code",
   "execution_count": 153,
   "id": "c76551ce",
   "metadata": {},
   "outputs": [
    {
     "name": "stdout",
     "output_type": "stream",
     "text": [
      "[[4 0 3 2 5 2]\n",
      " [0 2 9 8 1 9]]\n"
     ]
    }
   ],
   "source": [
    "# 2차원 배열\n",
    "num2 = np.random.randint(10, size=(2, 6))\n",
    "print(num2)"
   ]
  },
  {
   "cell_type": "code",
   "execution_count": 154,
   "id": "ca27674e",
   "metadata": {},
   "outputs": [
    {
     "name": "stdout",
     "output_type": "stream",
     "text": [
      "[[4, 0, 3, 2, 5, 2], [0, 2, 9, 8, 1, 9]]\n"
     ]
    }
   ],
   "source": [
    "l2 = [[4, 0, 3, 2, 5, 2],[0, 2, 9, 8, 1, 9]]\n",
    "print(l2)"
   ]
  },
  {
   "cell_type": "code",
   "execution_count": 157,
   "id": "5e6eedc8",
   "metadata": {},
   "outputs": [
    {
     "name": "stdout",
     "output_type": "stream",
     "text": [
      "[[4 0 3 2 5 2]\n",
      " [0 2 9 8 1 9]]\n",
      "[2 1 2 2 0 3]\n",
      "[2, 1, 2, 2, 0, 3]\n",
      "[[4, 0, 3, 2, 5, 2], [0, 2, 9, 8, 1, 9]]\n"
     ]
    }
   ],
   "source": [
    "print(num2)\n",
    "print(num)\n",
    "print(l)\n",
    "print(l2)"
   ]
  },
  {
   "cell_type": "code",
   "execution_count": 164,
   "id": "5c34d199",
   "metadata": {},
   "outputs": [
    {
     "name": "stdout",
     "output_type": "stream",
     "text": [
      "[0, 2, 9, 8, 1, 9]\n",
      "[0 2 9 8 1 9]\n",
      "9\n",
      "9\n",
      "9\n"
     ]
    }
   ],
   "source": [
    "#[[4  0  3  2  5  2]  [0  2  9  8  1  9]] # 배열\n",
    "#        0행                  1행\n",
    "#  0  1  2  3  4  5열  0  1  2  3  4  5 열\n",
    "#[[4, 0, 3, 2, 5, 2], [0, 2, 9, 8, 1, 9]] # 리스트\n",
    "#        0index               1index\n",
    "#  0  1  2  3  4  5    0  1  2  3  4  5 index\n",
    "print(l2[1])\n",
    "print(num2[1])\n",
    "print(l2[1][2])\n",
    "# print(l2[1 ,2]) x\n",
    "print(num2[1][2])\n",
    "print(num2[1 , 2]) # [행,열]"
   ]
  },
  {
   "cell_type": "code",
   "execution_count": 178,
   "id": "6ff130fc",
   "metadata": {},
   "outputs": [
    {
     "name": "stdout",
     "output_type": "stream",
     "text": [
      "[2 1 2 2 0 3]\n",
      "[2, 1, 2, 20, 0, 3]\n",
      "1\n",
      "1\n",
      "[2, 20]\n",
      "[2 2]\n",
      "[2, 2, 0]\n",
      "[2 2 0]\n",
      "[2, 1, 2, 20, 0, 3]\n",
      "[2, 1, 2, 20, 0, 3]\n",
      "[2 1 2 2 0 3]\n",
      "[3, 0, 20, 2, 1, 2]\n",
      "[3 0 2 2 1 2]\n",
      "20\n",
      "[2, 1, 2, 20, 0, 3]\n",
      "2\n",
      "[ 2  1  2 20  0  3]\n"
     ]
    }
   ],
   "source": [
    "print(num)\n",
    "print(l)\n",
    "# [2 1 2 2 0 3]\n",
    "#  0 1 2 3 4 5\n",
    "# -6 5 4 3 2 1\n",
    "# [2, 1, 2, 2, 0, 3]\n",
    "#  0  1  2  3  4  5\n",
    "# -6  5  4  3  2  1\n",
    "print(l[-5])\n",
    "print(num[-5])\n",
    "print(l[2:4])\n",
    "print(num[2:4])\n",
    "print(l[::2])\n",
    "print(num[::2])\n",
    "print(l)\n",
    "print(l[:])\n",
    "print(num[:])\n",
    "print(l[::-1])\n",
    "print(num[::-1])\n",
    "print(l[3])\n",
    "l[3] = 20\n",
    "print(l)\n",
    "print(num[3])\n",
    "num[3] = 20\n",
    "print(num)"
   ]
  },
  {
   "cell_type": "code",
   "execution_count": 184,
   "id": "524f248b",
   "metadata": {},
   "outputs": [
    {
     "name": "stdout",
     "output_type": "stream",
     "text": [
      "[[4, 0, 3, 2, 5, 2], [0, 2, 9, 8, 1, 9]]\n",
      "[[4 0 3 2 5 2]\n",
      " [0 2 9 8 1 9]]\n",
      "3\n",
      "3\n",
      "3\n",
      "3\n",
      "3\n",
      "3\n"
     ]
    }
   ],
   "source": [
    "print(l2)\n",
    "print(num2)\n",
    "'''\n",
    "[[4, 0, 3, 2, 5, 2], [0, 2, 9, 8, 1, 9]]\n",
    "         0index              1index\n",
    "         -2                  -1\n",
    "  0  1  2  3  4  5    0  1  2  3  4  5 index\n",
    "- 6  5  4  3  2  1   -6  5  4  3  2  1\n",
    "[[4  0  3  2  5  2]  [0  2  9  8  1  9]]\n",
    "         0행                1행\n",
    "         -2                  -1\n",
    "  0  1  2  3  4  5열  0  1  2  3  4  5 열\n",
    "- 6  5  4  3  2  1   -6  5  4  3  2  1\n",
    "'''\n",
    "print(l2[0][2]) #리스트\n",
    "print(num2[0][2]) # 리스트\n",
    "print(num2[0, 2]) # 배열\n",
    "print(l2[-2][-4])\n",
    "print(num2[-2][-4])\n",
    "print(num2[-2 , -4]) # 배열\n",
    "# print(l2[-2 , -4])"
   ]
  },
  {
   "cell_type": "code",
   "execution_count": 185,
   "id": "23cc726f",
   "metadata": {},
   "outputs": [
    {
     "name": "stdout",
     "output_type": "stream",
     "text": [
      "[[0 4 3 0]\n",
      " [9 7 9 3]\n",
      " [6 6 6 6]]\n"
     ]
    }
   ],
   "source": [
    "num3 = np.random.randint(10, size=(3,4))\n",
    "print(num3)"
   ]
  },
  {
   "cell_type": "code",
   "execution_count": 189,
   "id": "b6e19d74",
   "metadata": {},
   "outputs": [
    {
     "name": "stdout",
     "output_type": "stream",
     "text": [
      "[[0, 4, 3, 0], [9, 7, 9, 3], [6, 6, 6, 6]]\n"
     ]
    }
   ],
   "source": [
    "l3 = [[0, 4, 3, 0],\n",
    " [9, 7, 9, 3],\n",
    " [6, 6, 6, 6]]\n",
    "print(l3)"
   ]
  },
  {
   "cell_type": "code",
   "execution_count": 215,
   "id": "fb27641d",
   "metadata": {},
   "outputs": [
    {
     "name": "stdout",
     "output_type": "stream",
     "text": [
      "[0, 4, 3, 0]\n",
      "[0 4 3 0]\n",
      "[9, 7, 9]\n",
      "[9 7 9]\n",
      "[9 7 9]\n",
      "[[0, 4, 3, 0], [9, 7, 9, 3]]\n",
      "[[0 4 3 0]\n",
      " [9 7 9 3]]\n",
      "[[0 4]\n",
      " [9 7]]\n",
      "[0, 4, 3, 0]\n",
      "[0 4 3 0]\n",
      "[0, 4, 3, 0]\n",
      "[0 4 3 0]\n",
      "[0 9]\n",
      "[[0, 4, 3, 0], [9, 7, 9, 3], [6, 6, 6, 6]]\n",
      "[[0 4 3 0]\n",
      " [9 7 9 3]\n",
      " [6 6 6 6]]\n",
      "[[0 4 3 0]\n",
      " [9 7 9 3]\n",
      " [6 6 6 6]]\n",
      "[0 3 6]\n",
      "[0 9 6]\n",
      "[[0 3]\n",
      " [9 9]\n",
      " [6 6]]\n",
      "[[0 4 3 0]\n",
      " [6 6 6 6]]\n",
      "[[0 3]\n",
      " [6 6]]\n",
      "[[0 3 4 0]\n",
      " [3 9 7 9]\n",
      " [6 6 6 6]]\n",
      "[[6 6 6 6]\n",
      " [9 7 9 3]\n",
      " [0 4 3 0]]\n",
      "[[6 6 6 6]\n",
      " [3 9 7 9]\n",
      " [0 3 4 0]]\n"
     ]
    }
   ],
   "source": [
    "'''\n",
    "  0  1  2  3열\n",
    "[[0  4  3  0]    0행   : 1차원\n",
    " [9  7  9  3]    1행\n",
    " [6  6  6  6]]   2행\n",
    " \n",
    "  0  1  2  3index\n",
    "[[0, 4, 3, 0],  0index\n",
    " [9, 7, 9, 3],  1index\n",
    " [6, 6, 6, 6]]  2index\n",
    "'''\n",
    "print(l3[0])\n",
    "print(num3[0])\n",
    "print(l3[1][0:3])\n",
    "print(num3[1][0:3])\n",
    "print(num3[1, 0:3])\n",
    "print(l3[0:2][0:2])\n",
    "print(num3[0:2][0:2])\n",
    "print(num3[0:2, 0:2])\n",
    "print(l3[0])\n",
    "print(num3[0])\n",
    "print(l3[0:2][0])\n",
    "print(num3[0:2][0])\n",
    "print(num3[0:2, 0])\n",
    "print(l3[:][:])\n",
    "print(num3[:][:])\n",
    "print(num3[: , :])\n",
    "#print(l3[:][3])\n",
    "#print(num3[:][3])\n",
    "print(num3[: , 3])\n",
    "print(num3[:,  0])\n",
    "print(num3[: , :: 2])\n",
    "print(num3[::2 , :])\n",
    "print(num3[::2, ::2])\n",
    "print(num3[:, ::-1])\n",
    "print(num3[::-1, :])\n",
    "print(num3[::-1, ::-1])"
   ]
  },
  {
   "cell_type": "code",
   "execution_count": 218,
   "id": "fae7b920",
   "metadata": {},
   "outputs": [
    {
     "name": "stdout",
     "output_type": "stream",
     "text": [
      "[[ 0  4  3  0]\n",
      " [ 9  7 90  3]\n",
      " [ 6  6  6  6]]\n",
      "[[ 0  4  3  0]\n",
      " [ 9  7 90  3]\n",
      " [ 6  6  6  6]]\n",
      "[[ 0  4  3  0]\n",
      " [ 9  7 90 90]\n",
      " [ 6  6  6  6]]\n"
     ]
    }
   ],
   "source": [
    "print(num3)\n",
    "num3[1][2]= 90\n",
    "print(num3)\n",
    "num3[1, 3]= 90\n",
    "print(num3)"
   ]
  },
  {
   "cell_type": "code",
   "execution_count": 227,
   "id": "93582b99",
   "metadata": {},
   "outputs": [
    {
     "name": "stdout",
     "output_type": "stream",
     "text": [
      "[8 7 6 2 8 7]\n",
      "[[0 3 6 2]\n",
      " [6 8 8 1]\n",
      " [4 9 4 4]]\n"
     ]
    }
   ],
   "source": [
    "### 배열을 만드는 방법\n",
    "#1. random객체를 사용하는 방법\n",
    "num = np.random.randint(10, size=6)\n",
    "print(num)\n",
    "i = np.random.randint(10, size=(3,4))\n",
    "print(i)"
   ]
  },
  {
   "cell_type": "code",
   "execution_count": 239,
   "id": "271170cd",
   "metadata": {},
   "outputs": [
    {
     "name": "stdout",
     "output_type": "stream",
     "text": [
      "[0 1 2 3 4 5 6 7 8]\n",
      "[0 1 2 3 4 5 6 7 8]\n",
      "[[0 1 2]\n",
      " [3 4 5]\n",
      " [6 7 8]]\n",
      "[[ 0  1  2  3]\n",
      " [ 4  5  6  7]\n",
      " [ 8  9 10 11]]\n",
      "[[ 0  1  2]\n",
      " [ 3  4  5]\n",
      " [ 6  7  8]\n",
      " [ 9 10 11]]\n",
      "[[11 12 13]\n",
      " [14 15 16]\n",
      " [17 18 19]]\n",
      "[[1 2 3]]\n",
      "[[1]\n",
      " [2]\n",
      " [3]]\n"
     ]
    }
   ],
   "source": [
    "# 2. arange()함수를 사용하는 방법\n",
    "print(np.arange(9))\n",
    "i2 = np.arange(9) # 1차원 배열를 만들 때 사용\n",
    "print(i2)\n",
    "i3 = np.arange(9).reshape(3,3)\n",
    "print(i3)\n",
    "i4 = np.arange(12).reshape(3,4)\n",
    "print(i4)\n",
    "i4 = np.arange(12).reshape(4,3)\n",
    "print(i4)\n",
    "#i4 = np.arange(11) # 2차원배열로 재배치할 수는 없다.\n",
    "i5 = np.arange(11,20).reshape(3,3)\n",
    "print(i5)\n",
    "i6 = np.arange(1,4).reshape(1,3)\n",
    "print(i6)\n",
    "i7 = np.arange(1,4).reshape(3,1)\n",
    "print(i7)"
   ]
  },
  {
   "cell_type": "code",
   "execution_count": 247,
   "id": "df3d6bd8",
   "metadata": {},
   "outputs": [
    {
     "name": "stdout",
     "output_type": "stream",
     "text": [
      "[2 5 7]\n",
      "[2 5 7]\n",
      "[[1 2 3]\n",
      " [4 5 6]\n",
      " [7 8 9]]\n",
      "[[ 1.  2.  3.]\n",
      " [ 4.  5.  6.]\n",
      " [ 7.  8. nan]]\n",
      "[[[1 2 3]\n",
      "  [4 5 6]\n",
      "  [7 8 9]]\n",
      "\n",
      " [[1 2 3]\n",
      "  [4 5 6]\n",
      "  [7 8 9]]\n",
      "\n",
      " [[1 2 3]\n",
      "  [4 5 6]\n",
      "  [7 8 9]]]\n",
      "6\n"
     ]
    }
   ],
   "source": [
    "#3. array()함수를 사용하는 방법 , 리스트와 튜플\n",
    "i9 = np.array([2,5,7])\n",
    "print(i9)\n",
    "i10 = np.array((2,5,7))\n",
    "print(i10)\n",
    "i11 = np.array([[1,2,3],[4,5,6],[7,8,9]])\n",
    "print(i11)\n",
    "i12 = np.array([[1,2,3],[4,5,6],[7,8,np.NaN]])\n",
    "print(i12)\n",
    "# np.NaN : 결측치 : 값이 없다는 말은 아님, 숫자가 아니기 때문에 값을 모름\n",
    "# Not a Number      0행     1행     2행     \n",
    "i13 = np.array([[[1,2,3],[4,5,6],[7,8,9]], # 0면\n",
    "               [[1,2,3],[4,5,6],[7,8,9]],  # 1면\n",
    "               [[1,2,3],[4,5,6],[7,8,9]]]) # 2면\n",
    "print(i13)\n",
    "print(i13[0,1,2]) # [면, 행 , 열 ] "
   ]
  },
  {
   "cell_type": "code",
   "execution_count": 250,
   "id": "aaa59135",
   "metadata": {},
   "outputs": [
    {
     "name": "stdout",
     "output_type": "stream",
     "text": [
      "[1, 2, 3, 3, 2, 1]\n",
      "[4 4 4]\n"
     ]
    }
   ],
   "source": [
    "l11 = [1,2,3]\n",
    "l12 = [3,2,1]\n",
    "result = l11 + l12 # + :연결연산자\n",
    "print(result)\n",
    "x = np.array([1, 2, 3])\n",
    "y = np.array([3, 2, 1])\n",
    "z = x + y # + :덧셈연산\n",
    "print(z)"
   ]
  },
  {
   "cell_type": "code",
   "execution_count": 257,
   "id": "2be4bd99",
   "metadata": {},
   "outputs": [
    {
     "name": "stdout",
     "output_type": "stream",
     "text": [
      "[1 2 3 3 2 1]\n",
      "[ 1  2  3  3  2  1 99 99 99]\n",
      "[ 1  2  3  3  2  1 99 99 99]\n",
      "[1 2 3 4 5 6 7 8 9]\n"
     ]
    }
   ],
   "source": [
    "#  배열을 확장하기 : concatenate()\n",
    "# 1차원 배열\n",
    "z = np.concatenate((x, y))\n",
    "print(z)\n",
    "v = [99,99,99] \n",
    "z = np.concatenate((x, y, v))\n",
    "print(z)\n",
    "z = np.concatenate(([1, 2, 3], [3, 2, 1], v))\n",
    "print(z)\n",
    "l1 = [1,2,3]\n",
    "l2 = [4,5,6]\n",
    "l3 = [7,8,9]\n",
    "z = np.concatenate((l1, l2, l3))\n",
    "print(z)"
   ]
  },
  {
   "cell_type": "code",
   "execution_count": 269,
   "id": "f7ddb1d6",
   "metadata": {},
   "outputs": [
    {
     "name": "stdout",
     "output_type": "stream",
     "text": [
      "[[9 8 7]\n",
      " [6 5 4]\n",
      " [9 8 7]\n",
      " [6 5 4]]\n",
      "[[9 8 7]\n",
      " [6 5 4]\n",
      " [9 8 7]\n",
      " [6 5 4]]\n",
      "[[9 8 7 9 8 7]\n",
      " [6 5 4 6 5 4]]\n",
      "[[1 2 3]\n",
      " [9 8 7]\n",
      " [6 5 4]]\n",
      "[[9 8 7 1 2]\n",
      " [6 5 4 3 4]]\n"
     ]
    }
   ],
   "source": [
    "# 2차원 배열 붙이기\n",
    "x2 = np.array([1, 2, 3])   # 1차원 배열\n",
    "grid = np.array([[9, 8, 7], \n",
    "                 [6, 5, 4]]) # 2차원 배열\n",
    "grid1 = np.array([[9, 8, 7], \n",
    "                 [6, 5, 4]]) # 2차원 배열\n",
    "# 차원이 다르면 concatenate함수를 사용할 수 없다.\n",
    "# z = np.concatenate((x2,grid) ,axis = 0 )\n",
    "z = np.concatenate((grid, grid1))\n",
    "print(z)\n",
    "z = np.concatenate((grid, grid1) , axis = 0) # 열기준 , x축기준\n",
    "print(z)\n",
    "z = np.concatenate((grid, grid1) , axis = 1) # 행기준 , y축기준\n",
    "print(z)\n",
    "# 차원이 다른 경우 vstack(열의 차원이 일치),  hstack(행의 차원이 일치)\n",
    "z = np.vstack((x2, grid))\n",
    "print(z)\n",
    "grid3 = np.array([[1,2],[3,4]])\n",
    "z = np.hstack((grid,grid3))\n",
    "print(z)"
   ]
  },
  {
   "cell_type": "code",
   "execution_count": 276,
   "id": "4bc4dcee",
   "metadata": {},
   "outputs": [
    {
     "name": "stdout",
     "output_type": "stream",
     "text": [
      "[1, 2, 3]\n",
      "[3, 2, 1]\n",
      "[1, 2, 3, 3, 2, 1]\n",
      "[1 2 3]\n",
      "[3 2 1]\n",
      "[4 4 4]\n"
     ]
    }
   ],
   "source": [
    "print(l11)\n",
    "print(l12)\n",
    "result = l11 + l12\n",
    "print(result)\n",
    "print(x)\n",
    "print(y)\n",
    "z = x + y\n",
    "print(z)"
   ]
  },
  {
   "cell_type": "code",
   "execution_count": 288,
   "id": "9d73bd20",
   "metadata": {},
   "outputs": [
    {
     "name": "stdout",
     "output_type": "stream",
     "text": [
      "[4 4 4]\n",
      "[4 4 4]\n",
      "[-2  0  2]\n",
      "[-2  0  2]\n",
      "[3 4 3]\n",
      "[3 4 3]\n",
      "[0.33333333 1.         3.        ]\n"
     ]
    }
   ],
   "source": [
    "# 유니버설 함수(UFuncs)\n",
    "z  = x + y\n",
    "print(z)\n",
    "z  = np.add(x,y)\n",
    "print(z)\n",
    "z = x - y\n",
    "print(z)\n",
    "z = np.subtract(x , y)\n",
    "print(z)\n",
    "z = x * y\n",
    "print(z)\n",
    "z  = np.multiply(x , y)\n",
    "print(z)\n",
    "z  = x / y\n",
    "z = np.divide(x, y)\n",
    "print(z)"
   ]
  },
  {
   "cell_type": "code",
   "execution_count": 282,
   "id": "092c378b",
   "metadata": {},
   "outputs": [],
   "source": [
    "def add(l1, l2):\n",
    "    l4 = []\n",
    "    i = 0\n",
    "    while i < len(l1):\n",
    "        l4.append(l1[i]+l2[i])\n",
    "        i+=1\n",
    "    return l4"
   ]
  },
  {
   "cell_type": "code",
   "execution_count": 283,
   "id": "a47d4e1f",
   "metadata": {},
   "outputs": [
    {
     "name": "stdout",
     "output_type": "stream",
     "text": [
      "[4, 4, 4]\n"
     ]
    }
   ],
   "source": [
    "result = add(l11 , l12)\n",
    "print(result)"
   ]
  },
  {
   "cell_type": "code",
   "execution_count": 286,
   "id": "ea0ba7ce",
   "metadata": {},
   "outputs": [],
   "source": [
    "def multiply(l1, l2):\n",
    "    l4 = []\n",
    "    i = 0\n",
    "    while i < len(l1):\n",
    "        l4.append(l1[i] * l2[i])\n",
    "        i+=1\n",
    "    return l4"
   ]
  },
  {
   "cell_type": "code",
   "execution_count": 287,
   "id": "9f255482",
   "metadata": {},
   "outputs": [
    {
     "name": "stdout",
     "output_type": "stream",
     "text": [
      "[3, 4, 3]\n"
     ]
    }
   ],
   "source": [
    "result = multiply(l11,l12)\n",
    "print(result)"
   ]
  },
  {
   "cell_type": "code",
   "execution_count": 294,
   "id": "3191f6d7",
   "metadata": {},
   "outputs": [
    {
     "name": "stdout",
     "output_type": "stream",
     "text": [
      "[0 1 2]\n",
      "[5 6 7]\n"
     ]
    }
   ],
   "source": [
    "# 브로드케스팅\n",
    "a  = np.arange(3)\n",
    "print(a)\n",
    "z  = a + 5 # 차원이 같게 확장이 되는 것\n",
    "print(z)\n"
   ]
  },
  {
   "cell_type": "code",
   "execution_count": null,
   "id": "f76d5505",
   "metadata": {},
   "outputs": [],
   "source": []
  },
  {
   "cell_type": "code",
   "execution_count": null,
   "id": "0fc971a9",
   "metadata": {},
   "outputs": [],
   "source": []
  },
  {
   "cell_type": "code",
   "execution_count": null,
   "id": "c19eb4ba",
   "metadata": {},
   "outputs": [],
   "source": []
  },
  {
   "cell_type": "code",
   "execution_count": null,
   "id": "f0be4160",
   "metadata": {},
   "outputs": [],
   "source": []
  },
  {
   "cell_type": "code",
   "execution_count": null,
   "id": "d4134514",
   "metadata": {},
   "outputs": [],
   "source": []
  },
  {
   "cell_type": "code",
   "execution_count": null,
   "id": "51bf3f7d",
   "metadata": {},
   "outputs": [],
   "source": []
  },
  {
   "cell_type": "code",
   "execution_count": null,
   "id": "7df2fbe7",
   "metadata": {},
   "outputs": [],
   "source": []
  },
  {
   "cell_type": "code",
   "execution_count": null,
   "id": "74a9eb83",
   "metadata": {},
   "outputs": [],
   "source": []
  }
 ],
 "metadata": {
  "kernelspec": {
   "display_name": "Python 3 (ipykernel)",
   "language": "python",
   "name": "python3"
  },
  "language_info": {
   "codemirror_mode": {
    "name": "ipython",
    "version": 3
   },
   "file_extension": ".py",
   "mimetype": "text/x-python",
   "name": "python",
   "nbconvert_exporter": "python",
   "pygments_lexer": "ipython3",
   "version": "3.11.4"
  }
 },
 "nbformat": 4,
 "nbformat_minor": 5
}
