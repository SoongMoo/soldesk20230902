{
 "cells": [
  {
   "cell_type": "code",
   "execution_count": 59,
   "id": "202042cb",
   "metadata": {},
   "outputs": [
    {
     "name": "stderr",
     "output_type": "stream",
     "text": [
      "C:\\Users\\soldesk\\AppData\\Local\\Temp\\ipykernel_11496\\3446977589.py:1: DeprecationWarning: Importing display from IPython.core.display is deprecated since IPython 7.14, please import from IPython display\n",
      "  from IPython.core.display import display, HTML\n"
     ]
    },
    {
     "data": {
      "text/html": [
       "<style>\n",
       "div.container { width:100% !important; }\n",
       "div.CodeMirror {font-family: Consolas; font-size: 30pt;}\n",
       "div.output { font-size: 20pt; font-weight: bold;}\n",
       "div.input { font-family: Consolas; font-size: 30pt;}\n",
       "div.prompt { min-width: 100px;}\n",
       "</style>\n"
      ],
      "text/plain": [
       "<IPython.core.display.HTML object>"
      ]
     },
     "metadata": {},
     "output_type": "display_data"
    }
   ],
   "source": [
    "\n",
    "from IPython.core.display import display, HTML\n",
    "display(HTML(\n",
    "\"\"\"<style>\n",
    "div.container { width:100% !important; }\n",
    "div.CodeMirror {font-family: Consolas; font-size: 30pt;}\n",
    "div.output { font-size: 20pt; font-weight: bold;}\n",
    "div.input { font-family: Consolas; font-size: 30pt;}\n",
    "div.prompt { min-width: 100px;}\n",
    "</style>\n",
    "\"\"\"))"
   ]
  },
  {
   "cell_type": "code",
   "execution_count": null,
   "id": "5fca7e25",
   "metadata": {},
   "outputs": [],
   "source": [
    "> pip install jupyter\n",
    "> jupyter notebook"
   ]
  },
  {
   "cell_type": "code",
   "execution_count": 22,
   "id": "588f4d26",
   "metadata": {},
   "outputs": [
    {
     "name": "stdout",
     "output_type": "stream",
     "text": [
      "8\n",
      "hello python\n"
     ]
    }
   ],
   "source": [
    "# 파이썬은 행단위 명령어 , 줄바꿈을 할 수 없다.\n",
    "print(3 + 5)\n",
    "print(\"hello python\")"
   ]
  },
  {
   "cell_type": "code",
   "execution_count": 23,
   "id": "40be6e01",
   "metadata": {},
   "outputs": [
    {
     "ename": "SyntaxError",
     "evalue": "invalid syntax (2244089431.py, line 1)",
     "output_type": "error",
     "traceback": [
      "\u001b[1;36m  Cell \u001b[1;32mIn[23], line 1\u001b[1;36m\u001b[0m\n\u001b[1;33m    print(3+5) print(\"hello python\")\u001b[0m\n\u001b[1;37m               ^\u001b[0m\n\u001b[1;31mSyntaxError\u001b[0m\u001b[1;31m:\u001b[0m invalid syntax\n"
     ]
    }
   ],
   "source": [
    "print(3+5) print(\"hello python\")"
   ]
  },
  {
   "cell_type": "code",
   "execution_count": 21,
   "id": "9efaeffc",
   "metadata": {},
   "outputs": [
    {
     "name": "stdout",
     "output_type": "stream",
     "text": [
      "8\n",
      "hello python\n",
      "13\n"
     ]
    }
   ],
   "source": [
    "print(3+5); print(\"hello python\"); print(3 +10)"
   ]
  },
  {
   "cell_type": "code",
   "execution_count": 29,
   "id": "3153f7ba",
   "metadata": {},
   "outputs": [
    {
     "name": "stdout",
     "output_type": "stream",
     "text": [
      "10\n",
      "10.5\n",
      "10\n",
      "20\n",
      "10.5\n",
      "30\n"
     ]
    }
   ],
   "source": [
    "# 파이썬 기본 자료형\n",
    "# 리터널 : 숫자 : 정수(10, 21), 실수(10.5, 20.2)\n",
    "#         문자 : a, 김, 이숭무\n",
    "#         논리 : True / False\n",
    "# 10 : 정수리터널\n",
    "print(10)\n",
    "print(10.5)\n",
    "\n",
    "# 변수 : \n",
    "a = 10 # 변수 a : 정수형 변수\n",
    "print(a)\n",
    "a = 20 \n",
    "print(a)\n",
    "a = 10.5 # 실수형 변수\n",
    "print(a)\n",
    "# 변수란 : 리터널 값을 저장하는 문자\n",
    "a = 30 # 정수형 변수\n",
    "print(a)"
   ]
  },
  {
   "cell_type": "code",
   "execution_count": 32,
   "id": "0b89e755",
   "metadata": {},
   "outputs": [
    {
     "name": "stdout",
     "output_type": "stream",
     "text": [
      "10\n"
     ]
    }
   ],
   "source": [
    "aaa = 10\n",
    "# print(aaaa) # name 'aaaa' is not defined\n",
    "print(aaa)"
   ]
  },
  {
   "cell_type": "code",
   "execution_count": 38,
   "id": "37bcbd17",
   "metadata": {},
   "outputs": [
    {
     "name": "stdout",
     "output_type": "stream",
     "text": [
      "20\n",
      "5.0\n",
      "12\n",
      "1\n",
      "3\n",
      "1000\n"
     ]
    }
   ],
   "source": [
    "# 숫자 리터널을 이용한 연산자 : +, -, *, /\n",
    "a = 10 * 2\n",
    "print(a)\n",
    "a = 10 / 2\n",
    "print(a)\n",
    "a = 10 + 2\n",
    "print(a)\n",
    "# 나머지 연산자 : %\n",
    "a = 10 % 3\n",
    "print(a)\n",
    "# 몫 연산자 : //\n",
    "a = 10  // 3\n",
    "print(a)\n",
    "# 제곱승 연산자 : **\n",
    "a = 10 ** 3\n",
    "print(a)\n",
    "## 숫자리터널(정수, 실수) 연산자 : + , -, *, /, %, //,**"
   ]
  },
  {
   "cell_type": "code",
   "execution_count": 51,
   "id": "6a36bc4e",
   "metadata": {},
   "outputs": [
    {
     "name": "stdout",
     "output_type": "stream",
     "text": [
      "a\n",
      "10\n",
      "10\n",
      "김\n",
      "김\n",
      "30\n",
      "1010\n",
      "10\n",
      "10\n",
      "10\n",
      "이숭무\n"
     ]
    }
   ],
   "source": [
    "# 숫자 리터널 : 10, 10.5\n",
    "# 문자 리터널 : 'a', \"김\", '이숭무' , a: 변수, 김:변수\n",
    "#              '10', \"10\"\n",
    "a = 10\n",
    "b = 'a' \n",
    "print(b)\n",
    "b = a\n",
    "print(b)\n",
    "김 = 10\n",
    "print(김)\n",
    "print('김')\n",
    "이숭무 = '김'\n",
    "print(이숭무)\n",
    "a = 10\n",
    "print( a + 20)\n",
    "a = \"10\" \n",
    "#print( a + 20)\n",
    "print(\"10\" + \"10\") # 연결연산자 : +\n",
    "#print(\"10\" - \"10\")\n",
    "print(10) # 정수리터널\n",
    "print(\"10\") #문자리터널\n",
    "print('10') #문자리터널\n",
    "\n",
    "#10 = '김'\n",
    "이10 = '이숭무'\n",
    "print(이10)\n",
    "#10이 = '이' "
   ]
  },
  {
   "cell_type": "code",
   "execution_count": 2,
   "id": "bc21ff73",
   "metadata": {},
   "outputs": [
    {
     "name": "stdout",
     "output_type": "stream",
     "text": [
      "python is fun \n",
      "pythonisfun\n",
      "python is fun\n",
      "Rhee\n",
      "RheeRheeRhee\n"
     ]
    }
   ],
   "source": [
    "# 문자리터널 연산자 :  +, *\n",
    "print(\"python \" + \"is fun \") # + : 연결연산자\n",
    "a = \"python\"\n",
    "b = \"is\"\n",
    "c = \"fun\"\n",
    "print(a+b+c)\n",
    "print(a + \" \" + b + \" \" + c)\n",
    "이숭무 = 'Rhee'\n",
    "print(이숭무)\n",
    "print(이숭무  * 3) # 반복 연산자"
   ]
  },
  {
   "cell_type": "code",
   "execution_count": 71,
   "id": "a5e88a36",
   "metadata": {},
   "outputs": [
    {
     "name": "stdout",
     "output_type": "stream",
     "text": [
      "Life is short, \n",
      " You need python\n",
      "Life is short, \n",
      "You need python\n",
      "Life is short, \n",
      "You need python\n",
      "Life's fun\n",
      "Life's fun , You need python\n",
      "Life's fun , You need python\n",
      "Life is fun , \"You need python\"\n",
      "Life is fun , \"You need python\"\n",
      "Life's fun , 'You need python'\n"
     ]
    }
   ],
   "source": [
    "str1 = \"Life is short, \\n You need python\" # \\:escape문자:\n",
    "print(str1)\n",
    "str1 = \"\"\"Life is short, \n",
    "You need python\"\"\"\n",
    "print(str1)\n",
    "str1 = '''Life is short, \n",
    "You need python'''\n",
    "print(str1)\n",
    "str1 = 'Life\\'s fun'\n",
    "print(str1)\n",
    "## 문자열을 표기할 때 쓰는 기호 : \"a\", 'a', \"\"\"a\"\"\",'''a'''\n",
    "str1 = \"Life's fun , You need python\"\n",
    "print(str1)\n",
    "str1 = 'Life\\'s fun , You need python'\n",
    "print(str1)\n",
    "str1 = \"Life is fun , \\\"You need python\\\"\"\n",
    "print(str1)\n",
    "str1 = 'Life is fun , \"You need python\"'\n",
    "print(str1)\n",
    "str1 = \"Life's fun , 'You need python'\"\n",
    "print(str1)"
   ]
  },
  {
   "cell_type": "code",
   "execution_count": null,
   "id": "63395499",
   "metadata": {},
   "outputs": [],
   "source": [
    "print(\"10\" + str(3)) # int:정수\n",
    "# str(3) ===> \"3\"\n",
    "str = 10\n",
    "print(str)\n",
    "print(\"10\" + str(3))"
   ]
  },
  {
   "cell_type": "code",
   "execution_count": null,
   "id": "3586c65e",
   "metadata": {},
   "outputs": [],
   "source": [
    "del str;"
   ]
  },
  {
   "cell_type": "code",
   "execution_count": 6,
   "id": "8a2dfa70",
   "metadata": {},
   "outputs": [
    {
     "name": "stdout",
     "output_type": "stream",
     "text": [
      "103\n"
     ]
    }
   ],
   "source": [
    "print(\"10\" + str(3))\n",
    "# str:변수, str():함수 : 함수명과 변수명이 같아서는 안된다.\n",
    "###  순차적 프로그래밍언어"
   ]
  },
  {
   "cell_type": "code",
   "execution_count": 20,
   "id": "643f33f3",
   "metadata": {},
   "outputs": [
    {
     "name": "stdout",
     "output_type": "stream",
     "text": [
      "L\n",
      "i\n",
      "t\n",
      "s\n",
      "t\n",
      "17\n",
      "t\n",
      "t\n",
      "e\n",
      "e\n"
     ]
    }
   ],
   "source": [
    "# indexing\n",
    "str1 = \"Life is too short\"\n",
    "#       01234567890123456  # index : 각 문자에 순서대로 부여되는 고유의 번호\n",
    "#                 1\n",
    "print(str1[0])\n",
    "print(str1[5])\n",
    "idx = 8\n",
    "print(str1[idx]) # print(str1[8])\n",
    "idx = 12\n",
    "print(str1[idx]) # print(str1[12])\n",
    "# 마지막문자를 출력\n",
    "print(str1[16])\n",
    "print(len(str1)) # len():크기를 가지고오는 함수\n",
    "print(str1[17-1]) #print(str1[16])\n",
    "print(str1[len(str1)-1])\n",
    "print(str1[3])\n",
    "print(\"Life is too short\"[3])"
   ]
  },
  {
   "cell_type": "code",
   "execution_count": 26,
   "id": "4bbd9b4e",
   "metadata": {},
   "outputs": [
    {
     "name": "stdout",
     "output_type": "stream",
     "text": [
      "t\n",
      "t\n",
      "L\n",
      "L\n",
      "L\n",
      "L\n",
      "i\n",
      "f\n",
      "e\n",
      "Life\n"
     ]
    }
   ],
   "source": [
    "str1 = \"Life is too short\"\n",
    "#       01234567890123456\n",
    "#                 1\n",
    "#      -76543210987654321    : 오른쪽에서 왼쪽으로 가는 index는 -이다.\n",
    "#              1\n",
    "print(str1[16])\n",
    "print(str1[-1])\n",
    "print(str1[0])\n",
    "print(str1[-17])\n",
    "print(str1[-len(str1)])\n",
    "\n",
    "# Life를 출력하자.\n",
    "print(str1[0])\n",
    "print(str1[1])\n",
    "print(str1[2])\n",
    "print(str1[3])\n",
    "print(str1[0]+str1[1]+str1[2]+str1[3])"
   ]
  },
  {
   "cell_type": "code",
   "execution_count": 30,
   "id": "319a349b",
   "metadata": {},
   "outputs": [
    {
     "name": "stdout",
     "output_type": "stream",
     "text": [
      "Life\n",
      "too\n",
      "Life\n",
      "short\n",
      "Life is to\n",
      "fe is too \n"
     ]
    }
   ],
   "source": [
    "#slicing\n",
    "str1 = \"Life is too short\"\n",
    "#       01234567890123456\n",
    "#                 1\n",
    "#      -76543210987654321 \n",
    "#             1\n",
    "print(str1[0:0+4])\n",
    "print(str1[8:8+3])\n",
    "print(str1[0:4]) # 0부터 4번 전까지 가지고오기\n",
    "\n",
    "# short를 출력하세요\n",
    "print(str1[12:12+5]) # 12번부터 17번 전까지\n",
    "#                      start=12 , stop=17\n",
    "\n",
    "# L문자로 부터 10글자를 출력\n",
    "print(str1[0:0+10])\n",
    "\n",
    "start = 2\n",
    "cnt = 10\n",
    "print(str1[start:start+cnt]) # print(str1[2:2+10])"
   ]
  },
  {
   "cell_type": "code",
   "execution_count": 40,
   "id": "f8e47f2d",
   "metadata": {},
   "outputs": [
    {
     "name": "stdout",
     "output_type": "stream",
     "text": [
      "too short\n",
      "too short\n",
      "too short\n",
      "too short\n",
      "\n",
      "too short\n",
      "too\n",
      "too\n",
      "too\n",
      "too\n",
      "too short\n"
     ]
    }
   ],
   "source": [
    "str1 = \"Life is too short\" # index 문자의 위치를 나타내주는 고유의 번호\n",
    "#       01234567890123456\n",
    "#                 1\n",
    "#      -76543210987654321 \n",
    "#              1\n",
    "print(str1[8:17])\n",
    "print(str1[8:len(str1)])\n",
    "print(str1[8:])\n",
    "print(str1[-9:])\n",
    "print(str1[-9:-9+9])  #print(str1[-9:0])\n",
    "print(str1[-9:17])\n",
    "# too\n",
    "print(str1[-9:-9+3])\n",
    "print(str1[-9:-6])\n",
    "print(str1[-9:11])\n",
    "print(str1[8:-6])"
   ]
  },
  {
   "cell_type": "code",
   "execution_count": 43,
   "id": "b29e4215",
   "metadata": {},
   "outputs": [
    {
     "name": "stdout",
     "output_type": "stream",
     "text": [
      "20010331\n",
      "Rainy\n",
      "2001\n",
      "03\n",
      "31\n"
     ]
    }
   ],
   "source": [
    "# 날짜와 이름을 분리하여 출력\n",
    "a = \"20010331Rainy\"\n",
    "#    0123456789012\n",
    "#              1\n",
    "print(a[:0+8])\n",
    "print(a[8:])\n",
    "#년 \n",
    "print(a[:4])\n",
    "#월\n",
    "print(a[4:4+2])\n",
    "#일\n",
    "print(a[6:6+2])\n"
   ]
  },
  {
   "cell_type": "code",
   "execution_count": 51,
   "id": "9ac60434",
   "metadata": {},
   "outputs": [
    {
     "name": "stdout",
     "output_type": "stream",
     "text": [
      "Life is too short\n",
      "Life is too short\n",
      "Lf stosot\n",
      "trohs oot si efiL\n",
      "Lesosr\n",
      "f stos\n",
      "fe is too sh\n",
      "hs oot si ef\n"
     ]
    }
   ],
   "source": [
    "print(str1)\n",
    "print(str1[:])\n",
    "# 하나 건너서 출력\n",
    "print(str1[::2])\n",
    "#reverse \n",
    "print(str1[::-1])\n",
    "# 두개씩 건너서 출력\n",
    "print(str1[::3])\n",
    "# 2번부터 13번까지 하나 건너서 출력\n",
    "print(str1[2:14:2])\n",
    "# 13번부터 2번까지 reverse\n",
    "print(str1[2:14])\n",
    "print(str1[13:1:-1]) "
   ]
  },
  {
   "cell_type": "code",
   "execution_count": 56,
   "id": "7e1bdbd3",
   "metadata": {},
   "outputs": [
    {
     "name": "stdout",
     "output_type": "stream",
     "text": [
      "pithon\n",
      "i\n",
      "10\n",
      "20\n",
      "python\n"
     ]
    }
   ],
   "source": [
    "str1=\"pithon\"\n",
    "print(str1)\n",
    "print(str1[1])\n",
    "a= 10\n",
    "print(a)\n",
    "a = 20\n",
    "print(a)\n",
    "#str1[1] = 'y' #  오류 : 문자열에서는 문자를 수정 할 수 없다\n",
    "print(str1[0:1]+'y'+str1[2:])"
   ]
  },
  {
   "cell_type": "code",
   "execution_count": 62,
   "id": "4ade37aa",
   "metadata": {},
   "outputs": [
    {
     "name": "stdout",
     "output_type": "stream",
     "text": [
      "나의 이름은 이숭무이고 나이는 20살입니다.\n",
      "나의 이름은 이숭무이고 나이는 20살입니다.\n",
      "나의 나이는 30살입니다.\n",
      "나의 나이는 20살입니다.\n",
      "나의 나이는 20살입니다.\n"
     ]
    }
   ],
   "source": [
    "# 문자열 포매팅 : string\n",
    "'나의 이름은 이숭무이고 나이는 20살입니다.'\n",
    "name = '이숭무'\n",
    "age = 20\n",
    "print('나의 이름은 ' + name + '이고 나이는 ' + str(age) + '살입니다.')\n",
    "print('나의 이름은 %s이고 나이는 %d살입니다.' % (name,age))\n",
    "# %s:string:문자열, %d:decimal:정수, %f:float:실수 =>포맷문자\n",
    "print('나의 나이는 30살입니다.')\n",
    "print('나의 나이는 %d살입니다.' % age)\n",
    "print('나의 나이는 %d살입니다.' % (age))"
   ]
  },
  {
   "cell_type": "code",
   "execution_count": 67,
   "id": "3014ff46",
   "metadata": {},
   "outputs": [
    {
     "name": "stdout",
     "output_type": "stream",
     "text": [
      "이숭무의 계좌번호는 1111이고 잔액은 100입니다.\n",
      "이숭무의 계좌번호는 1111이고 잔액은 100입니다.\n"
     ]
    }
   ],
   "source": [
    "'이숭무의 계좌번호는 1111이고 잔액은 100입니다.'\n",
    "name='이숭무'\n",
    "account = '1111'\n",
    "money=100\n",
    "print(name+'의 계좌번호는 '+ account +'이고 잔액은 ' + str(money) + '입니다.')\n",
    "a = '%s의 계좌번호는 %s이고 잔액은 %d입니다.' % (name, account, money)\n",
    "print(a)"
   ]
  },
  {
   "cell_type": "code",
   "execution_count": 73,
   "id": "4ef0310a",
   "metadata": {},
   "outputs": [
    {
     "name": "stdout",
     "output_type": "stream",
     "text": [
      "이숭무의 나이는 20살이고 키는 173.500000입니다\n",
      "이숭무의 나이는 20살이고 키는 173.5입니다\n",
      "이숭무의 나이는 20살이고 키는 173.5000000000입니다\n",
      "이숭무의 나이는 20살이고 키는 173.5입니다\n",
      "이숭무의 나이는 20살이고 키는 173.5입니다\n",
      "이숭무의 나이는 20살이고 키는 173.5입니다\n"
     ]
    }
   ],
   "source": [
    "\"이숭무의 나이는 20살이고 키는 175.3입니다\"\n",
    "height = 173.5\n",
    "print(\"%s의 나이는 %d살이고 키는 %f입니다\"%(name, age, height))\n",
    "print(\"%s의 나이는 %d살이고 키는 %5.1f입니다\"%(name, age, height))\n",
    "print(\"%s의 나이는 %d살이고 키는 %14.10f입니다\"%(name, age, height))\n",
    "print(\"%s의 나이는 %d살이고 키는 %3.1f입니다\"%(name, age, height))\n",
    "print(\"%s의 나이는 %d살이고 키는 %.1f입니다\"%(name, age, height))\n",
    "a= \"%s의 나이는 %s살이고 키는 %s입니다\" % (name, age, height)\n",
    "print(a)"
   ]
  },
  {
   "cell_type": "code",
   "execution_count": 77,
   "id": "e429f286",
   "metadata": {},
   "outputs": [
    {
     "name": "stdout",
     "output_type": "stream",
     "text": [
      "이숭무의 나이는 20        살이고 키는 173.5입니다\n",
      "이숭무의 나이는         20살이고 키는 173.5입니다\n"
     ]
    }
   ],
   "source": [
    "# 정렬 : -는 왼쪽정렬, +는 오른쪽 정렬\n",
    "'이숭무의 나이는 20       살이고 키는 173.5입니다'\n",
    "a = '%s의 나이는 %-10d살이고 키는 %5.1f입니다' % (name, age , height)\n",
    "print(a)\n",
    "a = '%s의 나이는 %10d살이고 키는 %5.1f입니다' % (name, age , height)\n",
    "print(a)"
   ]
  },
  {
   "cell_type": "code",
   "execution_count": 87,
   "id": "db916be0",
   "metadata": {},
   "outputs": [
    {
     "name": "stdout",
     "output_type": "stream",
     "text": [
      "이숭무의 나이는 20살이고 키는 173.550000입니다\n",
      "이숭무의 나이는 20살이고 키는 173.55입니다.\n",
      "이숭무의 나이는 20살이고요 이숭무의 키는 173.550000입니다.\n",
      "이숭무의 나이는 20살이고요 이숭무의 키는 173.55입니다\n"
     ]
    }
   ],
   "source": [
    "# format 함수를 사용한 포매팅\n",
    "# str:변수, str():함수\n",
    "# print(), len(), format()\n",
    "height =  173.55\n",
    "'이숭무의 나이는 20살이고 키는 173.5입니다'\n",
    "print('%s의 나이는 %d살이고 키는 %f입니다'%(name, age, height))\n",
    "print('{0}의 나이는 {1}살이고 키는 {2}입니다.'.format(name, age, height))\n",
    "#                                                    0     1     2   \n",
    "# 이숭무의 나이는 25살이고요 이숭무의 키는 175.3입니다\n",
    "print('%s의 나이는 %d살이고요 %s의 키는 %f입니다.' % \\\n",
    "                           (name, age,name,height))\n",
    "print('{1}의 나이는 {0}살이고요 {1}의 키는 {2}입니다'.\\\n",
    "     format(age,name,height))"
   ]
  },
  {
   "cell_type": "code",
   "execution_count": 97,
   "id": "8eca146a",
   "metadata": {},
   "outputs": [
    {
     "name": "stdout",
     "output_type": "stream",
     "text": [
      "이숭무의 나이는 20살이고 키는 173.55입니다.\n",
      "이숭무의 나이는 20살이고 키는 177.5입니다.\n",
      "이숭무의 나이는 20살이고 키는 177.5입니다.\n",
      "이숭무의 나이는 20살이고 키는 173.55입니다.\n",
      "이숭무의 나이는 20살이고 키는 173.55입니다.\n"
     ]
    }
   ],
   "source": [
    "# format함수에 이름으로 넣기\n",
    "'이숭무의 나이는 20살이고 키는 173.55입니다.'\n",
    "print('{0}의 나이는 {1}살이고 키는 {2}입니다.'.format(name,age,height))\n",
    "print('{0}의 나이는 {1}살이고 키는 {2}입니다.'.format(name,age,177.5))\n",
    "print('{0}의 나이는 {1}살이고 키는 {h}입니다.'.format(name,age,h=177.5))\n",
    "print('{0}의 나이는 {1}살이고 키는 {h}입니다.'.format(name,age,h=height))\n",
    "#print('{0}의 나이는 {a}살이고 키는 {2}입니다.'.format(name,a=age,height))\n",
    "print('{0}의 나이는 {a}살이고 키는 {h}입니다.'.format(name,a=age,h=height))"
   ]
  },
  {
   "cell_type": "code",
   "execution_count": 99,
   "id": "9972b064",
   "metadata": {},
   "outputs": [
    {
     "name": "stdout",
     "output_type": "stream",
     "text": [
      "이숭무의 나이는 20살이고 키는 173.55입니다.\n",
      "이숭무의 나이는 20살이고 키는 173.55입니다.\n"
     ]
    }
   ],
   "source": [
    "# f문자열 포매팅\n",
    "'이숭무의 나이는 20살이고 키는 173.55입니다.'\n",
    "print(f'{name}의 나이는 {age}살이고 키는 {height}입니다.')\n",
    "a = f'{name}의 나이는 {age}살이고 키는 {height}입니다.'\n",
    "print(a)"
   ]
  },
  {
   "cell_type": "code",
   "execution_count": 100,
   "id": "65c55865",
   "metadata": {},
   "outputs": [
    {
     "name": "stdout",
     "output_type": "stream",
     "text": [
      "too\n"
     ]
    }
   ],
   "source": [
    "# 1. 포맷문자를 이용한 포맷팅\n",
    "# 2. format() 함수를 이용한 포맷팅\n",
    "# 3. f문자를 이용한 포맷팅\n",
    "# 문자열 연산자 : +, *\n",
    "# 문자열 추출 : indexing, slicing\n",
    "str1 = \"Life is too short\"\n",
    "#       012345\n",
    "print(str1[8:8+3])"
   ]
  },
  {
   "cell_type": "code",
   "execution_count": 126,
   "id": "78c637ba",
   "metadata": {},
   "outputs": [
    {
     "name": "stdout",
     "output_type": "stream",
     "text": [
      "5\n",
      "5\n",
      "2\n",
      "2\n",
      "too\n",
      "8\n",
      "8\n",
      "too\n",
      "too\n",
      "if\n",
      "if\n",
      "2\n",
      "1\n",
      "5\n",
      "5\n",
      "is\n",
      "5\n",
      "5\n"
     ]
    }
   ],
   "source": [
    "# 문자열 가공 : 문자열 함수\n",
    "# 문자열 표기 : '',\"\",\"\"\"\"\"\",''''''\n",
    "a = \"hobby\"\n",
    "# 길이 함수\n",
    "print(len(a))\n",
    "print(len(\"hobby\"))\n",
    "\n",
    "# 특정문자의 갯수\n",
    "print(a.count(\"b\"))\n",
    "print(str1.count('i'))\n",
    "\n",
    "# 문자의 index를 가져오기\n",
    "# str1에서 too를 출력\n",
    "print(str1[8:8+3])\n",
    "print(str1.index('too'))\n",
    "idx = str1.index('too')\n",
    "cnt = len('too')\n",
    "print(idx)\n",
    "print(str1[idx:idx+cnt]) # print(str1[8:8+3])\n",
    "print(str1[str1.index(\"too\") : str1.index('too')+3])\n",
    "\n",
    "##str1에서 i가 있는 문자부터 2글자\n",
    "idx = str1.index('i')\n",
    "print(str1[idx:idx+2])\n",
    "print(str1[str1.index('i'):str1.index('i')+2])\n",
    "\n",
    "print(str1.count('i'))\n",
    "\n",
    "### 두번째 i부터 2글자\n",
    "idx = str1.index('i') # 첫번째 index\n",
    "print(idx)\n",
    "idx1 = str1.index('i', 2)\n",
    "print(idx1)\n",
    "idx2 = str1.index('i', idx + 1 )# 첫번째 i의 index에 1을 더하기\n",
    "print(idx2)\n",
    "print(str1[idx2 : idx2 + 2])\n",
    "\n",
    "#t부터 3글자\n",
    "idx = str1.index('t')\n",
    "print(str1[idx : idx + 3])\n",
    "\n"
   ]
  },
  {
   "cell_type": "code",
   "execution_count": 133,
   "id": "0891bccf",
   "metadata": {},
   "outputs": [
    {
     "name": "stdout",
     "output_type": "stream",
     "text": [
      "3\n",
      "30\n",
      "th\n",
      "16\n",
      "t, you\n",
      "th\n"
     ]
    }
   ],
   "source": [
    "#마지막에 있는 't'부터 2글자\n",
    "str1 ='Life is too short, you need python'\n",
    "print(str1.count('t'))\n",
    "idx = str1.rindex('t');\n",
    "print(idx)\n",
    "print(str1[idx:idx+2])\n",
    "\n",
    "# t, you를 출력하시오.\n",
    "idx = str1.index('t') # 첫번째 t\n",
    "idx1 = str1.index('t', idx + 1) # 두번째 t\n",
    "print(idx1)\n",
    "print(str1[idx1:idx1+6]) \n",
    "idx2= str1.index('t', 17) # 세번째 t\n",
    "idx2= str1.index('t', idx1 + 1) # 세번째 t\n",
    "print(str1[idx2:idx2+2])"
   ]
  },
  {
   "cell_type": "code",
   "execution_count": 141,
   "id": "9ba67b80",
   "metadata": {},
   "outputs": [
    {
     "name": "stdout",
     "output_type": "stream",
     "text": [
      "8\n",
      "too\n",
      "8\n",
      "too\n",
      "16\n",
      "-1\n",
      "-1\n"
     ]
    }
   ],
   "source": [
    "# find\n",
    "#'too'의 위치 찾기\n",
    "idx = str1.index('too')\n",
    "print(idx)\n",
    "print(str1[idx:idx+3])\n",
    "\n",
    "idx = str1.find('too')\n",
    "print(idx)\n",
    "print(str1[idx:idx+3])\n",
    "\n",
    "idx2 = str1.find('t', idx+1)\n",
    "print(idx2)\n",
    "\n",
    "# find와 index\n",
    "result = str1.find('z') # 찾는 문자 없으면 -1\n",
    "print(result)\n",
    "result = str1.find('zoo')\n",
    "print(result)\n",
    "# result = str1.index('z') # 찾는 문자가 없는 경우 오류 발생\n",
    "# find는 찾는 문자열이 있는지 없는지 확인 하고 싶을 때 주로 사용"
   ]
  },
  {
   "cell_type": "code",
   "execution_count": 150,
   "id": "8a250cf3",
   "metadata": {},
   "outputs": [
    {
     "name": "stdout",
     "output_type": "stream",
     "text": [
      "Life is too short, you need python\n",
      "life is too short, you need python\n",
      "Life is too short, you need python\n",
      "life is too short, you need python\n",
      "LIFE IS TOO SHORT, YOU NEED PYTHON\n",
      "Life is too short, you need python\n",
      "LIFE IS TOO SHORT, YOU NEED PYTHON\n"
     ]
    }
   ],
   "source": [
    "print(str1)\n",
    "#모두 소문자로\n",
    "print(str1.lower())\n",
    "print(str1)\n",
    "str2 = str1.lower()\n",
    "print(str2)\n",
    "\n",
    "#모두 대문자로\n",
    "print(str1.upper())\n",
    "print(str1)\n",
    "str2=str1.upper()\n",
    "print(str2)"
   ]
  },
  {
   "cell_type": "code",
   "execution_count": 154,
   "id": "b6d590e6",
   "metadata": {},
   "outputs": [
    {
     "name": "stdout",
     "output_type": "stream",
     "text": [
      "다르다\n"
     ]
    }
   ],
   "source": [
    "str4 = \"     highland0   \"\n",
    "if \"highland0\" == str4:\n",
    "    print(\"같다\")\n",
    "else:\n",
    "    print(\"다르다\")"
   ]
  },
  {
   "cell_type": "code",
   "execution_count": 155,
   "id": "1f0eed10",
   "metadata": {
    "scrolled": true
   },
   "outputs": [
    {
     "name": "stdout",
     "output_type": "stream",
     "text": [
      "highland0\n",
      "     highland0   \n",
      "같다\n"
     ]
    }
   ],
   "source": [
    "### 양끝의 공백문자 제거\n",
    "result = str4.strip()\n",
    "print(result)\n",
    "print(str4)\n",
    "if \"highland0\" == result:\n",
    "    print(\"같다\")\n",
    "else:\n",
    "    print(\"다르다\")"
   ]
  },
  {
   "cell_type": "code",
   "execution_count": 164,
   "id": "0cbdbb64",
   "metadata": {},
   "outputs": [
    {
     "name": "stdout",
     "output_type": "stream",
     "text": [
      "Life is too short\n",
      " Life is too short\n",
      "Life is too short  \n",
      "Life is too short\n",
      "abLife is too shortab\n",
      "Life is too short\n",
      "Life is too short\n"
     ]
    }
   ],
   "source": [
    "str1 = \" Life is too short  \"\n",
    "result = str1.strip()\n",
    "print(result)\n",
    "result = str1.rstrip()\n",
    "print(result)\n",
    "result = str1.lstrip()\n",
    "print(result)\n",
    "str1 = \"abLife is too shortab\"\n",
    "result = str1.strip('ab')\n",
    "print(result)\n",
    "print(str1)\n",
    "str1 = \" abLife is too shortab \"\n",
    "result = str1.strip()\n",
    "result1 = result.strip('ab')\n",
    "print(result1)\n",
    "print(str1.strip().strip('ab'))"
   ]
  },
  {
   "cell_type": "code",
   "execution_count": 166,
   "id": "e531ae9c",
   "metadata": {},
   "outputs": [
    {
     "name": "stdout",
     "output_type": "stream",
     "text": [
      "Life is too short\n",
      "Your leg is too short\n"
     ]
    }
   ],
   "source": [
    "# 문자열 대체하기\n",
    "str1 = \"Life is too short\"\n",
    "str2 = str1.replace(\"Life\",\"Your leg\")\n",
    "print(str1)\n",
    "print(str2)"
   ]
  },
  {
   "cell_type": "code",
   "execution_count": 169,
   "id": "514cd84f",
   "metadata": {},
   "outputs": [
    {
     "name": "stdout",
     "output_type": "stream",
     "text": [
      "Life is too short\n",
      "['Life', 'is', 'too', 'short']\n",
      "['Life', 'is', 'too', 'short']\n"
     ]
    }
   ],
   "source": [
    "# 쪼개기 : split : 결과는 리스트다.\n",
    "print(str1)\n",
    "str2 = str1.split()\n",
    "print(str2) # ['Life', 'is', 'too', 'short'] : 리스트\n",
    "str1 = \"Life:is:too:short\"\n",
    "str2= str1.split(\":\")\n",
    "print(str2)# ['Life', 'is', 'too', 'short'] : 리스트"
   ]
  },
  {
   "cell_type": "code",
   "execution_count": null,
   "id": "35f95c6d",
   "metadata": {},
   "outputs": [],
   "source": []
  },
  {
   "cell_type": "code",
   "execution_count": null,
   "id": "6cce851d",
   "metadata": {},
   "outputs": [],
   "source": []
  },
  {
   "cell_type": "code",
   "execution_count": null,
   "id": "0e41b74d",
   "metadata": {},
   "outputs": [],
   "source": []
  },
  {
   "cell_type": "code",
   "execution_count": null,
   "id": "5e394c77",
   "metadata": {},
   "outputs": [],
   "source": []
  },
  {
   "cell_type": "code",
   "execution_count": null,
   "id": "c5fb43e4",
   "metadata": {},
   "outputs": [],
   "source": []
  },
  {
   "cell_type": "code",
   "execution_count": null,
   "id": "e8f1f55d",
   "metadata": {},
   "outputs": [],
   "source": []
  }
 ],
 "metadata": {
  "kernelspec": {
   "display_name": "Python 3 (ipykernel)",
   "language": "python",
   "name": "python3"
  },
  "language_info": {
   "codemirror_mode": {
    "name": "ipython",
    "version": 3
   },
   "file_extension": ".py",
   "mimetype": "text/x-python",
   "name": "python",
   "nbconvert_exporter": "python",
   "pygments_lexer": "ipython3",
   "version": "3.11.4"
  }
 },
 "nbformat": 4,
 "nbformat_minor": 5
}
