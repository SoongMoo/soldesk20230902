{
 "cells": [
  {
   "cell_type": "code",
   "execution_count": 1,
   "id": "392c28f7",
   "metadata": {},
   "outputs": [
    {
     "name": "stderr",
     "output_type": "stream",
     "text": [
      "C:\\Users\\soldesk\\AppData\\Local\\Temp\\ipykernel_3600\\1014303460.py:1: DeprecationWarning: Importing display from IPython.core.display is deprecated since IPython 7.14, please import from IPython display\n",
      "  from IPython.core.display import display, HTML\n"
     ]
    },
    {
     "data": {
      "text/html": [
       "<style>\n",
       "div.container { width:100% !important; }\n",
       "div.CodeMirror {font-family: Consolas; font-size: 30pt;}\n",
       "div.output { font-size: 20pt; font-weight: bold;}\n",
       "div.input { font-family: Consolas; font-size: 30pt;}\n",
       "div.prompt { min-width: 100px;}\n",
       "</style>\n"
      ],
      "text/plain": [
       "<IPython.core.display.HTML object>"
      ]
     },
     "metadata": {},
     "output_type": "display_data"
    }
   ],
   "source": [
    "from IPython.core.display import display, HTML\n",
    "display(HTML(\n",
    "\"\"\"<style>\n",
    "div.container { width:100% !important; }\n",
    "div.CodeMirror {font-family: Consolas; font-size: 30pt;}\n",
    "div.output { font-size: 20pt; font-weight: bold;}\n",
    "div.input { font-family: Consolas; font-size: 30pt;}\n",
    "div.prompt { min-width: 100px;}\n",
    "</style>\n",
    "\"\"\"))"
   ]
  },
  {
   "cell_type": "code",
   "execution_count": 3,
   "id": "a3e9a0ed",
   "metadata": {},
   "outputs": [
    {
     "name": "stdout",
     "output_type": "stream",
     "text": [
      "success\n",
      "success\n"
     ]
    }
   ],
   "source": [
    "'''\n",
    "score가 60이상이면 message 변수에 success를 아니면 message 에 failure를 \n",
    "저장한 후 출력\n",
    "'''\n",
    "score = 78\n",
    "if score >= 60:\n",
    "    message = \"success\"\n",
    "else:\n",
    "    message= \"failure\"\n",
    "print(message)\n",
    "# python type으로 변경\n",
    "message = \"success\" if score >= 60 else \"failure\"\n",
    "print(message)"
   ]
  },
  {
   "cell_type": "code",
   "execution_count": 4,
   "id": "10a9bf60",
   "metadata": {},
   "outputs": [
    {
     "name": "stdout",
     "output_type": "stream",
     "text": [
      "C\n"
     ]
    }
   ],
   "source": [
    "# 90이상이면 A, 80이상이면 B,..., 60이하면 F\n",
    "if score >= 90:\n",
    "    message = 'A'\n",
    "elif score >= 80:\n",
    "    message = 'B'\n",
    "elif score >= 70:\n",
    "    message = 'C'\n",
    "elif score >= 60:\n",
    "    message = 'D'\n",
    "else:\n",
    "    message = 'F'\n",
    "print(message)"
   ]
  },
  {
   "cell_type": "code",
   "execution_count": 7,
   "id": "4bdc64ff",
   "metadata": {},
   "outputs": [
    {
     "name": "stdout",
     "output_type": "stream",
     "text": [
      "C\n",
      "C\n"
     ]
    }
   ],
   "source": [
    "if score >= 90:\n",
    "    message = 'A'\n",
    "else:\n",
    "    if score >= 80:\n",
    "        message  = 'B'\n",
    "    else:\n",
    "        if score>=70:\n",
    "            message = 'C'\n",
    "        else:\n",
    "            if score >= 60:\n",
    "                message = 'D'\n",
    "            else:\n",
    "                message = 'F'\n",
    "print(message)\n",
    "# python type으로 변경\n",
    "message = 'A' if score >= 90 else( 'B' if score >= 80\n",
    "                             else( 'C' if score>=70 \n",
    "                             else( 'D' if score >= 60\n",
    "                             else  'F' )))\n",
    "print(message)"
   ]
  },
  {
   "cell_type": "code",
   "execution_count": 9,
   "id": "3f66cd8d",
   "metadata": {},
   "outputs": [
    {
     "name": "stdout",
     "output_type": "stream",
     "text": [
      "-10\n",
      "-10\n"
     ]
    }
   ],
   "source": [
    "# 사직연산 \n",
    "# if ~ elif ~ else\n",
    "a = 10; b = 20; opt = \"sub\"\n",
    "if opt==\"add\":\n",
    "    result = a + b\n",
    "elif opt == \"sub\":\n",
    "    result = a - b\n",
    "elif opt == \"mul\":\n",
    "    result = a * b\n",
    "else:\n",
    "    result = a / b\n",
    "print(result)\n",
    "# python style\n",
    "result = a + b if opt==\"add\" else ( a - b if opt == \"sub\" \n",
    "                             else ( a * b if opt == \"mul\"\n",
    "                             else a / b ))\n",
    "print(result)\n",
    "### 조건식 : if , if ~ else, if ~ elif ~ else, 중첩 if\n",
    "### switch ~ case : python엔 없다.  딕셔너리로 대신"
   ]
  },
  {
   "cell_type": "code",
   "execution_count": 10,
   "id": "552fc3f8",
   "metadata": {},
   "outputs": [
    {
     "name": "stdout",
     "output_type": "stream",
     "text": [
      "나무를 1번 찍었습니다.\n",
      "나무를 2번 찍었습니다.\n",
      "나무를 3번 찍었습니다.\n",
      "나무를 4번 찍었습니다.\n",
      "나무를 5번 찍었습니다.\n",
      "나무를 6번 찍었습니다.\n",
      "나무를 7번 찍었습니다.\n",
      "나무를 8번 찍었습니다.\n",
      "나무를 9번 찍었습니다.\n",
      "나무를 10번 찍었습니다.\n",
      "나무가 넘어갑니다.\n"
     ]
    }
   ],
   "source": [
    "# 반복문 \n",
    "print(\"나무를 1번 찍었습니다.\")\n",
    "print(\"나무를 2번 찍었습니다.\")\n",
    "print(\"나무를 3번 찍었습니다.\")\n",
    "print(\"나무를 4번 찍었습니다.\")\n",
    "print(\"나무를 5번 찍었습니다.\")\n",
    "print(\"나무를 6번 찍었습니다.\")\n",
    "print(\"나무를 7번 찍었습니다.\")\n",
    "print(\"나무를 8번 찍었습니다.\")\n",
    "print(\"나무를 9번 찍었습니다.\")\n",
    "print(\"나무를 10번 찍었습니다.\")\n",
    "print(\"나무가 넘어갑니다.\")"
   ]
  },
  {
   "cell_type": "code",
   "execution_count": 14,
   "id": "5c861cb5",
   "metadata": {},
   "outputs": [
    {
     "name": "stdout",
     "output_type": "stream",
     "text": [
      "나무를 1번 찍었습니다.\n",
      "나무를 2번 찍었습니다.\n",
      "나무를 3번 찍었습니다.\n",
      "나무를 4번 찍었습니다.\n",
      "나무를 5번 찍었습니다.\n",
      "나무를 6번 찍었습니다.\n",
      "나무를 7번 찍었습니다.\n",
      "나무를 8번 찍었습니다.\n",
      "나무를 9번 찍었습니다.\n",
      "나무를 10번 찍었습니다.\n",
      "나무가 넘어갑니다.\n"
     ]
    }
   ],
   "source": [
    "start = 1\n",
    "while start <= 10: ## 조건이 True인 경우에만 : 종료되는 시점은 조건식에서\n",
    "    # print(\"나무를 %d번 찍었습니다.\" % start)\n",
    "    # print(f\"나무를 {start}번 찍었습니다.\")\n",
    "    print(\"나무를 {0}번 찍었습니다.\".format(start))\n",
    "    start += 1; # start = start + 1\n",
    "print(\"나무가 넘어갑니다.\")\n",
    "# start = start + 1\n",
    "# start = 1 + 1\n",
    "# start = 2 + 1\n",
    "# start = 3 + 1\n",
    "# start = 4 + 1\n",
    "# ...\n",
    "# start = 8 + 1\n",
    "# start = 9 + 1\n",
    "# start = 10 + 1"
   ]
  },
  {
   "cell_type": "code",
   "execution_count": 21,
   "id": "7b88d64f",
   "metadata": {},
   "outputs": [
    {
     "name": "stdout",
     "output_type": "stream",
     "text": [
      "8  * 1 = 8\n",
      "8  * 2 = 16\n",
      "8  * 3 = 24\n",
      "8  * 4 = 32\n",
      "8  * 5 = 40\n",
      "8  * 6 = 48\n",
      "8  * 7 = 56\n",
      "8  * 8 = 64\n",
      "8  * 9 = 72\n"
     ]
    }
   ],
   "source": [
    "'''\n",
    "8단 출력\n",
    "8  * 1 = 8  # 8 * 1\n",
    "8  * 2 = 16 # 8 * 2\n",
    "8  * 3 = 24 # 8 * 3\n",
    "8  * 4 = 32 # 8 * 4\n",
    "8  * 5 = 40 # 8 * 5\n",
    "8  * 6 = 8 * 6\n",
    "8  * 7 = 8 * 7\n",
    "8  * 8 = 8 * 8\n",
    "8  * 9 = 8 * 9\n",
    "'''\n",
    "start = 1 # 초기값\n",
    "while start <= 9: # 조건식\n",
    "    print(f\"8  * {start} = {8 * start}\")\n",
    "    #print(\"8  * %d = %d\" % (start , 8 * start) )\n",
    "    #print(\"8  * {0} = {1}\".format(start , 8 * start))\n",
    "    start += 1 # 증가식"
   ]
  },
  {
   "cell_type": "code",
   "execution_count": 25,
   "id": "342109fe",
   "metadata": {},
   "outputs": [
    {
     "name": "stdout",
     "output_type": "stream",
     "text": [
      "단을 입력하세요.7\n",
      "7 * 1 = 7\n",
      "7 * 2 = 14\n",
      "7 * 3 = 21\n",
      "7 * 4 = 28\n",
      "7 * 5 = 35\n",
      "7 * 6 = 42\n",
      "7 * 7 = 49\n",
      "7 * 8 = 56\n",
      "7 * 9 = 63\n"
     ]
    }
   ],
   "source": [
    "dan =  int(input(\"단을 입력하세요.\"));\n",
    "start = 1\n",
    "while start <= 9:\n",
    "    print(f\"{dan} * {start} = {dan * start}\")\n",
    "    start += 1"
   ]
  },
  {
   "cell_type": "code",
   "execution_count": 28,
   "id": "d6883687",
   "metadata": {},
   "outputs": [
    {
     "name": "stdout",
     "output_type": "stream",
     "text": [
      "단을 입력하세요. : 5\n",
      "시작 곱을 입력하세요. : 3\n",
      "마지막 곱을 입력하세요. : 7\n",
      "5 * 3 = 15\n",
      "5 * 4 = 20\n",
      "5 * 5 = 25\n",
      "5 * 6 = 30\n",
      "5 * 7 = 35\n"
     ]
    }
   ],
   "source": [
    "dan =  int(input(\"단을 입력하세요. : \"));\n",
    "startGop = int(input(\"시작 곱을 입력하세요. : \"))\n",
    "endGop = int(input(\"마지막 곱을 입력하세요. : \"))\n",
    "start = startGop\n",
    "while start <= endGop:\n",
    "    print(f\"{dan} * {start} = {dan * start}\")\n",
    "    start += 1"
   ]
  },
  {
   "cell_type": "code",
   "execution_count": 35,
   "id": "7ad0c255",
   "metadata": {},
   "outputs": [
    {
     "name": "stdout",
     "output_type": "stream",
     "text": [
      "[1, 2, 3, 4, 5, 6]\n",
      "4\n",
      "[1, 2, 3, 5, 6]\n",
      "1\n",
      "[2, 3, 5, 6]\n"
     ]
    }
   ],
   "source": [
    "# 로또\n",
    "l = [1,2,3,4,5,6]\n",
    "#    0 1 2 3 4 5\n",
    "print(l)\n",
    "result = l.pop(3)\n",
    "print(result)\n",
    "print(l) # [1, 2, 3, 5, 6]\n",
    "#           0  1  2  3  4 \n",
    "idx = 0 # index를 랜덤으로 받기\n",
    "result = l.pop(idx)\n",
    "print(result)\n",
    "print(l)"
   ]
  },
  {
   "cell_type": "code",
   "execution_count": 41,
   "id": "f8671af4",
   "metadata": {},
   "outputs": [
    {
     "name": "stdout",
     "output_type": "stream",
     "text": [
      "4\n",
      "5\n",
      "5\n",
      "[1, 2, 3, 4, 6]\n",
      "0\n",
      "1\n",
      "1\n",
      "[2, 3, 4, 6]\n"
     ]
    }
   ],
   "source": [
    "import random\n",
    "l = [1,2,3,4,5,6]\n",
    "#    0 1 2 3 4 5  : index\n",
    "idx = random.randint(0,5)\n",
    "print(idx)\n",
    "print(l[idx])\n",
    "result = l.pop(idx)\n",
    "print(result)\n",
    "print(l) # [1, 2, 3, 4, 6]\n",
    "#           0  1  2  3  4\n",
    "idx = random.randint(0,4)\n",
    "print(idx)\n",
    "print(l[idx])\n",
    "result = l.pop(idx)\n",
    "print(result)\n",
    "print(l)"
   ]
  },
  {
   "cell_type": "code",
   "execution_count": 69,
   "id": "f6895e0d",
   "metadata": {},
   "outputs": [
    {
     "name": "stdout",
     "output_type": "stream",
     "text": [
      "[1, 2, 3, 4, 5, 6, 7, 8, 9, 10, 11, 12, 13, 14, 15, 16, 17, 18, 19, 20, 21, 22, 23, 24, 25, 26, 27, 28, 29, 30, 31, 32, 33, 34, 35, 36, 37, 38, 39, 40, 41, 42, 43, 44, 45]\n",
      "8, 36, 33, 26, 14, 7, "
     ]
    }
   ],
   "source": [
    "import random\n",
    "lotto = []\n",
    "i = 1\n",
    "while i <= 45:\n",
    "    lotto.append(i)\n",
    "    i+=1\n",
    "print(lotto)\n",
    "\n",
    "size = len(lotto)\n",
    "\n",
    "y = 1\n",
    "while y <= 6:\n",
    "    size -= 1\n",
    "    idx = random.randint(0, size)\n",
    "    lottoNum = lotto.pop(idx)\n",
    "    print(lottoNum, end=\", \")\n",
    "    y += 1"
   ]
  },
  {
   "cell_type": "code",
   "execution_count": 71,
   "id": "a4405f3e",
   "metadata": {},
   "outputs": [
    {
     "name": "stdout",
     "output_type": "stream",
     "text": [
      "3 * 1 = 3\n",
      "3 * 2 = 6\n",
      "3 * 3 = 9\n",
      "3 * 4 = 12\n",
      "3 * 5 = 15\n",
      "3 * 6 = 18\n",
      "3 * 7 = 21\n",
      "3 * 8 = 24\n",
      "3 * 9 = 27\n",
      "4 * 1 = 4\n",
      "4 * 2 = 8\n",
      "4 * 3 = 12\n",
      "4 * 4 = 16\n",
      "4 * 5 = 20\n",
      "4 * 6 = 24\n",
      "4 * 7 = 28\n",
      "4 * 8 = 32\n",
      "4 * 9 = 36\n"
     ]
    }
   ],
   "source": [
    "#3단\n",
    "start = 1\n",
    "while start <= 9:\n",
    "    print(f\"3 * {start} = {3 * start}\")\n",
    "    start += 1\n",
    "\n",
    "#4단\n",
    "start = 1\n",
    "while start <= 9:\n",
    "    print(f\"4 * {start} = {4 * start}\")\n",
    "    start += 1\n",
    "\n",
    "#5단\n",
    "start = 1\n",
    "while start <= 9:\n",
    "    print(f\"5 * {start} = {5 * start}\")\n",
    "    start += 1"
   ]
  },
  {
   "cell_type": "code",
   "execution_count": 76,
   "id": "ca206388",
   "metadata": {},
   "outputs": [
    {
     "name": "stdout",
     "output_type": "stream",
     "text": [
      "1 * 1 = 1\n",
      "1 * 2 = 2\n",
      "1 * 3 = 3\n",
      "1 * 4 = 4\n",
      "1 * 5 = 5\n",
      "1 * 6 = 6\n",
      "1 * 7 = 7\n",
      "1 * 8 = 8\n",
      "1 * 9 = 9\n",
      "3 * 1 = 3\n",
      "3 * 2 = 6\n",
      "3 * 3 = 9\n",
      "3 * 4 = 12\n",
      "3 * 5 = 15\n",
      "3 * 6 = 18\n",
      "3 * 7 = 21\n",
      "3 * 8 = 24\n",
      "3 * 9 = 27\n",
      "5 * 1 = 5\n",
      "5 * 2 = 10\n",
      "5 * 3 = 15\n",
      "5 * 4 = 20\n",
      "5 * 5 = 25\n",
      "5 * 6 = 30\n",
      "5 * 7 = 35\n",
      "5 * 8 = 40\n",
      "5 * 9 = 45\n",
      "7 * 1 = 7\n",
      "7 * 2 = 14\n",
      "7 * 3 = 21\n",
      "7 * 4 = 28\n",
      "7 * 5 = 35\n",
      "7 * 6 = 42\n",
      "7 * 7 = 49\n",
      "7 * 8 = 56\n",
      "7 * 9 = 63\n",
      "9 * 1 = 9\n",
      "9 * 2 = 18\n",
      "9 * 3 = 27\n",
      "9 * 4 = 36\n",
      "9 * 5 = 45\n",
      "9 * 6 = 54\n",
      "9 * 7 = 63\n",
      "9 * 8 = 72\n",
      "9 * 9 = 81\n"
     ]
    }
   ],
   "source": [
    "# 2중 반복문\n",
    "dan = 1\n",
    "while dan <= 9:\n",
    "    start = 1\n",
    "    while start <= 9:\n",
    "        print(f\"{dan} * {start} = {dan * start}\")\n",
    "        start += 1\n",
    "    dan += 1"
   ]
  },
  {
   "cell_type": "code",
   "execution_count": 81,
   "id": "df3483eb",
   "metadata": {},
   "outputs": [
    {
     "name": "stdout",
     "output_type": "stream",
     "text": [
      "시작 단을 입력해주세요. : 4\n",
      "마지막 단을 입력해주세요. : 6\n",
      "시작 곱을 입력해주세요. : 4\n",
      "마지막 곱을 입력해주세요. : 5\n",
      "4 * 4 = 16\n",
      "4 * 5 = 20\n",
      "5 * 4 = 20\n",
      "5 * 5 = 25\n",
      "6 * 4 = 24\n",
      "6 * 5 = 30\n"
     ]
    }
   ],
   "source": [
    "startDan = int(input(\"시작 단을 입력해주세요. : \"))\n",
    "endDan = int(input(\"마지막 단을 입력해주세요. : \"))\n",
    "startGop = int(input(\"시작 곱을 입력해주세요. : \"))\n",
    "endGop = int(input(\"마지막 곱을 입력해주세요. : \"))\n",
    "dan = startDan\n",
    "while dan <= endDan:\n",
    "    gop = startGop\n",
    "    while gop <= endGop:\n",
    "        #print(f\"{dan} * {gop} = {dan * gop}\")\n",
    "        print(\"%d * %d = %d\" % (dan, gop, dan * gop))\n",
    "        gop += 1\n",
    "    dan += 1"
   ]
  },
  {
   "cell_type": "code",
   "execution_count": 94,
   "id": "b513b1be",
   "metadata": {},
   "outputs": [
    {
     "name": "stdout",
     "output_type": "stream",
     "text": [
      "19, 18, 40, 8, 17, 28, "
     ]
    }
   ],
   "source": [
    "import random\n",
    "lotto = []\n",
    "i = 1\n",
    "while i <= 45:\n",
    "    lotto.append(i)\n",
    "    i += 1\n",
    "size = len(lotto) # 45\n",
    "y = 1\n",
    "while y <= 6:\n",
    "    size -= 1\n",
    "    idx = random.randint(0, size)\n",
    "    lottoNum = lotto.pop(idx)\n",
    "    print(lottoNum, end=\", \")\n",
    "    y += 1"
   ]
  },
  {
   "cell_type": "code",
   "execution_count": 99,
   "id": "bc990f2b",
   "metadata": {},
   "outputs": [
    {
     "name": "stdout",
     "output_type": "stream",
     "text": [
      "구매수량을 입력하세요. : 6\n",
      "41, 11, 10, 32, 42, 37, \n",
      "2, 10, 25, 1, 43, 11, \n",
      "30, 4, 39, 41, 8, 19, \n",
      "45, 21, 42, 30, 28, 33, \n",
      "37, 9, 39, 28, 5, 18, \n",
      "1, 23, 33, 22, 43, 42, \n"
     ]
    }
   ],
   "source": [
    "qty =  int(input(\"구매수량을 입력하세요. : \"))\n",
    "lotto = []\n",
    "cnt = 1\n",
    "while cnt <= qty:\n",
    "    i = 1\n",
    "    while i <= 45:\n",
    "        lotto.append(i) \n",
    "        i += 1\n",
    "    size = len(lotto) # 45\n",
    "    y = 1\n",
    "    while y <= 6:\n",
    "        size -= 1\n",
    "        idx = random.randint(0, size)\n",
    "        lottoNum = lotto.pop(idx)  \n",
    "        print(lottoNum, end=\", \")\n",
    "        y += 1\n",
    "    lotto.clear() # 빈리스트를 만들어 주기\n",
    "    print()\n",
    "    cnt += 1"
   ]
  },
  {
   "cell_type": "code",
   "execution_count": 102,
   "id": "a919aedb",
   "metadata": {},
   "outputs": [
    {
     "name": "stdout",
     "output_type": "stream",
     "text": [
      "5050\n",
      "2550\n",
      "2500\n"
     ]
    }
   ],
   "source": [
    "### 1 ~ 100까지의 합을 구하시오.\n",
    "'''\n",
    "sum = 0\n",
    "sum = sum + 1\n",
    "sum = sum + 2\n",
    "sum = sum + 3\n",
    "sum = sum + 4\n",
    "...\n",
    "sum = sum + 100\n",
    "'''\n",
    "i = 1\n",
    "sum = 0\n",
    "while i <= 100:\n",
    "    sum = sum + i\n",
    "    i += 1\n",
    "print(sum)\n",
    "### 짝수의 합을 구하시오\n",
    "i = 1\n",
    "sum = 0\n",
    "while i <= 100:\n",
    "    if i % 2 == 0:\n",
    "        sum += i\n",
    "    i += 1\n",
    "print(sum)\n",
    "### 홀수의 합을 구하시오.\n",
    "i = 1\n",
    "sum = 0\n",
    "while i <= 100:\n",
    "    if i % 2 != 0:\n",
    "        sum += i\n",
    "    i += 1\n",
    "print(sum)\n"
   ]
  },
  {
   "cell_type": "code",
   "execution_count": 109,
   "id": "122fbdac",
   "metadata": {},
   "outputs": [
    {
     "name": "stdout",
     "output_type": "stream",
     "text": [
      "2550\n",
      "2500\n"
     ]
    }
   ],
   "source": [
    "### 짝수의 합을 구하시오\n",
    "i = 0\n",
    "sum = 0\n",
    "while i < 100:\n",
    "    i += 1\n",
    "    if i % 2 != 0:\n",
    "        continue\n",
    "    sum += i\n",
    "print(sum)\n",
    "\n",
    "### 홀수의 합을 구하시오.\n",
    "i = 0\n",
    "sum = 0 \n",
    "while i <= 99:\n",
    "    i += 1\n",
    "    if i % 2 == 0:\n",
    "        continue\n",
    "    sum += i\n",
    "print(sum)  "
   ]
  },
  {
   "cell_type": "code",
   "execution_count": 111,
   "id": "d3c758ee",
   "metadata": {},
   "outputs": [
    {
     "name": "stdout",
     "output_type": "stream",
     "text": [
      "5050\n"
     ]
    }
   ],
   "source": [
    "### 1 ~ 100까지의 합을 구하시오\n",
    "i = 1\n",
    "sum = 0\n",
    "while True:\n",
    "    if i > 100:\n",
    "        break # 반복문 종료\n",
    "    sum += i\n",
    "    i += 1\n",
    "    #print(i)\n",
    "print(sum)"
   ]
  },
  {
   "cell_type": "code",
   "execution_count": 114,
   "id": "7871a441",
   "metadata": {},
   "outputs": [
    {
     "name": "stdout",
     "output_type": "stream",
     "text": [
      "421\n",
      "421\n",
      "421\n"
     ]
    }
   ],
   "source": [
    "l = [34,76,99,45,78,89]\n",
    "# 리트스의 합을 구하시오.\n",
    "sum = 0\n",
    "sum = sum + l[0]\n",
    "sum = sum + l[1]\n",
    "sum = sum + l[2]\n",
    "sum = sum + l[3]\n",
    "sum = sum + l[4]\n",
    "sum = sum + l[5]\n",
    "print(sum)\n",
    "idx = 0\n",
    "sum =0\n",
    "while idx < len(l):\n",
    "    sum += l[idx]\n",
    "    idx += 1\n",
    "print(sum)\n",
    "\n",
    "# for each\n",
    "sum = 0\n",
    "for num in l: # [34,76,99,45,78,89]\n",
    "    sum += num\n",
    "print(sum)"
   ]
  },
  {
   "cell_type": "code",
   "execution_count": 116,
   "id": "09107ca3",
   "metadata": {},
   "outputs": [
    {
     "name": "stdout",
     "output_type": "stream",
     "text": [
      "421\n",
      "============================================================\n",
      "421\n"
     ]
    }
   ],
   "source": [
    "t = (34,76,99,45,78,89)\n",
    "sum = 0\n",
    "for num in t:\n",
    "    sum += num\n",
    "print(sum)\n",
    "print(\"==\" * 30)\n",
    "i = 0\n",
    "sum = 0\n",
    "size = len(t)\n",
    "while i < size:\n",
    "    sum += t[i]\n",
    "    i += 1\n",
    "print(sum)"
   ]
  },
  {
   "cell_type": "code",
   "execution_count": 119,
   "id": "0626e2ae",
   "metadata": {},
   "outputs": [
    {
     "name": "stdout",
     "output_type": "stream",
     "text": [
      "5050\n",
      "============================================================\n",
      "5050\n"
     ]
    }
   ],
   "source": [
    "# 1 ~ 100까지의 합을 구하시오\n",
    "i = 1\n",
    "sum = 0\n",
    "while i < 101:\n",
    "    sum += i\n",
    "    i += 1\n",
    "print(sum)\n",
    "print(\"==\" * 30)\n",
    "sum = 0\n",
    "for i in range(1, 101):\n",
    "    sum += i\n",
    "print(sum)"
   ]
  },
  {
   "cell_type": "code",
   "execution_count": 124,
   "id": "c305e3cc",
   "metadata": {},
   "outputs": [
    {
     "name": "stdout",
     "output_type": "stream",
     "text": [
      "2500\n",
      "============================================================\n",
      "2500\n"
     ]
    }
   ],
   "source": [
    "# 1 ~ 100중 홀수의 합을 구하시오\n",
    "i = 0\n",
    "sum = 0\n",
    "while i < 100:\n",
    "    i += 1\n",
    "    if i % 2 == 0:\n",
    "        continue\n",
    "    sum += i\n",
    "print(sum)\n",
    "print(\"==\" * 30)\n",
    "sum = 0\n",
    "for i in range(1, 1 + 100):\n",
    "    if i % 2 == 0:\n",
    "        continue\n",
    "    sum += i\n",
    "print(sum)"
   ]
  },
  {
   "cell_type": "code",
   "execution_count": 127,
   "id": "ea7819e6",
   "metadata": {},
   "outputs": [
    {
     "name": "stdout",
     "output_type": "stream",
     "text": [
      "5050\n",
      "============================================================\n",
      "5050\n"
     ]
    }
   ],
   "source": [
    "# 1 ~ 100까지의 합을 구하시오\n",
    "i = 1\n",
    "sum = 0\n",
    "while True:\n",
    "    if i > 100:\n",
    "        break\n",
    "    sum += i\n",
    "    i += 1\n",
    "print(sum)\n",
    "print(\"==\" *30 )\n",
    "sum = 0\n",
    "for i in range(1, 1000000):\n",
    "    if i > 100:\n",
    "        break\n",
    "    sum += i\n",
    "print(sum)"
   ]
  },
  {
   "cell_type": "code",
   "execution_count": 130,
   "id": "03560509",
   "metadata": {},
   "outputs": [
    {
     "name": "stdout",
     "output_type": "stream",
     "text": [
      "5 * 1 = 5\n",
      "5 * 2 = 10\n",
      "5 * 3 = 15\n",
      "5 * 4 = 20\n",
      "5 * 5 = 25\n",
      "5 * 6 = 30\n",
      "5 * 7 = 35\n",
      "5 * 8 = 40\n",
      "5 * 9 = 45\n",
      "============================================================\n",
      "5 * 1 = 5\n",
      "5 * 2 = 10\n",
      "5 * 3 = 15\n",
      "5 * 4 = 20\n",
      "5 * 5 = 25\n",
      "5 * 6 = 30\n",
      "5 * 7 = 35\n",
      "5 * 8 = 40\n",
      "5 * 9 = 45\n",
      "6 * 1 = 6\n",
      "6 * 2 = 12\n",
      "6 * 3 = 18\n",
      "6 * 4 = 24\n",
      "6 * 5 = 30\n",
      "6 * 6 = 36\n",
      "6 * 7 = 42\n",
      "6 * 8 = 48\n",
      "6 * 9 = 54\n",
      "7 * 1 = 7\n",
      "7 * 2 = 14\n",
      "7 * 3 = 21\n",
      "7 * 4 = 28\n",
      "7 * 5 = 35\n",
      "7 * 6 = 42\n",
      "7 * 7 = 49\n",
      "7 * 8 = 56\n",
      "7 * 9 = 63\n",
      "8 * 1 = 8\n",
      "8 * 2 = 16\n",
      "8 * 3 = 24\n",
      "8 * 4 = 32\n",
      "8 * 5 = 40\n",
      "8 * 6 = 48\n",
      "8 * 7 = 56\n",
      "8 * 8 = 64\n",
      "8 * 9 = 72\n"
     ]
    }
   ],
   "source": [
    "# 5단\n",
    "gop = 1\n",
    "while gop < 10:\n",
    "    print(f\"5 * {gop} = {5 * gop}\")\n",
    "    gop += 1\n",
    "print(\"==\" * 30)\n",
    "for gop in range(1, 10):\n",
    "    print(f\"5 * {gop} = {5 * gop}\")\n",
    "\n",
    "for gop in range(1, 10):\n",
    "    print(f\"6 * {gop} = {6 * gop}\")\n",
    "\n",
    "for gop in range(1, 10):\n",
    "    print(f\"7 * {gop} = {7 * gop}\")\n",
    "    \n",
    "for gop in range(1, 10):\n",
    "    print(f\"8 * {gop} = {8 * gop}\")"
   ]
  },
  {
   "cell_type": "code",
   "execution_count": 133,
   "id": "29e376f2",
   "metadata": {},
   "outputs": [
    {
     "name": "stdout",
     "output_type": "stream",
     "text": [
      "5 * 1 = 5\n",
      "5 * 2 = 10\n",
      "5 * 3 = 15\n",
      "5 * 4 = 20\n",
      "5 * 5 = 25\n",
      "5 * 6 = 30\n",
      "5 * 7 = 35\n",
      "5 * 8 = 40\n",
      "5 * 9 = 45\n",
      "6 * 1 = 6\n",
      "6 * 2 = 12\n",
      "6 * 3 = 18\n",
      "6 * 4 = 24\n",
      "6 * 5 = 30\n",
      "6 * 6 = 36\n",
      "6 * 7 = 42\n",
      "6 * 8 = 48\n",
      "6 * 9 = 54\n",
      "7 * 1 = 7\n",
      "7 * 2 = 14\n",
      "7 * 3 = 21\n",
      "7 * 4 = 28\n",
      "7 * 5 = 35\n",
      "7 * 6 = 42\n",
      "7 * 7 = 49\n",
      "7 * 8 = 56\n",
      "7 * 9 = 63\n",
      "8 * 1 = 8\n",
      "8 * 2 = 16\n",
      "8 * 3 = 24\n",
      "8 * 4 = 32\n",
      "8 * 5 = 40\n",
      "8 * 6 = 48\n",
      "8 * 7 = 56\n",
      "8 * 8 = 64\n",
      "8 * 9 = 72\n",
      "============================================================\n",
      "5 * 1 = 5\n",
      "5 * 2 = 10\n",
      "5 * 3 = 15\n",
      "5 * 4 = 20\n",
      "5 * 5 = 25\n",
      "5 * 6 = 30\n",
      "5 * 7 = 35\n",
      "5 * 8 = 40\n",
      "5 * 9 = 45\n",
      "6 * 1 = 6\n",
      "6 * 2 = 12\n",
      "6 * 3 = 18\n",
      "6 * 4 = 24\n",
      "6 * 5 = 30\n",
      "6 * 6 = 36\n",
      "6 * 7 = 42\n",
      "6 * 8 = 48\n",
      "6 * 9 = 54\n",
      "7 * 1 = 7\n",
      "7 * 2 = 14\n",
      "7 * 3 = 21\n",
      "7 * 4 = 28\n",
      "7 * 5 = 35\n",
      "7 * 6 = 42\n",
      "7 * 7 = 49\n",
      "7 * 8 = 56\n",
      "7 * 9 = 63\n",
      "8 * 1 = 8\n",
      "8 * 2 = 16\n",
      "8 * 3 = 24\n",
      "8 * 4 = 32\n",
      "8 * 5 = 40\n",
      "8 * 6 = 48\n",
      "8 * 7 = 56\n",
      "8 * 8 = 64\n",
      "8 * 9 = 72\n"
     ]
    }
   ],
   "source": [
    "dan = 5\n",
    "while dan <= 8:\n",
    "    for gop in range(1, 10):\n",
    "        print(f\"{dan} * {gop} = {dan * gop}\")\n",
    "    dan += 1\n",
    "print(\"==\" * 30)\n",
    "for dan in range(5, 9):\n",
    "    for gop in range(1, 10):\n",
    "        print(f\"{dan} * {gop} = {dan * gop}\")"
   ]
  },
  {
   "cell_type": "code",
   "execution_count": 137,
   "id": "6989b1ed",
   "metadata": {},
   "outputs": [
    {
     "name": "stdout",
     "output_type": "stream",
     "text": [
      "시작단을 입력하세요. : 2\n",
      "마지막단을 입력하세요. : 5\n",
      "시작곱을 입력하세요. : 4\n",
      "마지막곱을 입력하세요. : 7\n",
      "2 * 4 = 8\n",
      "2 * 5 = 10\n",
      "2 * 6 = 12\n",
      "2 * 7 = 14\n",
      "3 * 4 = 12\n",
      "3 * 5 = 15\n",
      "3 * 6 = 18\n",
      "3 * 7 = 21\n",
      "4 * 4 = 16\n",
      "4 * 5 = 20\n",
      "4 * 6 = 24\n",
      "4 * 7 = 28\n",
      "5 * 4 = 20\n",
      "5 * 5 = 25\n",
      "5 * 6 = 30\n",
      "5 * 7 = 35\n"
     ]
    }
   ],
   "source": [
    "startDan = int(input(\"시작단을 입력하세요. : \"))\n",
    "endDan = int(input(\"마지막단을 입력하세요. : \"))\n",
    "startGop = int(input(\"시작곱을 입력하세요. : \"))\n",
    "endGop = int(input(\"마지막곱을 입력하세요. : \"))\n",
    "for dan in range(startDan, endDan + 1):\n",
    "    for gop in range(startGop, endGop + 1):\n",
    "        print(f\"{dan} * {gop} = {dan * gop}\")"
   ]
  },
  {
   "cell_type": "code",
   "execution_count": 139,
   "id": "da1d98ab",
   "metadata": {},
   "outputs": [
    {
     "name": "stdout",
     "output_type": "stream",
     "text": [
      "33, 18, 32, 45, 35, 3, \n",
      "============================================================\n",
      "12, 22, 33, 13, 20, 9, "
     ]
    }
   ],
   "source": [
    "import random\n",
    "lotto = []\n",
    "i = 1\n",
    "while i <= 45:\n",
    "    lotto.append(i)\n",
    "    i += 1\n",
    "size = len(lotto) # 45\n",
    "y = 1\n",
    "while y <= 6:\n",
    "    size -= 1\n",
    "    idx = random.randint(0, size)\n",
    "    lottoNum = lotto.pop(idx)\n",
    "    print(lottoNum, end=\", \")\n",
    "    y += 1\n",
    "print()\n",
    "print(\"==\" * 30)\n",
    "lotto = []\n",
    "for i in range(1, 45 +1):\n",
    "    lotto.append(i)\n",
    "size = len(lotto)\n",
    "for count in range(0, 6):\n",
    "    size -= 1\n",
    "    idx = random.randint(0, size)\n",
    "    lottoNum = lotto.pop(idx)\n",
    "    print(lottoNum, end=\", \")"
   ]
  },
  {
   "cell_type": "code",
   "execution_count": 142,
   "id": "2c94bb30",
   "metadata": {},
   "outputs": [
    {
     "name": "stdout",
     "output_type": "stream",
     "text": [
      "구매수량을 입력하세요 : 5\n",
      "36, 2, 4, 39, 31, 45, \n",
      "8, 30, 31, 40, 39, 16, \n",
      "4, 26, 9, 13, 27, 20, \n",
      "31, 43, 4, 9, 40, 14, \n",
      "21, 36, 17, 15, 30, 18, \n"
     ]
    }
   ],
   "source": [
    "cnt =  int(input(\"구매수량을 입력하세요 : \"))\n",
    "for qty in range(0, cnt):\n",
    "    lotto = []\n",
    "    for i in range(1, 45 +1):\n",
    "        lotto.append(i)\n",
    "    size = len(lotto)\n",
    "    for count in range(0, 6):\n",
    "        size -= 1\n",
    "        idx = random.randint(0, size)\n",
    "        lottoNum = lotto.pop(idx)\n",
    "        print(lottoNum, end=\", \")\n",
    "    print()"
   ]
  },
  {
   "cell_type": "code",
   "execution_count": 147,
   "id": "bb4ffe7d",
   "metadata": {},
   "outputs": [
    {
     "name": "stdout",
     "output_type": "stream",
     "text": [
      "(1, 2)\n",
      "3\n",
      "(3, 4)\n",
      "7\n",
      "(5, 6)\n",
      "11\n",
      "3\n",
      "============================================================\n",
      "3\n",
      "7\n",
      "11\n",
      "3\n",
      "7\n",
      "11\n"
     ]
    }
   ],
   "source": [
    "l1 = [(1,2),(3,4),(5,6)]\n",
    "for t in l1:\n",
    "    print(t)\n",
    "    print(t[0] + t[1])\n",
    "\n",
    "# 변수 선언 : \n",
    "a,b = (1,2)\n",
    "print( a + b)\n",
    "print(\"==\" * 30)\n",
    "for a, b in l1:\n",
    "    print(a +b)\n",
    "\n",
    "(a,b) = (1,2)\n",
    "for (a,b) in l1:\n",
    "    print(a + b)"
   ]
  },
  {
   "cell_type": "code",
   "execution_count": 149,
   "id": "58da31a1",
   "metadata": {},
   "outputs": [
    {
     "name": "stdout",
     "output_type": "stream",
     "text": [
      "6\n",
      "15\n",
      "24\n",
      "6\n",
      "15\n",
      "24\n",
      "6\n",
      "15\n",
      "24\n"
     ]
    }
   ],
   "source": [
    "l2 = [[1,2,3],[4,5,6],[7,8,9]]\n",
    "for a,b,c in l2:\n",
    "    print(a + b+ c)\n",
    "for (a,b,c) in l2:\n",
    "    print(a + b+ c)\n",
    "for [a,b,c] in l2:\n",
    "    print(a + b+ c)"
   ]
  },
  {
   "cell_type": "code",
   "execution_count": null,
   "id": "7727a8df",
   "metadata": {},
   "outputs": [],
   "source": [
    "#  요소의 크기가 다른 경우에는 사용하지 못한다.\n",
    "'''\n",
    "l2 = [[1,2,3],[4,5],[7,8,9,10]]\n",
    "for a,b,c,d in l2:\n",
    "    print(a,b,c,d)\n",
    "'''"
   ]
  },
  {
   "cell_type": "code",
   "execution_count": 156,
   "id": "616bf70a",
   "metadata": {},
   "outputs": [
    {
     "name": "stdout",
     "output_type": "stream",
     "text": [
      "[1, 2, 3, 4, 5, 6, 7, 8, 9]\n",
      "[1, 2, 3, 4, 5, 6, 7, 8, 9]\n",
      "============================================================\n",
      "[1, 2, 3, 4, 5, 6, 7, 8, 9, 10, 11, 12, 13, 14, 15, 16, 17, 18, 19, 20, 21, 22, 23, 24, 25, 26, 27, 28, 29, 30, 31, 32, 33, 34, 35, 36, 37, 38, 39, 40, 41, 42, 43, 44, 45]\n"
     ]
    }
   ],
   "source": [
    "# 리스트를 포함한 반복문\n",
    "l = []\n",
    "for num in range(1, 10):\n",
    "    l.append(num)\n",
    "print(l)\n",
    "\n",
    "l = [num for num in range(1, 10)]\n",
    "print(l)\n",
    "\n",
    "# 로또\n",
    "lotto = []\n",
    "i = 1\n",
    "while i <= 45:\n",
    "    lotto.append(i)\n",
    "    i += 1\n",
    "lotto = [] \n",
    "for i in range(1, 46):\n",
    "    lotto.append(i)\n",
    "    \n",
    "print(\"==\" * 30)\n",
    "\n",
    "lotto= [i for i in range(1, 46)]\n",
    "print(lotto)"
   ]
  },
  {
   "cell_type": "code",
   "execution_count": 158,
   "id": "cf91a9f6",
   "metadata": {},
   "outputs": [
    {
     "name": "stdout",
     "output_type": "stream",
     "text": [
      "[3, 6, 9, 12]\n",
      "============================================================\n",
      "[3, 6, 9, 12]\n"
     ]
    }
   ],
   "source": [
    "t = (1,2,3,4)\n",
    "l = [] \n",
    "# 튜플에 있는 값에 3을 곱해서 리스트에 저장해라.\n",
    "for num in t:\n",
    "    l.append(num * 3)\n",
    "print(l)\n",
    "print(\"==\" * 30)\n",
    "l = [num * 3 for num in t]\n",
    "print(l)"
   ]
  },
  {
   "cell_type": "code",
   "execution_count": 160,
   "id": "b84c59d3",
   "metadata": {},
   "outputs": [
    {
     "name": "stdout",
     "output_type": "stream",
     "text": [
      "[6, 12, 18, 24]\n",
      "============================================================\n",
      "[6, 12, 18, 24]\n"
     ]
    }
   ],
   "source": [
    "t = 1,2,3,4,5,6,7,8,9\n",
    "l = []\n",
    "#튜플에 있는 값중 짝수만 3을 곱해서 리스트에 저장\n",
    "for num in t:\n",
    "    if num % 2 == 0:\n",
    "        l.append(num * 3)\n",
    "print(l)\n",
    "print(\"==\" * 30)\n",
    "l = [num * 3 for num in t if num % 2 == 0]\n",
    "print(l)"
   ]
  },
  {
   "cell_type": "code",
   "execution_count": 164,
   "id": "69c545ff",
   "metadata": {},
   "outputs": [
    {
     "name": "stdout",
     "output_type": "stream",
     "text": [
      "[3, 6, 9, 12, 15, 18, 21, 24, 27, 4, 8, 12, 16, 20, 24, 28, 32, 36, 5, 10, 15, 20, 25, 30, 35, 40, 45]\n",
      "============================================================\n",
      "[6, 12, 18, 24, 4, 8, 12, 16, 20, 24, 28, 32, 36, 10, 20, 30, 40]\n",
      "============================================================\n",
      "[6, 12, 18, 24, 4, 8, 12, 16, 20, 24, 28, 32, 36, 10, 20, 30, 40]\n"
     ]
    }
   ],
   "source": [
    "l =[]\n",
    "for dan in range(3,6):\n",
    "    for gop in range(1, 10):\n",
    "        l.append(dan * gop)\n",
    "print(l)\n",
    "print(\"==\" * 30)\n",
    "l = [dan * gop for dan in range(3,6)\n",
    "               for gop in range(1, 10)]\n",
    "\n",
    "#  3~5단의 곱의 값이 짝수만 리스트에 저장\n",
    "l = []\n",
    "for dan in range(3, 6):\n",
    "    for gop in range(1, 10):\n",
    "        if dan * gop % 2 == 0:\n",
    "            l.append(dan* gop)\n",
    "print(l)\n",
    "print(\"==\" * 30)\n",
    "l = [dan* gop for dan in range(3, 6) \n",
    "              for gop in range(1, 10) if dan * gop % 2 == 0 ]\n",
    "print(l)\n",
    "\n",
    "# 제어문 : 조건문  단일  if, if ~ else if ~ elif ~ else , 중첩if문 , \n",
    "#         반복문 while, for each, continue, break,리스트를 포함한 반복문"
   ]
  },
  {
   "cell_type": "code",
   "execution_count": 165,
   "id": "25d4bb6a",
   "metadata": {},
   "outputs": [],
   "source": [
    "# 함수(function) : x값에 따른 y값의 변화를 알고 싶을 때\n",
    "'''\n",
    "f(x) = 2x + 3일때 \n",
    "y = f(4)라면 y값은 얼마가 되나요? 11\n",
    "y = f(5)라면 y값은 얼마가 되나요? 13\n",
    "'''\n",
    "def f(x):  # 피호출함수 : x를 가인자(parameter)\n",
    "    return 2 * x + 3"
   ]
  },
  {
   "cell_type": "code",
   "execution_count": 166,
   "id": "89a2876a",
   "metadata": {},
   "outputs": [
    {
     "name": "stdout",
     "output_type": "stream",
     "text": [
      "11\n"
     ]
    }
   ],
   "source": [
    "y = f(4)  # 호출함수 : 4를 인자(argument)\n",
    "print(y)"
   ]
  },
  {
   "cell_type": "code",
   "execution_count": 167,
   "id": "a028a724",
   "metadata": {},
   "outputs": [
    {
     "name": "stdout",
     "output_type": "stream",
     "text": [
      "13\n"
     ]
    }
   ],
   "source": [
    "y = f(5)\n",
    "print(y)"
   ]
  },
  {
   "cell_type": "code",
   "execution_count": 186,
   "id": "f4878d88",
   "metadata": {},
   "outputs": [],
   "source": [
    "'''\n",
    "f(x1, x2) = 3x1 + 5x2 + 4일 때\n",
    "y = f(4, 5)라면 y값은?\n",
    "'''\n",
    "def f(x1, x2): # x1, x2 : 가인자 , parameter : 매개변수\n",
    "    return 3*x1 + 5*x2 +4"
   ]
  },
  {
   "cell_type": "code",
   "execution_count": 187,
   "id": "21b1b44a",
   "metadata": {},
   "outputs": [
    {
     "name": "stdout",
     "output_type": "stream",
     "text": [
      "41\n"
     ]
    }
   ],
   "source": [
    "y = f(4, 5)\n",
    "print(y)\n",
    "## argument값을 parameter에 전달\n",
    "## argument와 parameter는 1대1대응해야 한다.\n",
    "## argument와 parameter의 갯수는 같아야 한다.\n",
    "## 호출함수를 실행하려면 피호출함수는 먼저 실행되어 있어야 한다.\n",
    "## 피호출함수를 호출하기 위해서는 호출함수의 이름은 피호출함수와 같아야 한다.\n",
    "## return문 뒤에 있는 결과값은 호출함수에 전달된다.\n",
    "'''\n",
    "함수의 정의 : 피호출함수 정의\n",
    "def  함수명(parameter_1,parameter_2,...,parameter_n):\n",
    "    명령어1\n",
    "    명령어2\n",
    "    명령어3\n",
    "    ...\n",
    "    명령어n\n",
    "    return 결과값\n",
    "\n",
    "변수 = 함수명(argument_1, agument_2,...,argument_n)\n",
    "print(변수)\n",
    "'''"
   ]
  },
  {
   "cell_type": "code",
   "execution_count": 188,
   "id": "c81b8630",
   "metadata": {},
   "outputs": [],
   "source": [
    "def sum(x1, x2):\n",
    "    return x1 + x2"
   ]
  },
  {
   "cell_type": "code",
   "execution_count": 189,
   "id": "cbb93dfe",
   "metadata": {},
   "outputs": [
    {
     "name": "stdout",
     "output_type": "stream",
     "text": [
      "8\n"
     ]
    }
   ],
   "source": [
    "y = sum(3, 5)\n",
    "print(y)"
   ]
  },
  {
   "cell_type": "code",
   "execution_count": 190,
   "id": "46a26b94",
   "metadata": {},
   "outputs": [
    {
     "name": "stdout",
     "output_type": "stream",
     "text": [
      "3 * 1 = 3\n",
      "3 * 2 = 6\n",
      "3 * 3 = 9\n",
      "3 * 4 = 12\n",
      "3 * 5 = 15\n",
      "3 * 6 = 18\n",
      "3 * 7 = 21\n",
      "3 * 8 = 24\n",
      "3 * 9 = 27\n"
     ]
    }
   ],
   "source": [
    "#3단\n",
    "for gop in range(1, 10):\n",
    "    print(f\"3 * {gop} = {3 * gop}\");"
   ]
  },
  {
   "cell_type": "code",
   "execution_count": 191,
   "id": "d6d940e9",
   "metadata": {},
   "outputs": [],
   "source": [
    "def gugu3():\n",
    "    for gop in range(1, 10):\n",
    "        print(f\"3 * {gop} = {3 * gop}\");"
   ]
  },
  {
   "cell_type": "code",
   "execution_count": 192,
   "id": "1eb97e39",
   "metadata": {},
   "outputs": [
    {
     "name": "stdout",
     "output_type": "stream",
     "text": [
      "3 * 1 = 3\n",
      "3 * 2 = 6\n",
      "3 * 3 = 9\n",
      "3 * 4 = 12\n",
      "3 * 5 = 15\n",
      "3 * 6 = 18\n",
      "3 * 7 = 21\n",
      "3 * 8 = 24\n",
      "3 * 9 = 27\n"
     ]
    }
   ],
   "source": [
    "gugu3()"
   ]
  },
  {
   "cell_type": "code",
   "execution_count": 195,
   "id": "f5fa36f9",
   "metadata": {},
   "outputs": [
    {
     "name": "stdout",
     "output_type": "stream",
     "text": [
      "3 * 1 = 3\n",
      "3 * 2 = 6\n",
      "3 * 3 = 9\n",
      "3 * 4 = 12\n",
      "3 * 5 = 15\n",
      "3 * 6 = 18\n",
      "3 * 7 = 21\n",
      "3 * 8 = 24\n",
      "3 * 9 = 27\n"
     ]
    }
   ],
   "source": [
    "#3단\n",
    "dan = 3\n",
    "for gop in range(1, 10):\n",
    "    print(f\"{dan} * {gop} = {dan * gop}\");"
   ]
  },
  {
   "cell_type": "code",
   "execution_count": 196,
   "id": "f7f5adbb",
   "metadata": {},
   "outputs": [],
   "source": [
    "def guguDan(dan):\n",
    "    for gop in range(1, 10):\n",
    "        print(f\"{dan} * {gop} = {dan * gop}\");"
   ]
  },
  {
   "cell_type": "code",
   "execution_count": 201,
   "id": "4839e37f",
   "metadata": {},
   "outputs": [
    {
     "name": "stdout",
     "output_type": "stream",
     "text": [
      "원하는 단을 입력해주세요4\n",
      "4 * 1 = 4\n",
      "4 * 2 = 8\n",
      "4 * 3 = 12\n",
      "4 * 4 = 16\n",
      "4 * 5 = 20\n",
      "4 * 6 = 24\n",
      "4 * 7 = 28\n",
      "4 * 8 = 32\n",
      "4 * 9 = 36\n"
     ]
    }
   ],
   "source": [
    "dan = int(input(\"원하는 단을 입력해주세요\"))\n",
    "guguDan(dan)"
   ]
  },
  {
   "cell_type": "code",
   "execution_count": 202,
   "id": "04baf36d",
   "metadata": {},
   "outputs": [],
   "source": [
    "def guguDan2(startDan, endDan, startGop, endGop):\n",
    "    for dan in range(startDan, endDan + 1):\n",
    "        for gop in range(startGop, endGop + 1):\n",
    "            print(f\"{dan} * {gop} = {dan * gop}\")"
   ]
  },
  {
   "cell_type": "code",
   "execution_count": 203,
   "id": "e15b1a05",
   "metadata": {},
   "outputs": [
    {
     "name": "stdout",
     "output_type": "stream",
     "text": [
      "2 * 5 = 10\n",
      "2 * 6 = 12\n",
      "2 * 7 = 14\n",
      "3 * 5 = 15\n",
      "3 * 6 = 18\n",
      "3 * 7 = 21\n",
      "4 * 5 = 20\n",
      "4 * 6 = 24\n",
      "4 * 7 = 28\n"
     ]
    }
   ],
   "source": [
    "guguDan2(2, 4, 5, 7)"
   ]
  },
  {
   "cell_type": "code",
   "execution_count": 204,
   "id": "72a4998d",
   "metadata": {},
   "outputs": [
    {
     "name": "stdout",
     "output_type": "stream",
     "text": [
      "시작단을 입력하세요. : 3\n",
      "마지막단을 입력하세요. : 5\n",
      "시작곱을 입력하세요. : 4\n",
      "마지막곱을 입력하세요. : 7\n",
      "3 * 4 = 12\n",
      "3 * 5 = 15\n",
      "3 * 6 = 18\n",
      "3 * 7 = 21\n",
      "4 * 4 = 16\n",
      "4 * 5 = 20\n",
      "4 * 6 = 24\n",
      "4 * 7 = 28\n",
      "5 * 4 = 20\n",
      "5 * 5 = 25\n",
      "5 * 6 = 30\n",
      "5 * 7 = 35\n"
     ]
    }
   ],
   "source": [
    "startDan = int(input(\"시작단을 입력하세요. : \"))\n",
    "endDan = int(input(\"마지막단을 입력하세요. : \"))\n",
    "startGop = int(input(\"시작곱을 입력하세요. : \"))\n",
    "endGop = int(input(\"마지막곱을 입력하세요. : \"))\n",
    "guguDan2(startDan, endDan, startGop, endGop)"
   ]
  },
  {
   "cell_type": "code",
   "execution_count": 205,
   "id": "5d7a67dd",
   "metadata": {},
   "outputs": [],
   "source": [
    "def guguDan3():\n",
    "    startDan = int(input(\"시작단을 입력하세요. : \"))\n",
    "    endDan = int(input(\"마지막단을 입력하세요. : \"))\n",
    "    startGop = int(input(\"시작곱을 입력하세요. : \"))\n",
    "    endGop = int(input(\"마지막곱을 입력하세요. : \"))\n",
    "    for dan in range(startDan, endDan + 1):\n",
    "        for gop in range(startGop, endGop + 1):\n",
    "            print(f\"{dan} * {gop} = {dan * gop}\")"
   ]
  },
  {
   "cell_type": "code",
   "execution_count": 206,
   "id": "b6b9387d",
   "metadata": {},
   "outputs": [
    {
     "name": "stdout",
     "output_type": "stream",
     "text": [
      "시작단을 입력하세요. : 3\n",
      "마지막단을 입력하세요. : 4\n",
      "시작곱을 입력하세요. : 5\n",
      "마지막곱을 입력하세요. : 6\n",
      "3 * 5 = 15\n",
      "3 * 6 = 18\n",
      "4 * 5 = 20\n",
      "4 * 6 = 24\n"
     ]
    }
   ],
   "source": [
    "guguDan3()"
   ]
  },
  {
   "cell_type": "code",
   "execution_count": 215,
   "id": "8ef3bb42",
   "metadata": {},
   "outputs": [],
   "source": [
    "# 함수의 유형 : 4가지 유형\n",
    "# 1. 입력값(parameter)이 있고 출력값(return)도 있는 경우\n",
    "def add(x1, x2):\n",
    "    result = x1 + x2\n",
    "    return result"
   ]
  },
  {
   "cell_type": "code",
   "execution_count": 216,
   "id": "46a823ff",
   "metadata": {},
   "outputs": [
    {
     "name": "stdout",
     "output_type": "stream",
     "text": [
      "숫자를 입력해주세요. 3\n",
      "숫자를 입력해주세요. 5\n",
      "8\n"
     ]
    }
   ],
   "source": [
    "k =  int(input(\"숫자를 입력해주세요. \"))\n",
    "j =  int(input(\"숫자를 입력해주세요. \"))\n",
    "i = add(k, j)\n",
    "print(i)"
   ]
  },
  {
   "cell_type": "code",
   "execution_count": 213,
   "id": "8ef74d68",
   "metadata": {},
   "outputs": [],
   "source": [
    "# 2. 입력값(parameter)은 없고 출력값(return)만 있는 경우\n",
    "def add():\n",
    "    x1 = int(input(\"숫자를 입력해주세요. \"))\n",
    "    x2 = int(input(\"숫자를 입력해주세요. \"))\n",
    "    result = x1 + x2\n",
    "    return result"
   ]
  },
  {
   "cell_type": "code",
   "execution_count": 214,
   "id": "72615c89",
   "metadata": {},
   "outputs": [
    {
     "name": "stdout",
     "output_type": "stream",
     "text": [
      "숫자를 입력해주세요. 3\n",
      "숫자를 입력해주세요. 7\n",
      "10\n"
     ]
    }
   ],
   "source": [
    "i = add()\n",
    "print(i)"
   ]
  },
  {
   "cell_type": "code",
   "execution_count": 217,
   "id": "b0ade7e5",
   "metadata": {},
   "outputs": [],
   "source": [
    "# 3. 입력값(parameter)은 있고 출력값(return)이 없는 경우\n",
    "def add(x1 ,x2):\n",
    "    result = x1 + x2\n",
    "    print(result)"
   ]
  },
  {
   "cell_type": "code",
   "execution_count": 219,
   "id": "f2e7b9ef",
   "metadata": {},
   "outputs": [
    {
     "name": "stdout",
     "output_type": "stream",
     "text": [
      "숫자를 입력하세요 : 3\n",
      "숫자를 입력하세요 : 7\n",
      "10\n"
     ]
    }
   ],
   "source": [
    "k = int(input(\"숫자를 입력하세요 : \"))\n",
    "j = int(input(\"숫자를 입력하세요 : \"))\n",
    "add(k, j)"
   ]
  },
  {
   "cell_type": "code",
   "execution_count": 222,
   "id": "9c5eddc0",
   "metadata": {},
   "outputs": [],
   "source": [
    "# 4. 입력값(parameter)이 없고 출력값(return)도 없는 경우\n",
    "def add():\n",
    "    x1 = int(input(\"숫자를 입력해주세요. : \"))\n",
    "    x2 = int(input(\"숫자를 입력해주세요. : \"))\n",
    "    result = x1 + x2\n",
    "    print(result)"
   ]
  },
  {
   "cell_type": "code",
   "execution_count": 223,
   "id": "b59ab56b",
   "metadata": {},
   "outputs": [
    {
     "name": "stdout",
     "output_type": "stream",
     "text": [
      "숫자를 입력해주세요. : 3\n",
      "숫자를 입력해주세요. : 7\n",
      "10\n"
     ]
    }
   ],
   "source": [
    "add()"
   ]
  },
  {
   "cell_type": "code",
   "execution_count": 247,
   "id": "4c90f646",
   "metadata": {},
   "outputs": [],
   "source": [
    "def lottoFnc():\n",
    "    cnt =  int(input(\"구매수량을 입력하세요 : \"))\n",
    "    for qty in range(0, cnt):\n",
    "        lotto = []\n",
    "        for i in range(1, 45 +1):\n",
    "            lotto.append(i)\n",
    "        size = len(lotto)\n",
    "        for count in range(0, 6):\n",
    "            size -= 1\n",
    "            idx = random.randint(0, size)\n",
    "            lottoNum = lotto.pop(idx)\n",
    "            print(lottoNum, end=\", \")\n",
    "        print()"
   ]
  },
  {
   "cell_type": "code",
   "execution_count": 227,
   "id": "9505ac60",
   "metadata": {},
   "outputs": [
    {
     "name": "stdout",
     "output_type": "stream",
     "text": [
      "구매수량을 입력하세요 : 5\n",
      "7, 11, 27, 25, 44, 8, \n",
      "34, 12, 15, 10, 45, 13, \n",
      "5, 2, 1, 35, 33, 14, \n",
      "35, 31, 16, 42, 4, 28, \n",
      "4, 34, 19, 6, 41, 43, \n"
     ]
    }
   ],
   "source": [
    "lottoFnc()"
   ]
  },
  {
   "cell_type": "code",
   "execution_count": 244,
   "id": "377da295",
   "metadata": {},
   "outputs": [],
   "source": [
    "def lottoFnc1(cnt):\n",
    "    for qty in range(0, cnt):\n",
    "        lotto = []\n",
    "        for i in range(1, 45 +1):\n",
    "            lotto.append(i)\n",
    "        size = len(lotto)\n",
    "        for count in range(0, 6):\n",
    "            size -= 1\n",
    "            idx = random.randint(0, size)\n",
    "            lottoNum = lotto.pop(idx)\n",
    "            print(lottoNum, end=\", \")\n",
    "        print()"
   ]
  },
  {
   "cell_type": "code",
   "execution_count": 248,
   "id": "a36d0057",
   "metadata": {},
   "outputs": [
    {
     "name": "stdout",
     "output_type": "stream",
     "text": [
      "구매수량을 입력하세요 : 5\n",
      "30, 15, 37, 17, 40, 41, \n",
      "1, 41, 27, 7, 30, 13, \n",
      "3, 13, 26, 36, 38, 23, \n",
      "32, 19, 6, 13, 35, 41, \n",
      "41, 23, 31, 6, 8, 17, \n"
     ]
    }
   ],
   "source": [
    "cnt =  int(input(\"구매수량을 입력하세요 : \"))\n",
    "lottoFnc1(cnt)"
   ]
  },
  {
   "cell_type": "code",
   "execution_count": 249,
   "id": "9c797e3a",
   "metadata": {},
   "outputs": [
    {
     "name": "stdout",
     "output_type": "stream",
     "text": [
      "구매수량을 입력하세요 : 5\n",
      "45, 23, 9, 11, 25, 8, \n",
      "10, 9, 36, 26, 37, 39, \n",
      "16, 11, 42, 39, 10, 28, \n",
      "44, 41, 29, 15, 22, 37, \n",
      "30, 21, 24, 28, 45, 29, \n"
     ]
    }
   ],
   "source": [
    "lottoFnc()"
   ]
  },
  {
   "cell_type": "code",
   "execution_count": 251,
   "id": "80c6c088",
   "metadata": {},
   "outputs": [
    {
     "name": "stdout",
     "output_type": "stream",
     "text": [
      "5050\n"
     ]
    }
   ],
   "source": [
    "# 1 ~ 100까지의 합을 구하시오.\n",
    "sum = 0\n",
    "for num in range(1, 101):\n",
    "    sum += num\n",
    "print(sum)"
   ]
  },
  {
   "cell_type": "code",
   "execution_count": 252,
   "id": "a4383098",
   "metadata": {},
   "outputs": [],
   "source": [
    "def sum1():\n",
    "    sum = 0\n",
    "    for num in range(1, 101):\n",
    "        sum += num\n",
    "    print(sum)"
   ]
  },
  {
   "cell_type": "code",
   "execution_count": 258,
   "id": "bb778e2a",
   "metadata": {},
   "outputs": [
    {
     "name": "stdout",
     "output_type": "stream",
     "text": [
      "5050\n"
     ]
    }
   ],
   "source": [
    "sum1()"
   ]
  },
  {
   "cell_type": "code",
   "execution_count": 261,
   "id": "fb24e67a",
   "metadata": {},
   "outputs": [],
   "source": [
    "def sum1(start , end):\n",
    "    sum = 0\n",
    "    for num in range(start, end + 1):\n",
    "        sum += num\n",
    "    print(sum)"
   ]
  },
  {
   "cell_type": "code",
   "execution_count": 263,
   "id": "59668b96",
   "metadata": {},
   "outputs": [
    {
     "name": "stdout",
     "output_type": "stream",
     "text": [
      "5050\n",
      "495550\n"
     ]
    }
   ],
   "source": [
    "sum1(1, 100)\n",
    "sum1(100, 1000)"
   ]
  },
  {
   "cell_type": "code",
   "execution_count": 264,
   "id": "fe91f06c",
   "metadata": {},
   "outputs": [],
   "source": [
    "def sum1(start , end):\n",
    "    sum = 0\n",
    "    for num in range(start, end + 1):\n",
    "        sum += num\n",
    "    return sum"
   ]
  },
  {
   "cell_type": "code",
   "execution_count": 267,
   "id": "0dd99ee2",
   "metadata": {},
   "outputs": [
    {
     "name": "stdout",
     "output_type": "stream",
     "text": [
      "5050\n",
      "495550\n"
     ]
    }
   ],
   "source": [
    "result = sum1(1, 100)\n",
    "print(result)\n",
    "result = sum1(100, 1000)\n",
    "print(result)"
   ]
  },
  {
   "cell_type": "code",
   "execution_count": 279,
   "id": "7cf9b2df",
   "metadata": {},
   "outputs": [],
   "source": [
    "# parameter이름을 이용해서 값을 전달\n",
    "def sum12(start , end):\n",
    "    sum0 = 0\n",
    "    for num in range(start , end + 1):\n",
    "        sum0 += num\n",
    "    print(sum0)"
   ]
  },
  {
   "cell_type": "code",
   "execution_count": 283,
   "id": "c7d2717c",
   "metadata": {},
   "outputs": [
    {
     "name": "stdout",
     "output_type": "stream",
     "text": [
      "5050\n",
      "5050\n",
      "5050\n"
     ]
    }
   ],
   "source": [
    "sum12(1, 100)\n",
    "sum12(end=100, start=1)\n",
    "sum12(1, end=100)"
   ]
  },
  {
   "cell_type": "code",
   "execution_count": 284,
   "id": "afede4f9",
   "metadata": {},
   "outputs": [],
   "source": [
    "def sum12(a,b,c,d):\n",
    "    print(a+b+c+d)"
   ]
  },
  {
   "cell_type": "code",
   "execution_count": 287,
   "id": "06472c47",
   "metadata": {},
   "outputs": [
    {
     "name": "stdout",
     "output_type": "stream",
     "text": [
      "10\n",
      "22\n",
      "70\n",
      "160\n"
     ]
    }
   ],
   "source": [
    "sum12(1,2,3,4)\n",
    "sum12(c=3, a=2,d=7,b=10)\n",
    "sum12(10,20, d= 20, c= 20)\n",
    "sum12(10,c = 20, d = 30, b= 100)"
   ]
  },
  {
   "cell_type": "code",
   "execution_count": 294,
   "id": "ada59723",
   "metadata": {},
   "outputs": [],
   "source": [
    "def sum11(* para):\n",
    "    print(para)\n",
    "    result = 0\n",
    "    for num in para:\n",
    "        result += num\n",
    "    print(result)"
   ]
  },
  {
   "cell_type": "code",
   "execution_count": 295,
   "id": "a2811e73",
   "metadata": {},
   "outputs": [
    {
     "name": "stdout",
     "output_type": "stream",
     "text": [
      "(1, 2)\n",
      "3\n",
      "(1, 2, 3)\n",
      "6\n",
      "(1, 2, 3, 4, 5, 6, 7)\n",
      "28\n"
     ]
    }
   ],
   "source": [
    "sum11(1,2)\n",
    "sum11(1,2,3)\n",
    "sum11(1,2,3,4,5,6,7)"
   ]
  },
  {
   "cell_type": "code",
   "execution_count": 298,
   "id": "4b3f86d6",
   "metadata": {},
   "outputs": [],
   "source": [
    "def sum13(* para):\n",
    "    result = 1\n",
    "    if para[0] == 'add':\n",
    "        for idx in range(1, len(para)):\n",
    "            result += para[idx]\n",
    "    elif para[0] == 'sub':\n",
    "        for idx in range(1, len(para)):\n",
    "            result -= para[idx]\n",
    "    elif para[0] == 'mul':\n",
    "        for idx in range(1, len(para)):\n",
    "            result *= para[idx]\n",
    "    elif para[0] == 'div':\n",
    "        for idx in range(1, len(para)):\n",
    "            result /= para[idx]\n",
    "    print(result)"
   ]
  },
  {
   "cell_type": "code",
   "execution_count": 299,
   "id": "2ae9dc75",
   "metadata": {},
   "outputs": [
    {
     "name": "stdout",
     "output_type": "stream",
     "text": [
      "76\n",
      "5040\n"
     ]
    }
   ],
   "source": [
    "sum13('add',2,4,56,6,7)\n",
    "sum13('mul',2,3,4,5,6,7)"
   ]
  },
  {
   "cell_type": "code",
   "execution_count": 304,
   "id": "2cf67a41",
   "metadata": {},
   "outputs": [],
   "source": [
    "def sum14(opt , *para):\n",
    "    result = 1\n",
    "    if opt == \"add\":\n",
    "        for num in para:\n",
    "            result += num\n",
    "    elif opt == \"sub\":\n",
    "        for num in para:\n",
    "            result -= num\n",
    "    elif opt == \"mul\":\n",
    "        for num in para:\n",
    "            result *= num\n",
    "    elif opt == \"div\":\n",
    "        for num in para:\n",
    "            result /= num\n",
    "    print(result)"
   ]
  },
  {
   "cell_type": "code",
   "execution_count": 305,
   "id": "a29cc9d1",
   "metadata": {},
   "outputs": [
    {
     "name": "stdout",
     "output_type": "stream",
     "text": [
      "76\n",
      "5040\n"
     ]
    }
   ],
   "source": [
    "sum14('add',2,4,56,6,7)\n",
    "sum14('mul',2,3,4,5,6,7)"
   ]
  },
  {
   "cell_type": "code",
   "execution_count": 306,
   "id": "c4dae20e",
   "metadata": {},
   "outputs": [],
   "source": [
    "# 함수의 기본 : 결과값은 오직 하나이어야 한다.\n",
    "def add_mul(x, y):\n",
    "    i = x + y\n",
    "    j = x * y\n",
    "    return i, j"
   ]
  },
  {
   "cell_type": "code",
   "execution_count": 308,
   "id": "03465679",
   "metadata": {},
   "outputs": [
    {
     "name": "stdout",
     "output_type": "stream",
     "text": [
      "(8, 15)\n",
      "8 15\n"
     ]
    }
   ],
   "source": [
    "result = add_mul(3, 5)\n",
    "print(result)\n",
    "x1 , x2 = add_mul(3, 5)\n",
    "print(x1, x2)"
   ]
  },
  {
   "cell_type": "code",
   "execution_count": 311,
   "id": "9e1110a0",
   "metadata": {},
   "outputs": [],
   "source": [
    "def add_mul(x, y):\n",
    "    i = x + y\n",
    "    j = x * y\n",
    "    return i # return은 함수를 종료하겠다.\n",
    "    return j # 이미 함수가 종료되어서 실행되지 않는다."
   ]
  },
  {
   "cell_type": "code",
   "execution_count": 310,
   "id": "7f5d30e9",
   "metadata": {},
   "outputs": [
    {
     "name": "stdout",
     "output_type": "stream",
     "text": [
      "6\n"
     ]
    }
   ],
   "source": [
    "result = add_mul(1, 5)\n",
    "print(result)"
   ]
  },
  {
   "cell_type": "code",
   "execution_count": 317,
   "id": "1eedd60b",
   "metadata": {},
   "outputs": [],
   "source": [
    "#### 매개변수에 초깃값 미리 설정하기 \n",
    "def say_myself(name, old, man):\n",
    "    print(\"나의 이름은 %s입니다.\" % name)\n",
    "    print(\"나의 나이는 %d입니다.\" % old)\n",
    "    if man:\n",
    "        print(\"남자입니다.\")\n",
    "    else:\n",
    "        print(\"여자입니다.\")"
   ]
  },
  {
   "cell_type": "code",
   "execution_count": 318,
   "id": "721802aa",
   "metadata": {},
   "outputs": [
    {
     "name": "stdout",
     "output_type": "stream",
     "text": [
      "나의 이름은 이숭무입니다.\n",
      "나의 나이는 35입니다.\n",
      "남자입니다.\n",
      "나의 이름은 이숭무입니다.\n",
      "나의 나이는 35입니다.\n",
      "남자입니다.\n"
     ]
    },
    {
     "ename": "TypeError",
     "evalue": "say_myself() missing 1 required positional argument: 'man'",
     "output_type": "error",
     "traceback": [
      "\u001b[1;31m---------------------------------------------------------------------------\u001b[0m",
      "\u001b[1;31mTypeError\u001b[0m                                 Traceback (most recent call last)",
      "Cell \u001b[1;32mIn[318], line 3\u001b[0m\n\u001b[0;32m      1\u001b[0m say_myself(\u001b[38;5;124m'\u001b[39m\u001b[38;5;124m이숭무\u001b[39m\u001b[38;5;124m'\u001b[39m, \u001b[38;5;241m35\u001b[39m, \u001b[38;5;28;01mTrue\u001b[39;00m)\n\u001b[0;32m      2\u001b[0m say_myself(old\u001b[38;5;241m=\u001b[39m\u001b[38;5;241m35\u001b[39m, man\u001b[38;5;241m=\u001b[39m\u001b[38;5;28;01mTrue\u001b[39;00m, name\u001b[38;5;241m=\u001b[39m\u001b[38;5;124m'\u001b[39m\u001b[38;5;124m이숭무\u001b[39m\u001b[38;5;124m'\u001b[39m)\n\u001b[1;32m----> 3\u001b[0m \u001b[43msay_myself\u001b[49m\u001b[43m(\u001b[49m\u001b[38;5;124;43m'\u001b[39;49m\u001b[38;5;124;43m이숭무\u001b[39;49m\u001b[38;5;124;43m'\u001b[39;49m\u001b[43m,\u001b[49m\u001b[43m \u001b[49m\u001b[38;5;241;43m35\u001b[39;49m\u001b[43m)\u001b[49m\n",
      "\u001b[1;31mTypeError\u001b[0m: say_myself() missing 1 required positional argument: 'man'"
     ]
    }
   ],
   "source": [
    "say_myself('이숭무', 35, True)\n",
    "say_myself(old=35, man=True, name='이숭무')\n",
    "# say_myself('이숭무', 35) : say_myself() missing 1 required positional argument: 'man'"
   ]
  },
  {
   "cell_type": "code",
   "execution_count": 319,
   "id": "1b8276a9",
   "metadata": {},
   "outputs": [],
   "source": [
    "def say_myself(name, old, man = True):\n",
    "    print(\"나의 이름은 %s입니다.\" % name)\n",
    "    print(\"나의 나이는 %d입니다.\" % old)\n",
    "    if man:\n",
    "        print(\"남자입니다.\")\n",
    "    else:\n",
    "        print(\"여자입니다.\")"
   ]
  },
  {
   "cell_type": "code",
   "execution_count": 322,
   "id": "011ab450",
   "metadata": {},
   "outputs": [
    {
     "name": "stdout",
     "output_type": "stream",
     "text": [
      "나의 이름은 이숭무입니다.\n",
      "나의 나이는 35입니다.\n",
      "남자입니다.\n",
      "나의 이름은 오연희입니다.\n",
      "나의 나이는 45입니다.\n",
      "여자입니다.\n",
      "나의 이름은 이상범입니다.\n",
      "나의 나이는 18입니다.\n",
      "남자입니다.\n"
     ]
    }
   ],
   "source": [
    "say_myself('이숭무', 35)\n",
    "say_myself('오연희', 45, False)\n",
    "say_myself('이상범', 18, True)"
   ]
  },
  {
   "cell_type": "code",
   "execution_count": 323,
   "id": "228c45fc",
   "metadata": {},
   "outputs": [],
   "source": [
    "def say_myself(name, old = 30, man = True):\n",
    "    print(\"나의 이름은 %s입니다.\" % name)\n",
    "    print(\"나의 나이는 %d입니다.\" % old)\n",
    "    if man:\n",
    "        print(\"남자입니다.\")\n",
    "    else:\n",
    "        print(\"여자입니다.\")"
   ]
  },
  {
   "cell_type": "code",
   "execution_count": 328,
   "id": "e15412b5",
   "metadata": {},
   "outputs": [
    {
     "name": "stdout",
     "output_type": "stream",
     "text": [
      "나의 이름은 이숭무입니다.\n",
      "나의 나이는 30입니다.\n",
      "남자입니다.\n",
      "나의 이름은 오연의입니다.\n",
      "나의 나이는 50입니다.\n",
      "남자입니다.\n",
      "나의 이름은 박준현입니다.\n",
      "나의 나이는 40입니다.\n",
      "여자입니다.\n",
      "나의 이름은 이숭무입니다.\n",
      "나의 나이는 30입니다.\n",
      "여자입니다.\n",
      "나의 이름은 이상범입니다.\n",
      "나의 나이는 0입니다.\n",
      "남자입니다.\n"
     ]
    }
   ],
   "source": [
    "say_myself('이숭무')\n",
    "say_myself('오연의' , 50)\n",
    "say_myself('박준현', 40, False)\n",
    "say_myself('이숭무', man=False)\n",
    "say_myself('이상범', False)"
   ]
  },
  {
   "cell_type": "code",
   "execution_count": 329,
   "id": "f551fd4e",
   "metadata": {},
   "outputs": [
    {
     "ename": "SyntaxError",
     "evalue": "non-default argument follows default argument (2521906555.py, line 1)",
     "output_type": "error",
     "traceback": [
      "\u001b[1;36m  Cell \u001b[1;32mIn[329], line 1\u001b[1;36m\u001b[0m\n\u001b[1;33m    def say_myself(name, old = 30, man):\u001b[0m\n\u001b[1;37m                                   ^\u001b[0m\n\u001b[1;31mSyntaxError\u001b[0m\u001b[1;31m:\u001b[0m non-default argument follows default argument\n"
     ]
    }
   ],
   "source": [
    "''' 매개변수의 초기 값은 맨 뒤에서부터 초기값을 줘야 한다.\n",
    "def say_myself(name, old = 30, man ):\n",
    "    print(\"나의 이름은 %s입니다.\" % name)\n",
    "    print(\"나의 나이는 %d입니다.\" % old)\n",
    "    if man:\n",
    "        print(\"남자입니다.\")\n",
    "    else:\n",
    "        print(\"여자입니다.\")\n",
    "'''"
   ]
  },
  {
   "cell_type": "code",
   "execution_count": 330,
   "id": "785aeb9d",
   "metadata": {},
   "outputs": [],
   "source": [
    "### lambda함수\n",
    "def add(a,b):\n",
    "    return a + b"
   ]
  },
  {
   "cell_type": "code",
   "execution_count": 341,
   "id": "a38376ce",
   "metadata": {},
   "outputs": [
    {
     "name": "stdout",
     "output_type": "stream",
     "text": [
      "8\n"
     ]
    }
   ],
   "source": [
    "result = add(3, 5)\n",
    "print(result)"
   ]
  },
  {
   "cell_type": "code",
   "execution_count": 342,
   "id": "7bafe014",
   "metadata": {},
   "outputs": [],
   "source": [
    "add = lambda a,b : a + b"
   ]
  },
  {
   "cell_type": "code",
   "execution_count": 339,
   "id": "4773d3ae",
   "metadata": {},
   "outputs": [
    {
     "name": "stdout",
     "output_type": "stream",
     "text": [
      "8\n"
     ]
    }
   ],
   "source": [
    "result = add(3, 5)\n",
    "print(result)"
   ]
  },
  {
   "cell_type": "code",
   "execution_count": 335,
   "id": "a851ce1d",
   "metadata": {},
   "outputs": [],
   "source": [
    "def add(a, b):\n",
    "    print(a + b)"
   ]
  },
  {
   "cell_type": "code",
   "execution_count": 336,
   "id": "80ed1626",
   "metadata": {},
   "outputs": [
    {
     "name": "stdout",
     "output_type": "stream",
     "text": [
      "8\n"
     ]
    }
   ],
   "source": [
    "add(3, 5)"
   ]
  },
  {
   "cell_type": "code",
   "execution_count": 343,
   "id": "0a653a6b",
   "metadata": {},
   "outputs": [],
   "source": [
    "add = lambda a, b : print(a + b)"
   ]
  },
  {
   "cell_type": "code",
   "execution_count": 344,
   "id": "164afcdc",
   "metadata": {},
   "outputs": [
    {
     "name": "stdout",
     "output_type": "stream",
     "text": [
      "8\n"
     ]
    }
   ],
   "source": [
    "add(3, 5)"
   ]
  },
  {
   "cell_type": "code",
   "execution_count": 350,
   "id": "93401631",
   "metadata": {},
   "outputs": [],
   "source": [
    "def calu(opt , a, b):\n",
    "    if opt == \"add\":\n",
    "        return a + b\n",
    "    else:\n",
    "        return a - b"
   ]
  },
  {
   "cell_type": "code",
   "execution_count": 354,
   "id": "83802247",
   "metadata": {},
   "outputs": [
    {
     "name": "stdout",
     "output_type": "stream",
     "text": [
      "7\n"
     ]
    }
   ],
   "source": [
    "result = calu(\"add\", 3,4)\n",
    "print(result)"
   ]
  },
  {
   "cell_type": "code",
   "execution_count": 352,
   "id": "beabbf95",
   "metadata": {},
   "outputs": [],
   "source": [
    "calu = lambda opt , a, b :  a + b if opt == \"add\" else a - b"
   ]
  },
  {
   "cell_type": "code",
   "execution_count": 353,
   "id": "1f3c0b1e",
   "metadata": {},
   "outputs": [
    {
     "data": {
      "text/plain": [
       "7"
      ]
     },
     "execution_count": 353,
     "metadata": {},
     "output_type": "execute_result"
    }
   ],
   "source": [
    "result = calu(\"add\", 3,4)\n",
    "print(result)"
   ]
  },
  {
   "cell_type": "code",
   "execution_count": 355,
   "id": "ac477c28",
   "metadata": {},
   "outputs": [],
   "source": [
    "def calu(opt , a, b):\n",
    "    if opt == \"add\" :\n",
    "        print(a+b)\n",
    "    else:\n",
    "        print(\"덧셈만 가능\")"
   ]
  },
  {
   "cell_type": "code",
   "execution_count": 356,
   "id": "8faa222c",
   "metadata": {},
   "outputs": [
    {
     "name": "stdout",
     "output_type": "stream",
     "text": [
      "덧셈만 가능\n"
     ]
    }
   ],
   "source": [
    "calu(\"mul\", 3, 5)"
   ]
  },
  {
   "cell_type": "code",
   "execution_count": 357,
   "id": "d60a509a",
   "metadata": {},
   "outputs": [],
   "source": [
    "calu = lambda opt , a, b: print(a+b) if opt == \"add\" else  print(\"덧셈만 가능\")"
   ]
  },
  {
   "cell_type": "code",
   "execution_count": 359,
   "id": "7017e39f",
   "metadata": {},
   "outputs": [
    {
     "name": "stdout",
     "output_type": "stream",
     "text": [
      "덧셈만 가능\n"
     ]
    }
   ],
   "source": [
    "calu(\"mul\", 3, 5)"
   ]
  },
  {
   "cell_type": "code",
   "execution_count": 363,
   "id": "cb0d15fc",
   "metadata": {},
   "outputs": [],
   "source": [
    "opt = 'mul'; a = 10; b = 20 \n",
    "if opt == \"add\":\n",
    "    result = a + b\n",
    "elif opt == \"sub\":\n",
    "    result = a - b\n",
    "elif opt == \"mul\":\n",
    "    result = a * b\n",
    "else:\n",
    "    result = a / b"
   ]
  },
  {
   "cell_type": "code",
   "execution_count": 367,
   "id": "796652a8",
   "metadata": {},
   "outputs": [
    {
     "name": "stdout",
     "output_type": "stream",
     "text": [
      "200\n"
     ]
    }
   ],
   "source": [
    "opt = 'mul';a = 10;b = 20 \n",
    "result = a + b if opt == \"add\" else (\n",
    "         a - b if opt == \"sub\" else (\n",
    "         a * b if opt == \"mul\" else \n",
    "         a / b))\n",
    "print(result)"
   ]
  },
  {
   "cell_type": "code",
   "execution_count": 368,
   "id": "f42a8e3b",
   "metadata": {},
   "outputs": [],
   "source": [
    "def calc(opt, a, b):\n",
    "    if opt == \"add\":\n",
    "        return a + b\n",
    "    elif opt == \"sub\":\n",
    "        return a - b\n",
    "    elif opt == \"mul\":\n",
    "        return a * b\n",
    "    else:\n",
    "        return a / b"
   ]
  },
  {
   "cell_type": "code",
   "execution_count": 409,
   "id": "26e4fbc4",
   "metadata": {},
   "outputs": [],
   "source": [
    "# 함수정의\n",
    "calc = lambda opt, a, b : a + b if opt == \"add\" else(\n",
    "                          a - b if opt == \"sub\" else(\n",
    "                          a * b if opt == \"mul\" else\n",
    "                          a / b ))"
   ]
  },
  {
   "cell_type": "code",
   "execution_count": 420,
   "id": "cd31576c",
   "metadata": {},
   "outputs": [
    {
     "name": "stdout",
     "output_type": "stream",
     "text": [
      "50\n"
     ]
    }
   ],
   "source": [
    "# 함수 호출\n",
    "result = calc(\"add\", 30, 20)\n",
    "print(result)"
   ]
  },
  {
   "cell_type": "code",
   "execution_count": 421,
   "id": "bd0083da",
   "metadata": {},
   "outputs": [],
   "source": [
    "def add(a, b=4):\n",
    "    return a +b"
   ]
  },
  {
   "cell_type": "code",
   "execution_count": 423,
   "id": "6835fff6",
   "metadata": {},
   "outputs": [
    {
     "name": "stdout",
     "output_type": "stream",
     "text": [
      "7\n"
     ]
    }
   ],
   "source": [
    "result = add(3)\n",
    "print(result)"
   ]
  },
  {
   "cell_type": "code",
   "execution_count": 424,
   "id": "ed7e13a9",
   "metadata": {},
   "outputs": [],
   "source": [
    "add = lambda a, b=4 : a +b"
   ]
  },
  {
   "cell_type": "code",
   "execution_count": 426,
   "id": "32a468a6",
   "metadata": {},
   "outputs": [
    {
     "name": "stdout",
     "output_type": "stream",
     "text": [
      "7\n"
     ]
    }
   ],
   "source": [
    "result = add(3)\n",
    "print(result)"
   ]
  },
  {
   "cell_type": "code",
   "execution_count": 438,
   "id": "59cc42c9",
   "metadata": {},
   "outputs": [],
   "source": [
    "#전역변수 : 프로그램 전체에서 사용 가능한 변수, 함수밖에 있는 변수\n",
    "#지역변수 : 함수안에서만 사용가능한 변수, 함수안에 정의 되어 있는 변수\n",
    "b = 100 # 전역변수\n",
    "def test3():\n",
    "    print(b)"
   ]
  },
  {
   "cell_type": "code",
   "execution_count": 439,
   "id": "81e5e009",
   "metadata": {},
   "outputs": [
    {
     "name": "stdout",
     "output_type": "stream",
     "text": [
      "100\n"
     ]
    }
   ],
   "source": [
    "test3()"
   ]
  },
  {
   "cell_type": "code",
   "execution_count": 441,
   "id": "13e8c57f",
   "metadata": {},
   "outputs": [
    {
     "name": "stdout",
     "output_type": "stream",
     "text": [
      "함수안에서 실행 :  100\n",
      "함수안에서 실행 :  1000\n",
      "함수밖에서 실행 :  1\n"
     ]
    }
   ],
   "source": [
    "# 전역 변수의 이름과 지역변수의 이름이 같은 경우 함수안에서는 지역변수가 우선한다.\n",
    "b = 1 # 전역변수\n",
    "def test3():\n",
    "    b = 100 # 지역변수\n",
    "    c = 1000\n",
    "    print(\"함수안에서 실행 : \" , b)\n",
    "    print(\"함수안에서 실행 : \" , c)\n",
    "test3()\n",
    "print(\"함수밖에서 실행 : \" , b)"
   ]
  },
  {
   "cell_type": "code",
   "execution_count": 443,
   "id": "f8987392",
   "metadata": {},
   "outputs": [
    {
     "name": "stdout",
     "output_type": "stream",
     "text": [
      "함수안에서 실행 :  100\n",
      "함수안에서 실행 :  1000\n",
      "함수밖에서 실행 :  100\n"
     ]
    }
   ],
   "source": [
    "b = 1 # 전역변수\n",
    "def test3():\n",
    "    global b\n",
    "    b = 100 # 전역변수\n",
    "    c = 1000\n",
    "    print(\"함수안에서 실행 : \" , b)\n",
    "    print(\"함수안에서 실행 : \" , c)\n",
    "test3()\n",
    "print(\"함수밖에서 실행 : \" , b)"
   ]
  },
  {
   "cell_type": "code",
   "execution_count": null,
   "id": "a130e72e",
   "metadata": {},
   "outputs": [],
   "source": []
  },
  {
   "cell_type": "code",
   "execution_count": null,
   "id": "bb88d8e4",
   "metadata": {},
   "outputs": [],
   "source": []
  },
  {
   "cell_type": "code",
   "execution_count": null,
   "id": "c324aad9",
   "metadata": {},
   "outputs": [],
   "source": []
  }
 ],
 "metadata": {
  "kernelspec": {
   "display_name": "Python 3 (ipykernel)",
   "language": "python",
   "name": "python3"
  },
  "language_info": {
   "codemirror_mode": {
    "name": "ipython",
    "version": 3
   },
   "file_extension": ".py",
   "mimetype": "text/x-python",
   "name": "python",
   "nbconvert_exporter": "python",
   "pygments_lexer": "ipython3",
   "version": "3.11.4"
  }
 },
 "nbformat": 4,
 "nbformat_minor": 5
}
