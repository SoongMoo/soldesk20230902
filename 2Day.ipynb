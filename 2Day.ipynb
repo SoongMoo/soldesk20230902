{
 "cells": [
  {
   "cell_type": "code",
   "execution_count": 1,
   "id": "de5d331a",
   "metadata": {},
   "outputs": [
    {
     "name": "stderr",
     "output_type": "stream",
     "text": [
      "C:\\Users\\soldesk\\AppData\\Local\\Temp\\ipykernel_10928\\1014303460.py:1: DeprecationWarning: Importing display from IPython.core.display is deprecated since IPython 7.14, please import from IPython display\n",
      "  from IPython.core.display import display, HTML\n"
     ]
    },
    {
     "data": {
      "text/html": [
       "<style>\n",
       "div.container { width:100% !important; }\n",
       "div.CodeMirror {font-family: Consolas; font-size: 30pt;}\n",
       "div.output { font-size: 20pt; font-weight: bold;}\n",
       "div.input { font-family: Consolas; font-size: 30pt;}\n",
       "div.prompt { min-width: 100px;}\n",
       "</style>\n"
      ],
      "text/plain": [
       "<IPython.core.display.HTML object>"
      ]
     },
     "metadata": {},
     "output_type": "display_data"
    }
   ],
   "source": [
    "from IPython.core.display import display, HTML\n",
    "display(HTML(\n",
    "\"\"\"<style>\n",
    "div.container { width:100% !important; }\n",
    "div.CodeMirror {font-family: Consolas; font-size: 30pt;}\n",
    "div.output { font-size: 20pt; font-weight: bold;}\n",
    "div.input { font-family: Consolas; font-size: 30pt;}\n",
    "div.prompt { min-width: 100px;}\n",
    "</style>\n",
    "\"\"\"))"
   ]
  },
  {
   "cell_type": "code",
   "execution_count": 2,
   "id": "eb14547d",
   "metadata": {},
   "outputs": [
    {
     "name": "stdout",
     "output_type": "stream",
     "text": [
      "10\n",
      "20\n"
     ]
    }
   ],
   "source": [
    "#  리터널 : 자연수 : 정수 , 실수 \n",
    "#          자연어 : 문자열, 문자\n",
    "#          논리형 : True/False\n",
    "# 숫자 연산자 : +, -, *, /, //, %, **\n",
    "# 문자열 \n",
    "#      연산자 : +, *\n",
    "#      indexing, slicing\n",
    "#      포맷팅 : 포맷문자를 이용한 포맷팅\n",
    "#               format()함수를 이용한 포맷팅\n",
    "#               f문자를 이용한 포맷팅\n",
    "#      문자열함수 : 문자열 가공\n",
    "# count(), len(), index(), rindex(), find(), rfind(),lower(), upper(),\n",
    "# strip(), rstip(), lstip(), replace(),split()\n",
    "a = 10\n",
    "print(a)\n",
    "a = 20\n",
    "print(a)"
   ]
  },
  {
   "cell_type": "code",
   "execution_count": 7,
   "id": "0ddd749e",
   "metadata": {},
   "outputs": [
    {
     "name": "stdout",
     "output_type": "stream",
     "text": [
      "['Life', 'is', 'too', 'short']\n",
      "10\n",
      "20\n",
      "[10, 100, 30]\n",
      "L\n"
     ]
    },
    {
     "ename": "TypeError",
     "evalue": "'str' object does not support item assignment",
     "output_type": "error",
     "traceback": [
      "\u001b[1;31m---------------------------------------------------------------------------\u001b[0m",
      "\u001b[1;31mTypeError\u001b[0m                                 Traceback (most recent call last)",
      "Cell \u001b[1;32mIn[7], line 15\u001b[0m\n\u001b[0;32m     13\u001b[0m \u001b[38;5;28mprint\u001b[39m(l)\n\u001b[0;32m     14\u001b[0m \u001b[38;5;28mprint\u001b[39m(str1[\u001b[38;5;241m0\u001b[39m])\n\u001b[1;32m---> 15\u001b[0m \u001b[43mstr1\u001b[49m\u001b[43m[\u001b[49m\u001b[38;5;241;43m0\u001b[39;49m\u001b[43m]\u001b[49m \u001b[38;5;241m=\u001b[39m \u001b[38;5;124m'\u001b[39m\u001b[38;5;124ml\u001b[39m\u001b[38;5;124m'\u001b[39m\n",
      "\u001b[1;31mTypeError\u001b[0m: 'str' object does not support item assignment"
     ]
    }
   ],
   "source": [
    "a = 10;a1 = 20;a2=30\n",
    "# 리스트\n",
    "str1 = \"Life is too short\"\n",
    "#       01234567890123456\n",
    "#                 1        index\n",
    "result = str1.split() # ['Life', 'is', 'too', 'short'] :리스트\n",
    "print(result)\n",
    "l = [10,20,30]  #  하나의 변수에 여러개 값을 저장하려고 \n",
    "#     0  1  2  : index\n",
    "print(l[0])\n",
    "print(l[1])\n",
    "l[1] = 100 # 리스트는 요소에 있는  index를 이용해서 요소값을 변경가능\n",
    "print(l)\n",
    "print(str1[0])\n",
    "# str1[0] = 'l' # 문자열에 있는 문자는 index를 이용해서 변경 수 없다."
   ]
  },
  {
   "cell_type": "code",
   "execution_count": 12,
   "id": "448ecd15",
   "metadata": {},
   "outputs": [
    {
     "name": "stdout",
     "output_type": "stream",
     "text": [
      "20\n",
      "1010\n",
      "Life is too short\n",
      "['Life', 'is', 'too', 'short']\n"
     ]
    }
   ],
   "source": [
    "# 숫자 : 10, 10.5\n",
    "# 문자 , 문자열 : \"a\",'a',\"\"\"a\"\"\",'''a''', \"10\",'10' : a = > 변수\n",
    "# 리스트 : [] : 여러개의 값을 가질 수 있는 자료형\n",
    "#               여러가지의 유형을 저장할 수도 있다.\n",
    "print(10 + 10)\n",
    "#print(\"10\" + 10)\n",
    "print(\"10\" + \"10\")\n",
    "print(str1)\n",
    "result = str1.split()\n",
    "print(result)"
   ]
  },
  {
   "cell_type": "code",
   "execution_count": null,
   "id": "038f7ec9",
   "metadata": {},
   "outputs": [],
   "source": [
    "l = [] # 빈 리스트\n",
    "l = [1,2,3,4] # 정수형리스트\n",
    "l = ['이', '이숭무', 'python'] #  문자열 리스트\n",
    "l = [1,2,'이숭무', 10.5] # 혼합형리스트\n",
    "l = [1,2,3, '이상범', [4,5,6,7]] #  리스트를 포함한 혼합형리스트\n",
    "l = [[1,2,3,4],[5,6,7,8]] # 리스트를 포함한 리스트"
   ]
  },
  {
   "cell_type": "code",
   "execution_count": 27,
   "id": "ff3c157e",
   "metadata": {},
   "outputs": [
    {
     "name": "stdout",
     "output_type": "stream",
     "text": [
      "L\n",
      "4\n",
      "s\n",
      "s\n",
      "3\n",
      "3\n",
      "['Life', 'is', 'too', 'short']\n",
      "is\n",
      "1\n",
      "[1]\n",
      "[1, 2]\n",
      "Life\n",
      "3\n",
      "33\n",
      "330\n",
      "LifeLifeLife\n"
     ]
    }
   ],
   "source": [
    "# indexing\n",
    "l = [1,2,3,4,5,6]\n",
    "#    0 1 2 3 4 5\n",
    "#    6 5 4 3 2 1 -\n",
    "str1 = 'Life is too short'\n",
    "#       01234567890123456\n",
    "#                 1\n",
    "#       ================>\n",
    "#    -  76543210987654321\n",
    "#              1\n",
    "#       <===============\n",
    "print(str1[0])\n",
    "print(l[3])\n",
    "print(str1[-11])\n",
    "print(str1[6])\n",
    "print(l[-4]) # indexing을 하게되면 원래 자료형이 출력\n",
    "print(l[2])\n",
    "result = str1.split()\n",
    "print(result) # ['Life', 'is', 'too', 'short']\n",
    "#                  0      1      2       3\n",
    "print(result[1]) # 문자열이 출력\n",
    "\n",
    "l2 = [1,2,3, 'Life', 'is', [1,2] ,[1], 0.5, \"30\"]\n",
    "#     0 1 2    3       4     5     6    7     8\n",
    "print(l2[0]) #  indexing을 하면 본연의 자료형으로 출력\n",
    "print(l2[6])\n",
    "print(l2[5])\n",
    "print(l2[3])\n",
    "print(l2[0] + l2[1])\n",
    "#print(l2[2] + l2[8])\n",
    "print(l2[2] + int(l2[8]))\n",
    "print(str(l2[2]) + l2[8])\n",
    "print(l2[3] * l2[2]) # print('Life' * 3)"
   ]
  },
  {
   "cell_type": "code",
   "execution_count": 34,
   "id": "5fbc67cd",
   "metadata": {},
   "outputs": [
    {
     "name": "stdout",
     "output_type": "stream",
     "text": [
      "2\n",
      "['a', 'b', 'c']\n",
      "b\n",
      "b\n",
      "['a', 'b', 'c']\n",
      "b\n",
      "b\n",
      "b\n"
     ]
    }
   ],
   "source": [
    "a = [1, 2, 3, 4, ['a','b','c'] ]\n",
    "#    0  1  2  3        4\n",
    "#                  0   1   2\n",
    "#   5  4  3  2        1       -\n",
    "#                  3   2   1  -\n",
    "print(a[1])\n",
    "print(a[4])  # ['a', 'b', 'c']\n",
    "#                0    1    2\n",
    "print(a[4][1])\n",
    "print(['a', 'b', 'c'][1])\n",
    "print(a[-1]) # ['a', 'b', 'c']\n",
    "#                0    1    2\n",
    "#                3    2    1  -\n",
    "print(a[-1][-2])\n",
    "print(a[4][-2])\n",
    "print(a[-1][1])"
   ]
  },
  {
   "cell_type": "code",
   "execution_count": 38,
   "id": "ab52a768",
   "metadata": {},
   "outputs": [
    {
     "name": "stdout",
     "output_type": "stream",
     "text": [
      "['a', 'b', ['Life', 'is']]\n",
      "['Life', 'is']\n",
      "Life\n",
      "i\n"
     ]
    }
   ],
   "source": [
    "a = [1, 2, 3, ['a', 'b', ['Life', 'is']]]\n",
    "#    0  1  2            3\n",
    "#               0    1         2\n",
    "#                            0      1\n",
    "print(a[3])\n",
    "print(a[3][2])\n",
    "print(a[3][2][0]) # Life\n",
    "#                   0123\n",
    "# i를 출력\n",
    "print(a[3][2][0][1])"
   ]
  },
  {
   "cell_type": "code",
   "execution_count": 122,
   "id": "ba440843",
   "metadata": {},
   "outputs": [
    {
     "name": "stdout",
     "output_type": "stream",
     "text": [
      "Life is too short\n",
      "t\n",
      "too\n",
      "t\n",
      "4\n",
      "[4, 5]\n",
      "[4]\n",
      "['Life', 'is', 'too', 'short']\n",
      "Life\n",
      "['Life', 'is', 'too']\n",
      "['Life']\n",
      "Lifeis\n",
      "['Life', 'is']\n",
      "[1, 2, 3, 4, 5, 6]\n",
      "[1, 2, 3, 1, 2, 3, 1, 2, 3]\n",
      "LifeLifeLife\n",
      "['Life', 'Life', 'Life']\n",
      "[]\n",
      "[]\n",
      "['is']\n",
      "['is', 'too']\n",
      "['is', 'too']\n",
      "['Life', 'is', 'too']\n",
      "['Life', 'is', 'too']\n",
      "[1, 2, 3, 4, 5]\n",
      "[1, 2, 3, 4, 5]\n",
      "[5, 6, 7, 8, 9]\n",
      "[5, 6, 7, 8, 9]\n",
      "9\n",
      "[5, 6, 7, 8, 9]\n",
      "[1, 2, 3, 4, 5]\n",
      "[1, 2, 3, 4, 5]\n",
      "[1, 2, 3, 4, 5, 6, 7, 8, 9]\n",
      "[1, 2, 3, 4, 5, 6, 7, 8, 9]\n",
      "[1, 3, 5, 7, 9]\n",
      "[1, 4, 7]\n",
      "[8, 7, 6, 5, 4]\n"
     ]
    }
   ],
   "source": [
    "# slicing\n",
    "str1 ='Life is too short'\n",
    "#      01234567890123456\n",
    "#                1\n",
    "print(str1)\n",
    "print(str1[8])\n",
    "print(str1[8:8+3])\n",
    "print(str1[8:8+1])\n",
    "l = [1,2,3,4,5,6]\n",
    "#    0 1 2 3 4 5\n",
    "print(l[3]) # indexing을 하면 요소가 가진 본연의 자료형으로 출력\n",
    "print(l[3:3+2]) # 리스트로 가져 옮\n",
    "print(l[3:3+1]) # slicing을 하면 요소 하나만 가져오더래도 리스트로 가져옮\n",
    "\n",
    "result = ['Life', 'is', 'too', 'short'] \n",
    "#           0      1       2      3\n",
    "#           4      3       2      1  - \n",
    "print(result)\n",
    "print(result[0]) # Life\n",
    "print(result[0:0+3])\n",
    "print(result[0:0+1]) # ['Life']\n",
    "\n",
    "print(result[0] + result[1]) # Lifeis\n",
    "print(result[0:0+1] + result[1:1+1]) # ['Life', 'is']\n",
    "l1 = [1,2,3]\n",
    "l2 = [4,5,6]\n",
    "l3 = l1 + l2 # + :연결연산자\n",
    "print(l3)\n",
    "print(l1 * 3) # * :반복연산자\n",
    "print(result[0] * 3)\n",
    "print(result[0:0+1] * 3)\n",
    "print(result[0:0+0])\n",
    "print(result[1:1+0])\n",
    "print(result[1:1+1])\n",
    "print(result[1:1+2])\n",
    "print(result[1:-1]) \n",
    "\n",
    "print(result[0:3])\n",
    "print(result[0:0 + 3])\n",
    "\n",
    "l1 = [1,2,3,4,5,6,7,8,9]\n",
    "#     0 1 2 3 4 5 6 7 8\n",
    "print(l1[0:0+5])\n",
    "print(l1[:5])\n",
    "print(l1[4:4+5])\n",
    "print(l1[4:]) #####\n",
    "print(len(l1))\n",
    "print(l1[4:len(l1)])\n",
    "print(l1[0:0+5])\n",
    "print([1, 2, 3, 4, 5])\n",
    "print(l1)\n",
    "print(l1[:])\n",
    "print(l1[::2])\n",
    "print(l1[::3])\n",
    "print(l1[7:2:-1]) # 역방향"
   ]
  },
  {
   "cell_type": "code",
   "execution_count": 68,
   "id": "d1327d0f",
   "metadata": {},
   "outputs": [
    {
     "name": "stdout",
     "output_type": "stream",
     "text": [
      "Life is too short\n",
      "Your leg is too short\n",
      "Life\n",
      "['Your leg', 'is', 'too', 'short']\n"
     ]
    }
   ],
   "source": [
    "str1 = 'Life is too short'\n",
    "print(str1) \n",
    "str2 = str1.replace(\"Life\", \"Your leg\")\n",
    "print(str2)\n",
    "c = ['Life', 'is', 'too', 'short'] \n",
    "print(c[0])\n",
    "c[0] = 'Your leg'\n",
    "print(c)\n"
   ]
  },
  {
   "cell_type": "code",
   "execution_count": 78,
   "id": "ef11329f",
   "metadata": {},
   "outputs": [
    {
     "name": "stdout",
     "output_type": "stream",
     "text": [
      "[3, ['a', 'b', 'c'], 4]\n",
      "['a', 'b', 'c']\n",
      "['a', 'b', 'c']\n",
      "b\n",
      "b\n",
      "b\n",
      "5\n",
      "6\n",
      "5\n"
     ]
    }
   ],
   "source": [
    "# indexing과 slicing을 같이 사용\n",
    "a = [1, 2, 3, ['a', 'b', 'c'], 4, 5]\n",
    "#    0  1  2         3         4  5\n",
    "# [3, ['a', 'b', 'c'], 4]를 출력\n",
    "print(a[2:2+3]) # [3, ['a', 'b', 'c'], 4]\n",
    "#                  0         1         2\n",
    "# ['a', 'b', 'c']를 출력\n",
    "print(a[3])\n",
    "print(a[2:2+3][1]) # ['a', 'b', 'c']\n",
    "#                      0    1    2\n",
    "# b출력\n",
    "print(a[3][1])\n",
    "print(a[2:2+3][1][1])\n",
    "print(a[2:2+3][1:2][0][1]) # [['a', 'b', 'c']]\n",
    "#                                   0\n",
    "#                              0    1    2\n",
    "# 마지막 요소의 값을 출력하시오.\n",
    "print(a[5]) \n",
    "print(len(a))\n",
    "print(a[len(a)-1])"
   ]
  },
  {
   "cell_type": "code",
   "execution_count": 88,
   "id": "ebd50c58",
   "metadata": {},
   "outputs": [
    {
     "name": "stdout",
     "output_type": "stream",
     "text": [
      "['Life', 'is', 'too']\n",
      "['Life', 'is']\n",
      "['Life', 'is', 'too']\n",
      "['Life', 'is', 'too', 'short']\n",
      "['Life', 'is', 'too', 'short', 3]\n",
      "['Life', 'is', 'short']\n",
      "['Life', 'is', 'too', 'short']\n",
      "[1, 2, 3, 4, 5, 6]\n",
      "['Life', 'is', 'too', 'short', 1, 2, 3]\n"
     ]
    }
   ],
   "source": [
    "# 리스트 함수\n",
    "# 리스트에 요소 추가 \n",
    "# append()\n",
    "l1 = ['Life','is']\n",
    "# 요소 'is' 뒤에 'too'를 추가  ['Life','is','too']\n",
    "print(l1 + ['too'])\n",
    "print(l1)\n",
    "l1.append('too')\n",
    "print(l1)\n",
    "l1.append('short')\n",
    "print(l1)\n",
    "l1.append(3)\n",
    "print(l1)\n",
    "# 원하는 위치에 요소 삽입하기\n",
    "l1 = ['Life','short']\n",
    "#       0       1\n",
    "l1.insert(1, 'is')\n",
    "print(l1) # ['Life', 'is', 'short']\n",
    "l1.insert(2, 'too')\n",
    "print(l1)\n",
    "# 리스트를 확장\n",
    "print([1,2,3]+[4,5,6])\n",
    "a = [1,2,3]\n",
    "l1.extend(a)\n",
    "print(l1)"
   ]
  },
  {
   "cell_type": "code",
   "execution_count": 106,
   "id": "6b9c0866",
   "metadata": {},
   "outputs": [
    {
     "name": "stdout",
     "output_type": "stream",
     "text": [
      "['Life', 'is', 'too', 'short', 2, 3]\n",
      "['too', 'short']\n",
      "['Life', 'is', 2, 3]\n",
      "['is', 2, 3]\n",
      "['is', 2, 3]\n",
      "['Life']\n",
      "['Life', 'is', 'too', 1, 2, 3]\n",
      "['Life', 'is', 'too', 2, 3]\n",
      "['Life', 'too', 2, 3]\n",
      "None\n",
      "short\n",
      "['Life', 'is', 'too', 1, 2, 3]\n",
      "3\n",
      "['Life', 'is', 'too', 1, 2]\n",
      "7\n",
      "[1, 2, 3, 4, 5, 6, 8, 9]\n",
      "8\n",
      "[1, 2, 3, 4, 5, 6, 9]\n"
     ]
    }
   ],
   "source": [
    "#요소 삭제\n",
    "l1 = ['Life', 'is', 'too', 'short', 1, 2, 3]\n",
    "#        0      1      2      3     4  5  6\n",
    "# indexing\n",
    "del l1[4]\n",
    "print(l1)\n",
    "#slicing을 이용해서 삭제\n",
    "print(l1[2:2+2])\n",
    "del l1[2:2+2]\n",
    "print(l1)\n",
    "print(l1[1:1 + 3])\n",
    "print(l1[1:])\n",
    "del l1[1:]\n",
    "print(l1)\n",
    "l1 = ['Life', 'is', 'too', 'short', 1, 2, 3]\n",
    "# 요소를 이용해서 삭제\n",
    "l1.remove('short')\n",
    "print(l1)\n",
    "l1.remove(1)\n",
    "print(l1)\n",
    "l1.remove('is')\n",
    "print(l1)\n",
    "result = l1.remove('too') # remove는 삭제한 요소를 가지고 오지 않는다\n",
    "print(result)\n",
    "l1 = ['Life', 'is', 'too', 'short', 1, 2, 3]\n",
    "#       0       1     2      3      4  5  6\n",
    "# 삭제된 요소를 오기\n",
    "result = l1.pop(3) # index를 사용\n",
    "print(result)\n",
    "print(l1)\n",
    "result = l1.pop() # 마지막요소가 삭제\n",
    "print(result)\n",
    "print(l1)\n",
    "l2 = [1,2,3,4,5,6,7,8,9]\n",
    "result = l2.pop(6) \n",
    "print(result)\n",
    "print(l2)\n",
    "result = l2.pop(6) # 비복원 추출\n",
    "print(result)\n",
    "print(l2)\n",
    "# 주사위 : 복원추출\n",
    "# 로또 : 비복원추출"
   ]
  },
  {
   "cell_type": "code",
   "execution_count": 128,
   "id": "a94faf67",
   "metadata": {},
   "outputs": [
    {
     "name": "stdout",
     "output_type": "stream",
     "text": [
      "[1, 2, 3, 4, 5]\n",
      "[5, 4, 3, 2, 1]\n",
      "['a', 'b', 'c']\n"
     ]
    }
   ],
   "source": [
    "# 정렬 -- 오름차순, 내림차순\n",
    "l = [4,2,5,1,3]\n",
    "# 오름차순\n",
    "l.sort()\n",
    "print(l)\n",
    "# 내림차순\n",
    "l.sort(reverse=True)\n",
    "print(l)\n",
    "l = ['b','a','c']\n",
    "l.sort()\n",
    "print(l)\n",
    "#l = ['b','a','c',3,1,2]\n",
    "#l.sort()\n",
    "# 문자열과 숫자가 혼합된 리스트는 정렬 (x):"
   ]
  },
  {
   "cell_type": "code",
   "execution_count": 140,
   "id": "12040cba",
   "metadata": {},
   "outputs": [
    {
     "name": "stdout",
     "output_type": "stream",
     "text": [
      "[]\n",
      "()\n",
      "1\n",
      "[1]\n",
      "16\n",
      "1\n",
      "(1,)\n",
      "(1, 2)\n",
      "('이', '숭무')\n",
      "('이', '숭무', 1, 2)\n",
      "((1, 2), (3, 4))\n",
      "('이', '숭무', 1, 2, (3, 4), [4, 5, 6])\n",
      "[1, 2, '이', '숭무', [3, 4], (5, 6)]\n",
      "(1, 2, 3, 4, 5, 6)\n",
      "(1, 2, 3, 4, 5, 6)\n"
     ]
    }
   ],
   "source": [
    "# 리터널 자료형 : 자연수 : 정수 , 실수 : 10, 10.52\n",
    "#                자연어 : 문자, 문자열 : \"\",'',\"\"\"\"\"\",''''''\n",
    "#                부울 : 논리형 :  True/False\n",
    "# 리스트 : [],[1],[10.5], [1,2,'a']\n",
    "# 튜플 : (), (1,),(10.5,), (1,2,'a')\n",
    "l = []\n",
    "print(l)\n",
    "t = ()\n",
    "print(t)\n",
    "print(1)\n",
    "print([1])\n",
    "print((3 + 5) * 2)\n",
    "print((1)) # 최우선 연산자\n",
    "print((1,)) # 요소가 하나인경우\n",
    "print((1,2)) # 정수형 튜플\n",
    "print(('이','숭무')) # 문자열 튜플\n",
    "print(('이','숭무', 1,2)) # 혼합형튜플\n",
    "t = ((1,2),(3,4)) # 튜플을 포함한 튜플\n",
    "print(t)\n",
    "t = ('이','숭무',1,2,(3,4)) # 튜플을 포함한 혼합형 튜플\n",
    "t = ('이','숭무',1,2,(3,4),[4,5,6]) # 혼합형 튜플\n",
    "print(t)\n",
    "l = [1,2,'이','숭무',[3,4],(5,6)]\n",
    "print(l)\n",
    "t = (1,2,3,4,5,6)\n",
    "print(t)\n",
    "t = 1,2,3,4,5,6\n",
    "print(t)"
   ]
  },
  {
   "cell_type": "code",
   "execution_count": 174,
   "id": "68bc59b5",
   "metadata": {},
   "outputs": [
    {
     "name": "stdout",
     "output_type": "stream",
     "text": [
      "e\n",
      "1\n",
      "1\n",
      "[3, 4, 3]\n",
      "(3, 4, 3)\n",
      "[2, 3]\n",
      "(2, 3)\n",
      "[1, 2, 10, 4, 3]\n",
      "3\n",
      "[2, 10, 20]\n",
      "(2, 3, 20)\n",
      "[1, 2, 10, 4]\n",
      "(1, 2, 3, 4)\n",
      "(1, 3, 3)\n",
      "(3, 4, 3)\n",
      "[1, 2, 10, 4, 3]\n",
      "4\n",
      "(1, 2, 3, 4, 3)\n",
      "2\n",
      "2\n",
      "4\n",
      "4\n",
      "2\n",
      "4\n",
      "4\n",
      "[1, 2, 3, 4, 3]\n",
      "[1, 2, 4, 3]\n",
      "(1, 2, 3, 4, 3)\n",
      "1\n",
      "2\n",
      "4\n",
      "5\n"
     ]
    }
   ],
   "source": [
    "str1 = \"Life is too short\"\n",
    "#       0123456789\n",
    "l = [1,2,3,4,3] # indexing, slicing\n",
    "t = (1,2,3,4,3)\n",
    "print(str1[3])\n",
    "print(l[0])\n",
    "print(t[0])\n",
    "print(l[2:])\n",
    "print(t[2:])\n",
    "print(l[1:1+2])\n",
    "print(t[1:1+2])\n",
    "l[2] = 10\n",
    "print(l)\n",
    "print(t[2])\n",
    "#t[2] = 10 #  튜플안에 있는 요소의 값은 바뀌지 않는다.\n",
    "# 리스트는 요소의 값을 변경할 수 있지만 튜플은 요소의값을 변경할 수 없다.\n",
    "# 데이터를 상수화하기 위해서 사용\n",
    "print(l[1:1+2] + [20])\n",
    "print(t[1:1+2] + (20,))\n",
    "print(l[:4])\n",
    "print(t[:4])\n",
    "print(t[::2])\n",
    "print(t[4:1:-1])\n",
    "# 함수       0  1   2  3  4\n",
    "print(l)  # [1, 2, 10, 4, 3]\n",
    "print(l.index(3))\n",
    "print(t)\n",
    "print(t.index(3)) # 리스트에 find가 없다, 문자열에만 find가 있다\n",
    "l = [1, 2, 3, 4, 3]\n",
    "print(l.index(3))\n",
    "print(l.index(3, 3))\n",
    "print(l.index(3, l.index(3) + 1))\n",
    "t = (1, 2, 3, 4, 3)\n",
    "print(t.index(3))\n",
    "print(t.index(3, 3))\n",
    "print(t.index(3, t.index(3) + 1))\n",
    "\n",
    "print(l)\n",
    "del l[2]\n",
    "print(l)\n",
    "print(t)\n",
    "# del t[2]\n",
    "print(l.count(3))\n",
    "print(t.count(3))\n",
    "print(len(l))\n",
    "print(len(t))"
   ]
  },
  {
   "cell_type": "code",
   "execution_count": 190,
   "id": "27e30618",
   "metadata": {},
   "outputs": [
    {
     "name": "stdout",
     "output_type": "stream",
     "text": [
      "['h', 'e', 'l', 'l', 'o']\n"
     ]
    }
   ],
   "source": [
    "# 형변환\n",
    "str1 = \"hello\"\n",
    "l = list(str1)\n",
    "print(l)\n",
    "t = tuple(str1)\n",
    "print(t)\n",
    "l = list(t)\n",
    "print(l)\n",
    "t = tuple(l)\n",
    "print(t)\n",
    "\n",
    "i = int(\"10\")\n",
    "print(i)\n",
    "str2 = str(10)\n",
    "print(str2)\n",
    "f = float(\"10.5\")\n",
    "print(f)"
   ]
  },
  {
   "cell_type": "code",
   "execution_count": 198,
   "id": "dd5a8607",
   "metadata": {},
   "outputs": [
    {
     "name": "stdout",
     "output_type": "stream",
     "text": [
      "Lifeistooshort\n",
      "Life is too short\n",
      "Lifeistooshort\n",
      "Life is too short\n",
      "Life:is:too:short\n",
      "Life:is:too:short\n",
      "hello\n",
      "h,e,l,l,o\n",
      "h:e:l:l:o\n"
     ]
    }
   ],
   "source": [
    "# 리스트나 튜플을 문자열로 변환 \n",
    "l = ['Life', 'is', 'too', 'short' ]\n",
    "t = ('Life', 'is', 'too', 'short' )\n",
    "str3 = \"\".join(l)\n",
    "print(str3)\n",
    "str3 = \" \".join(l)\n",
    "print(str3)\n",
    "str3 = \"\".join(t)\n",
    "print(str3)\n",
    "str3 = \" \".join(t)\n",
    "print(str3)\n",
    "str3 = \":\".join(l)\n",
    "print(str3)\n",
    "str3 = \":\".join(t)\n",
    "print(str3)\n",
    "\n",
    "str1 = \"hello\"\n",
    "print(str1)\n",
    "str3 = \",\".join(str1)\n",
    "print(str3)\n",
    "str3 = \":\".join(str1)\n",
    "print(str3)"
   ]
  },
  {
   "cell_type": "code",
   "execution_count": 202,
   "id": "e5aa713b",
   "metadata": {},
   "outputs": [
    {
     "name": "stdout",
     "output_type": "stream",
     "text": [
      "{'name': '이숭무', 'age': 35, 'height': 175.5}\n",
      "이숭무\n",
      "35\n",
      "175.5\n"
     ]
    }
   ],
   "source": [
    "# 리터널 : 정수, 실수, 문자 : \"\",'' 부울\n",
    "# 리스트 : [], 튜플 : ()\n",
    "l =[1,2,3,4,5,6]\n",
    "#   0 1 2 3 4 5\n",
    "# 딕셔너리(사전) : {key : value,key : value,key : value,...key : value}\n",
    "l = [] # 빈리스트\n",
    "t = () #빈 튜플\n",
    "dic = {} # 빈 딕셔너리\n",
    "dic1 = {'name':'이숭무', 'age':35, 'height':175.5}\n",
    "print(dic1)\n",
    "print(dic1['name'])\n",
    "print(dic1['age'])\n",
    "print(dic1['height'])"
   ]
  },
  {
   "cell_type": "code",
   "execution_count": 215,
   "id": "23419c1f",
   "metadata": {},
   "outputs": [
    {
     "name": "stdout",
     "output_type": "stream",
     "text": [
      "2\n",
      "2\n",
      "이숭무\n",
      "[10, 2, 3, 4]\n",
      "{2: '김찬중', 1: '이장범', 3: '이상범'}\n",
      "[10, 2, 3, 40]\n",
      "{2: '김찬중', 1: '이장범', 3: '이상범'}\n",
      "{2: '김찬중', 1: '이숭무', 3: '이상범'}\n",
      "{2: '김찬중', 1: '이숭무', 3: '이상범', 4: '이정범'}\n",
      "{1: '숭'}\n",
      "{1: '숭'}\n"
     ]
    }
   ],
   "source": [
    "l = [1,2,3,4]\n",
    "print(l[1])\n",
    "t = (1,2,3,4)\n",
    "print(t[1])\n",
    "dic2 = {2:'이숭무',1:'이장범',3:'이상범'}\n",
    "#          0          1         2 : index를 사용하면 안된다.\n",
    "print(dic2[2]) # 딕셔너리에서는 값을 키로 가져온다.\n",
    "l[0] = 10\n",
    "print(l)\n",
    "dic2[2] = '김찬중'\n",
    "print(dic2)\n",
    "# [10, 2, 3, 4]\n",
    "#   0  1  2  3\n",
    "l[3] = 40\n",
    "print(l)\n",
    "# l[4] = 50:  list assignment index out of range\n",
    "# index의 길이가 넘어서 생긴오류\n",
    "print(dic2)\n",
    "dic2[1] = '이숭무'\n",
    "print(dic2)\n",
    "dic2[4] = '이정범'\n",
    "print(dic2)\n",
    "# 딕셔너리는 키가 존재하면 수정이되고 키가 없으면 추가가 된다.\n",
    "# 키의 중복을 허용하지 않는다.\n",
    "dic3 = {1:'이' , 1 :'숭'}\n",
    "print(dic3)\n",
    "dic3 = {1:'이'}\n",
    "dic3[1] = '숭'\n",
    "print(dic3)"
   ]
  },
  {
   "cell_type": "code",
   "execution_count": 224,
   "id": "26377dd1",
   "metadata": {},
   "outputs": [
    {
     "name": "stdout",
     "output_type": "stream",
     "text": [
      "[1, 3, 4]\n",
      "{'name': '이숭무', 'height': 175.5}\n",
      "dict_keys(['name', 'height'])\n",
      "dict_values(['이숭무', 175.5])\n",
      "dict_items([('name', '이숭무'), ('height', 175.5)])\n",
      "[]\n",
      "[]\n",
      "{'name': '이숭무', 'height': 175.5}\n",
      "{}\n"
     ]
    }
   ],
   "source": [
    "# 문자열, 리스트, 튜플의 공통점은 : indexing, slicing\n",
    "# 딕셔너리 함수 \n",
    "dic1 = {'name':'이숭무', 'age':35, 'height':175.5}\n",
    "l = [1,2,3,4]\n",
    "#    0 1 2 3\n",
    "del l[1]\n",
    "print(l)\n",
    "# 딕셔너리 요소 삭제\n",
    "del dic1['age']\n",
    "print(dic1)\n",
    "\n",
    "# 딕셔너리에 있는 키를 가져오기\n",
    "print(dic1.keys())\n",
    "# 딕셔너리에 있는 값만 가져오기\n",
    "print(dic1.values())\n",
    "# 키와 value 를 한쌍으로 묶어서 가져오기\n",
    "print(dic1.items())\n",
    "\n",
    "l = [1,2,3,4,5]\n",
    "del l[:]\n",
    "print(l)\n",
    "l = [1,2,3,4,5]\n",
    "l.clear() # 리스트에 있는 모든요소 삭제\n",
    "print(l)\n",
    "print(dic1)\n",
    "dic1.clear()  # 딕셔너리에 있는 모든요소 삭제\n",
    "print(dic1)"
   ]
  },
  {
   "cell_type": "code",
   "execution_count": 231,
   "id": "f3df51ff",
   "metadata": {},
   "outputs": [
    {
     "name": "stdout",
     "output_type": "stream",
     "text": [
      "1118\n",
      "{'name': 'pey', 'phone': '0119993323', 'birth': '19991118'}\n",
      "19991118\n",
      "1999\n",
      "1999\n",
      "11\n",
      "18\n",
      "1999\n",
      "11\n",
      "18\n",
      "18\n"
     ]
    }
   ],
   "source": [
    "dic= {'name': 'pey', 'phone': '0119993323', 'birth': '1118'}\n",
    "print(dic['birth'])\n",
    "dic['birth'] = '19991118'\n",
    "print(dic)\n",
    "print(dic['birth']) # '19991118'\n",
    "#                      01234567\n",
    "#                    - 87654321\n",
    "## 년 | 월  | 일을 따로 출력하세요\n",
    "print(dic['birth'][:4])\n",
    "print('19991118'[:4])\n",
    "print(dic['birth'][4:4+2])\n",
    "print(dic['birth'][6:6+2])\n",
    "\n",
    "print(dic['birth'][:-4])\n",
    "print(dic['birth'][-4:-4+2])\n",
    "print(dic['birth'][-2:])\n",
    "print(dic['birth'][-2:6+2])"
   ]
  },
  {
   "cell_type": "code",
   "execution_count": 243,
   "id": "4e7a3b99",
   "metadata": {},
   "outputs": [
    {
     "name": "stdout",
     "output_type": "stream",
     "text": [
      "{'name': 'pey', 'phone': '0119993323', 'birth': '19991118'}\n",
      "pey\n",
      "pey\n",
      "None\n",
      "서울\n",
      "1000\n",
      "1400\n",
      "1000\n",
      "1400\n",
      "1000\n"
     ]
    }
   ],
   "source": [
    "dic = {'name': 'pey', 'phone': '0119993323', 'birth': '19991118'}\n",
    "print(dic)\n",
    "print(dic['name'])\n",
    "print(dic.get('name'))\n",
    "\n",
    "# print(dic['addr']) # 키가 없으면 오류 발생\n",
    "print(dic.get('addr'))\n",
    "print(dic.get('addr', '서울'))\n",
    "\n",
    "dic1 = {'classic':500, 'pop' : 700 , 'jazz' : 900}\n",
    "dic2 = {'classic':500, 'pop' : 700 }\n",
    "print(dic1['classic'] + dic2['classic'])\n",
    "print(dic1['pop'] + dic2['pop'])\n",
    "# print(dic1['jazz'] + dic2['jazz'])\n",
    "print(dic1.get('classic', 0 ) + dic2.get('classic', 0))\n",
    "print(dic1.get('pop' , 0) + dic2.get('pop', 0))\n",
    "print(dic1.get('jazz', 0 ) + dic2.get('jazz', 100))"
   ]
  },
  {
   "cell_type": "code",
   "execution_count": 250,
   "id": "053fb7b6",
   "metadata": {},
   "outputs": [
    {
     "name": "stdout",
     "output_type": "stream",
     "text": [
      "{1, 2, 3, 4}\n",
      "['h', 'e', 'l', 'l', 'o']\n",
      "{'l', 'o', 'h', 'e'}\n",
      "{1, 2, 3, 4, 5, 6}\n",
      "{1, 2, 3, 4, 5}\n",
      "{1, 2, 3, 4, 5}\n"
     ]
    }
   ],
   "source": [
    "# 정수 실수 문자열 튜플 리스트 딕셔너리\n",
    "# 집합자료형(set) : 교집합 합집합 차집합\n",
    "dic = {1:'이', 2:'숭'}\n",
    "dic = {} # 빈 딕셔너리\n",
    "s = {1,2,3,4} # 빈 집합은 존재하지 않는다.\n",
    "print(s)\n",
    "str1 = \"hello\"\n",
    "l = list(str1)\n",
    "print(l)\n",
    "s  = set(str1) #  중복값을 허용하지 않는다. 순서를 가지지 않는다.\n",
    "print(s)\n",
    "s = {1,2,3,3,4,5,5,6}\n",
    "print(s)\n",
    "s = set([1,2,3,4,5])\n",
    "print(s)\n",
    "s  = set((1,2,3,4,5))\n",
    "print(s)"
   ]
  },
  {
   "cell_type": "code",
   "execution_count": 257,
   "id": "0e3d2fec",
   "metadata": {},
   "outputs": [
    {
     "name": "stdout",
     "output_type": "stream",
     "text": [
      "{3, 4}\n",
      "{3, 4}\n",
      "{1, 2, 3, 4, 5, 6}\n",
      "{1, 2, 3, 4, 5, 6}\n",
      "{1, 2}\n",
      "{5, 6}\n",
      "{1, 2}\n",
      "{5, 6}\n"
     ]
    }
   ],
   "source": [
    "s1 = {1,2,3,4}\n",
    "s2 = {3,4,5,6}\n",
    "#교집합\n",
    "print(s1 & s2)\n",
    "print(s1.intersection(s2))\n",
    "# 합집합 \n",
    "print(s1 | s2) \n",
    "print(s1.union(s2))\n",
    "# 차집합\n",
    "print( s1 - s2)\n",
    "print( s2 - s1)\n",
    "print(s1.difference(s2))\n",
    "print(s2.difference(s1))"
   ]
  },
  {
   "cell_type": "code",
   "execution_count": 278,
   "id": "51ecc568",
   "metadata": {},
   "outputs": [
    {
     "name": "stdout",
     "output_type": "stream",
     "text": [
      "{1, 2, 3, 4}\n",
      "{1, 2, 3, 4, 7}\n",
      "{1, 2, 3, 4, 7, 9}\n",
      "{1, 2, 3, 4, 7, 9, 'a'}\n",
      "{1, 2, 3, 4, 7, 9, 'a', (10, 11, 12)}\n",
      "{1, 2, 3, 4, 7, 9, 10, 'a', 11, (10, 11, 12), 12, 13, 14, 15}\n",
      "{1, 2, 3, 4, 7, 9, 10, 'a', 11, 12, 13, 14, 15}\n",
      "{1, 2, 3, 4, 7, 9, 10, 11, 12, 13, 14, 15}\n"
     ]
    }
   ],
   "source": [
    "# 집합 함수\n",
    "# 하나의 요소 추가\n",
    "s1 = {1, 2, 3, 4}\n",
    "print(s1)\n",
    "s1.add(7)\n",
    "print(s1)\n",
    "s1.add(9)\n",
    "print(s1)\n",
    "s1.add('a')\n",
    "print(s1)\n",
    "#s1에 10,11,12를 추가\n",
    "#s1.add(10,11,12)\n",
    "s1.add((10,11,12)) #  하나로 생각해서 넣는다.\n",
    "#s1.add([10,11,12])\n",
    "print(s1)\n",
    "# 여러개의 요소 추가\n",
    "s1.update([10,11,12]) # 리스트나 튜플에있는 요소를 각각으로 생각해서 넣는다.\n",
    "s1.update((13,14,15))\n",
    "print(s1)\n",
    "# 삭제 : 여러개의 요소를 같이 삭제 할 수 없다.\n",
    "s1.remove((10,11,12)) # 튜플\n",
    "print(s1)\n",
    "s1.remove('a') #요소 하나씩만 삭제 가능\n",
    "print(s1)"
   ]
  },
  {
   "cell_type": "code",
   "execution_count": 285,
   "id": "39ffcc31",
   "metadata": {},
   "outputs": [
    {
     "name": "stdout",
     "output_type": "stream",
     "text": [
      "True\n",
      "False\n",
      "true\n",
      "True\n"
     ]
    }
   ],
   "source": [
    "# 정수, 실수, 문자열, 리스트, 튜플, 딕셔너리, 집합\n",
    "# 부울(bool) : 논리형 : True/False\n",
    "bo = True\n",
    "print(bo)\n",
    "bo = False\n",
    "print(bo)\n",
    "# bo = true : name 'true' is not defined\n",
    "bo = 'true' \n",
    "print(bo)\n",
    "bo = 'True'\n",
    "print(bo)"
   ]
  },
  {
   "cell_type": "code",
   "execution_count": 292,
   "id": "d844cc93",
   "metadata": {},
   "outputs": [
    {
     "name": "stdout",
     "output_type": "stream",
     "text": [
      "True\n",
      "True\n",
      "False\n",
      "False\n",
      "True\n",
      "합격\n"
     ]
    }
   ],
   "source": [
    "# 논리연산 : 부울타입을 사용\n",
    "print(True and True)\n",
    "print(True or False)\n",
    "# 논리연산을 하려면 부울타입의 결과가 있는 것을 이용해서 연산한다.\n",
    "# 비교연산자 : <, > ,<=, >= , ==, !=는 부울타입의 결과를 가지고 온다.\n",
    "a = 10\n",
    "b = a\n",
    "val1 = 10\n",
    "val2 = 20\n",
    "print(val1 > val2) # False\n",
    "print(val1 == val2) # False\n",
    "# \n",
    "mat = 40\n",
    "eng = 80\n",
    "#각 과목이 40점이상이고 평균이 60점 이상이면 True 아니면 Fasle\n",
    "result = mat >= 40 and eng >= 40 and (mat+eng) / 2 >= 60\n",
    "print(result)\n",
    "#논리연산을 하기 위해서는 비교(관계)연산을 같이 해야 한다.\n",
    "if result:\n",
    "    print(\"합격\")\n",
    "else:\n",
    "    print(\"불합격\")"
   ]
  },
  {
   "cell_type": "code",
   "execution_count": 308,
   "id": "50c6eb57",
   "metadata": {},
   "outputs": [
    {
     "name": "stdout",
     "output_type": "stream",
     "text": [
      "True\n",
      "False\n",
      "True\n",
      "True\n",
      "False\n",
      "False\n",
      "False\n",
      "True\n",
      "False\n",
      "True\n",
      "False\n",
      "True\n",
      "False\n"
     ]
    }
   ],
   "source": [
    "print(bool('이숭무'))\n",
    "print(bool(''))  # bank :  False\n",
    "print(bool(-1))\n",
    "print(bool(1))\n",
    "print(bool(0)) # False\n",
    "print(bool(0.0)) #False\n",
    "print(bool([])) #False\n",
    "print(bool([1,2,3]))\n",
    "print(bool(())) #False\n",
    "print(bool((1,2,3)))\n",
    "print(bool({})) #False\n",
    "print(bool({1:'이'}))\n",
    "print(bool(None)) #False"
   ]
  },
  {
   "cell_type": "code",
   "execution_count": 316,
   "id": "5152ea43",
   "metadata": {},
   "outputs": [
    {
     "name": "stdout",
     "output_type": "stream",
     "text": [
      "<class 'str'>\n",
      "<class 'int'>\n",
      "<class 'float'>\n",
      "<class 'list'>\n",
      "<class 'tuple'>\n",
      "<class 'dict'>\n",
      "<class 'set'>\n",
      "<class 'bool'>\n"
     ]
    }
   ],
   "source": [
    "str1 = 'hello' #문자열형 변수\n",
    "i = 10 # 정수형변수\n",
    "f = 10.5\n",
    "l = [1,2,3,4]\n",
    "t = (1,2,3,4)\n",
    "dic = {1:'이'}\n",
    "s = {1,2,3,4}\n",
    "b = True\n",
    "print(type(str1)) # <class 'str'>\n",
    "print(type(i)) # <class 'int'>\n",
    "print(type(f)) # <class 'float'>\n",
    "print(type(l))\n",
    "print(type(t))\n",
    "print(type(dic))\n",
    "print(type(s))\n",
    "print(type(b))"
   ]
  },
  {
   "cell_type": "code",
   "execution_count": 327,
   "id": "2157ff79",
   "metadata": {},
   "outputs": [
    {
     "name": "stdout",
     "output_type": "stream",
     "text": [
      "10 20\n",
      "10 20\n",
      "10 20\n",
      "10 20\n",
      "10 20\n",
      "10 20\n",
      "10 20 이숭무\n"
     ]
    }
   ],
   "source": [
    "#변수를 만드는 여러 가지 방법\n",
    "a = 10\n",
    "l = [1,2,3,4]\n",
    "a , b = 10 , 20\n",
    "print(a, b)\n",
    "a , b = (10 , 20)\n",
    "print(a, b)\n",
    "a , b = [10 , 20]\n",
    "print(a, b)\n",
    "(a , b) = 10 , 20\n",
    "print(a, b)\n",
    "[a , b] = 10 , 20\n",
    "print(a, b)\n",
    "[a , b] = (10 , 20)\n",
    "print(a, b)\n",
    "a, b, c = 10, 20, '이숭무'\n",
    "print(a,b,c)\n",
    "# a,b,c = 10, 20 # not enough values to unpack (expected 3, got 2)"
   ]
  },
  {
   "cell_type": "code",
   "execution_count": 338,
   "id": "4ed905c7",
   "metadata": {},
   "outputs": [
    {
     "name": "stdout",
     "output_type": "stream",
     "text": [
      "10 10\n",
      "10\n",
      "[1, 2, 3] [1, 2, 3]\n",
      "[10, 2, 3] [10, 2, 3]\n",
      "[1, 2, 3]\n",
      "[1, 2, 3] [1, 2, 3]\n",
      "[1, 2, 3] [10, 2, 3]\n"
     ]
    }
   ],
   "source": [
    "a = 10\n",
    "b = a\n",
    "print(a, b)\n",
    "b = 20\n",
    "print(a)\n",
    "l = [1,2,3]\n",
    "l1 = l  # (x)\n",
    "print(l, l1)\n",
    "l1[0] = 10\n",
    "print(l, l1)\n",
    "l = [1,2,3]\n",
    "l1 = [1,2,3]\n",
    "l1 = 20\n",
    "print(l)\n",
    "l1 = l[:] # slicing\n",
    "print(l, l1)\n",
    "l1[0] = 10\n",
    "print(l, l1)"
   ]
  },
  {
   "cell_type": "code",
   "execution_count": 341,
   "id": "5bf6683b",
   "metadata": {},
   "outputs": [
    {
     "name": "stdout",
     "output_type": "stream",
     "text": [
      "20 10\n",
      "10 20\n",
      "10 10 10\n"
     ]
    }
   ],
   "source": [
    "# 값 서로 교환하기\n",
    "# 일반적인 방법\n",
    "a = 10; b = 20\n",
    "item = b\n",
    "b = a\n",
    "a = item\n",
    "print(a,b)\n",
    "\n",
    "# python형식\n",
    "a , b = b , a\n",
    "print(a, b)\n",
    "\n",
    "a = b= c= 10\n",
    "print(a,b,c)"
   ]
  },
  {
   "cell_type": "code",
   "execution_count": 354,
   "id": "6ab8c29d",
   "metadata": {},
   "outputs": [
    {
     "name": "stdout",
     "output_type": "stream",
     "text": [
      "문자열을 참입니다.\n",
      "계속명령어가 실행\n",
      "실행 끝\n"
     ]
    }
   ],
   "source": [
    "# 제어문 : 조건문, 반복문\n",
    "# bool을 타입을 이용해서 원하는 결과를 얻어오는 것 : 논리연산 , 비교연산\n",
    "# 조건문\n",
    "# 조건식(논리연산과 비교연산으로 만든식)에 따라 실행되거나 안되게 하는것\n",
    "# 조건식의 결과가 True라면 if문안에 있는 명령이 실행된다.\n",
    "# if문안에 있는 명령을 실행하려면 들여쓰기를 해야한다.\n",
    "# 들여쓰기는 tab키와 공백문자를 이용할 수 있는데 두개를 혼용할 수 없다.\n",
    "# tab을 많이 사용한다.\n",
    "# 조건식 뒤에는 :이 와야한다.\n",
    "'''\n",
    "if 조건식:\n",
    "    명령어1\n",
    "    명령어2\n",
    "    명령어3\n",
    "    ...\n",
    "    명령어n\n",
    "명령어\n",
    "'''\n",
    "if '이숭무':\n",
    "    print(\"문자열을 참입니다.\")\n",
    "    print(\"계속명령어가 실행\")\n",
    "if '':\n",
    "    print('blank는 거짓입니다.')\n",
    "    print('실행되면 안됨')\n",
    "print(\"실행 끝\")"
   ]
  },
  {
   "cell_type": "code",
   "execution_count": 359,
   "id": "1089ada3",
   "metadata": {},
   "outputs": [
    {
     "name": "stdout",
     "output_type": "stream",
     "text": [
      "a는 20보다 작다.\n",
      "안녕\n",
      "if 문의 끝\n",
      "if 문의 끝\n"
     ]
    }
   ],
   "source": [
    "#  단일 if\n",
    "a = 10\n",
    "if a < 20:\n",
    "    print(\"a는 20보다 작다.\")\n",
    "    \n",
    "    print('안녕')\n",
    "print('if 문의 끝')\n",
    "\n",
    "if a > 20:\n",
    "    print(\"a는 20보다 크다\")\n",
    "    \n",
    "print('if 문의 끝')"
   ]
  },
  {
   "cell_type": "code",
   "execution_count": 361,
   "id": "78fcbaf8",
   "metadata": {},
   "outputs": [
    {
     "name": "stdout",
     "output_type": "stream",
     "text": [
      "차를 타고 가시오\n"
     ]
    }
   ],
   "source": [
    "money = 2000\n",
    "if money >= 2000: # True\n",
    "    print(\"차를 타고 가시오\")\n",
    "if money < 2000: # False\n",
    "    print(\"걸어가시오\")"
   ]
  },
  {
   "cell_type": "code",
   "execution_count": 366,
   "id": "3d42c59b",
   "metadata": {},
   "outputs": [
    {
     "name": "stdout",
     "output_type": "stream",
     "text": [
      "차를타고가시오 \n",
      "차를타고 가시오\n",
      "차를타고 가시오\n",
      "차를타고 가시오\n",
      "차를타고 가시오\n",
      "x와 y는 다르다\n",
      "x와 y는 다르다\n"
     ]
    }
   ],
   "source": [
    "# if ~ else\n",
    "'''\n",
    "if 조건식 :\n",
    "    명령어1\n",
    "    명령어2\n",
    "    ...\n",
    "    명령어n\n",
    "else:\n",
    "    명령어11\n",
    "    명령어12\n",
    "    ...\n",
    "    명령어nn\n",
    "'''\n",
    "if money >= 2000: # True\n",
    "    print(\"차를타고가시오 \")\n",
    "else: #False\n",
    "    print(\"걸어가시오\");\n",
    "\n",
    "if money < 2000:\n",
    "    print(\"걸어가시오\")\n",
    "    print(\"걸어가시오\")\n",
    "    print(\"걸어가시오\")\n",
    "    print(\"걸어가시오\")\n",
    "else: # False\n",
    "    print(\"차를타고 가시오\")\n",
    "    print(\"차를타고 가시오\")\n",
    "    print(\"차를타고 가시오\")\n",
    "    print(\"차를타고 가시오\")\n",
    "\n",
    "x = 10; y = 20\n",
    "if x == y: \n",
    "    print(\"x와 y는 같다\")\n",
    "else:\n",
    "    print(\"x와 y는 다르다\")\n",
    "    \n",
    "if x != y:\n",
    "    print(\"x와 y는 다르다\")\n",
    "else:\n",
    "    print(\"x와 y는 같다\")"
   ]
  },
  {
   "cell_type": "code",
   "execution_count": 378,
   "id": "54549488",
   "metadata": {},
   "outputs": [
    {
     "name": "stdout",
     "output_type": "stream",
     "text": [
      "True\n",
      "True\n",
      "False\n",
      "True\n",
      "True\n",
      "False\n",
      "True\n",
      "True\n",
      "False\n",
      "True\n",
      "True\n",
      "True\n",
      "False\n",
      "True\n"
     ]
    }
   ],
   "source": [
    "#in연산자 사용하기\n",
    "print(1 in [1,2,3,4,5])\n",
    "print(3 in [1,2,3,4,5])\n",
    "print(7 in [1,2,3,4,5])\n",
    "t = (1,2,3,4,5)\n",
    "print(2 in t)\n",
    "print(10 not in t)\n",
    "print(2 not in t)\n",
    "\n",
    "print( \"y\" in \"python\")\n",
    "print( \"th\" in \"python\")\n",
    "print( \"이\" in \"python\")\n",
    "print( \"이\" not in \"python\")\n",
    "\n",
    "print( 1 in  {1:'이', 2:'숭'}) #키가 있는지\n",
    "dic = {1:'이', 2:'숭'}\n",
    "print( 1 in dic)\n",
    "print( 3 in dic)\n",
    "print( 3 not in dic)"
   ]
  },
  {
   "cell_type": "code",
   "execution_count": 380,
   "id": "5bccba05",
   "metadata": {},
   "outputs": [
    {
     "name": "stdout",
     "output_type": "stream",
     "text": [
      "k가 없다\n",
      "k가 없다\n"
     ]
    }
   ],
   "source": [
    "if \"k\" in \"python\":\n",
    "    print(\"k가 있다.\")\n",
    "else:\n",
    "    print(\"k가 없다\")\n",
    "    \n",
    "str1 = \"python\"\n",
    "if \"k\" in str1:\n",
    "    print(\"k가 있다.\")\n",
    "else:\n",
    "    print(\"k가 없다\")\n",
    "    \n",
    "l = [1,2,3,4,5,6]\n",
    "if 6 in l:\n",
    "    print(\"리스트에 6이 있습니다.\")\n",
    "else:\n",
    "    print(\"리스트에 6이 없습니다.\")\n",
    "    \n",
    "if 6  not in l:\n",
    "    print(\"리스트에 6이 없습니다.\")\n",
    "else:\n",
    "    print(\"리스트에 6이 있습니다.\")\n",
    "    \n",
    "pocket = ['paper', 'cellphone', 'money']\n",
    "if 'money' in pocket:\n",
    "    print('주머니에 돈이 있어요.')\n",
    "else:\n",
    "    print('주머니에 돈이 없어요.')"
   ]
  },
  {
   "cell_type": "code",
   "execution_count": 383,
   "id": "807a7e0b",
   "metadata": {},
   "outputs": [
    {
     "name": "stdout",
     "output_type": "stream",
     "text": [
      "False\n",
      "불합격\n",
      "불합격\n"
     ]
    }
   ],
   "source": [
    "### 영어가 40이상이고, 국어가 40이상이고 , 수학이 40이상일 때 , \n",
    "### 평균이 60이상이면 합격 그렇지 않으면 불합격\n",
    "mat = 55\n",
    "eng = 70\n",
    "kor = 40\n",
    "result = mat>= 40 and eng >= 40 and kor >= 40 and (mat+eng+kor) / 3 >= 60\n",
    "print(result)\n",
    "if result:\n",
    "    print(\"합격\")\n",
    "else:\n",
    "    print(\"불합격\")\n",
    "\n",
    "if mat>= 40 and eng >= 40 and kor >= 40 and (mat+eng+kor) / 3 >= 60:\n",
    "    print(\"합격\")\n",
    "else:\n",
    "    print(\"불합격\")"
   ]
  },
  {
   "cell_type": "code",
   "execution_count": 384,
   "id": "befde200",
   "metadata": {},
   "outputs": [
    {
     "name": "stdout",
     "output_type": "stream",
     "text": [
      "C\n"
     ]
    }
   ],
   "source": [
    "# score가 90이상이면 A, 80이상이면 B, 70이상이면 C, 60이상이면 D, \n",
    "# 그렇지 않으면 F\n",
    "# 조건이 여러개인 경우\n",
    "score = 78\n",
    "if score >= 90:\n",
    "    print('A')\n",
    "else: # 0 ~ 89\n",
    "    if score >= 80:\n",
    "        print('B')\n",
    "    else: # 0 ~ 79\n",
    "        if score >= 70:\n",
    "            print('C')\n",
    "        else:\n",
    "            if score >= 60:\n",
    "                print('D')\n",
    "            else: # 0 ~ 59\n",
    "                print('F')"
   ]
  },
  {
   "cell_type": "code",
   "execution_count": 385,
   "id": "f245175d",
   "metadata": {},
   "outputs": [
    {
     "name": "stdout",
     "output_type": "stream",
     "text": [
      "C\n"
     ]
    }
   ],
   "source": [
    "# if ~ elif ~ else문\n",
    "if score >= 90: # 조건식은 if 문에만 있다\n",
    "    print('A')\n",
    "elif score >= 80:\n",
    "    print('B')\n",
    "elif score >= 70:\n",
    "    print('C')\n",
    "elif score >= 60:\n",
    "    print('D')\n",
    "else: # 0 ~ 59\n",
    "    print('F')"
   ]
  },
  {
   "cell_type": "code",
   "execution_count": 386,
   "id": "51a2b857",
   "metadata": {},
   "outputs": [
    {
     "name": "stdout",
     "output_type": "stream",
     "text": [
      "C+\n"
     ]
    }
   ],
   "source": [
    "### 95이상이면 A+ 이하면 A\n",
    "### 85이상이면 B+ 이하면 B\n",
    "### 75이상이면 C+ 이하면 C\n",
    "### 65이상이면 D+ 이하면 D\n",
    "# 중첩 if문\n",
    "if score >= 90:\n",
    "    if score >= 95:\n",
    "        print('A+')\n",
    "    else:\n",
    "        print('A')\n",
    "elif score >= 80:\n",
    "    if score>=85:\n",
    "        print('B+')\n",
    "    else:\n",
    "        print('B')\n",
    "elif score >= 70:\n",
    "    if score >= 75:\n",
    "        print('C+')\n",
    "    else:\n",
    "        print('C')\n",
    "elif score >= 60:\n",
    "    if score >= 65:\n",
    "        print('D+')\n",
    "    else:\n",
    "        print('D')\n",
    "else: # 0 ~ 59\n",
    "    print('F')"
   ]
  },
  {
   "cell_type": "code",
   "execution_count": 389,
   "id": "8a05d5d4",
   "metadata": {},
   "outputs": [
    {
     "name": "stdout",
     "output_type": "stream",
     "text": [
      "success\n",
      "success\n"
     ]
    }
   ],
   "source": [
    "'''\n",
    "score가 60이상이면 message 변수에 success를 아니면 message 에 failure를 \n",
    "저장한 후 출력\n",
    "'''\n",
    "score = 78\n",
    "if score >= 60:\n",
    "    message = \"success\"\n",
    "else:\n",
    "    message = \"failure\"\n",
    "print(message)\n",
    "\n",
    "# python type으로 변경\n",
    "message = \"success\" if score >= 60 else \"failure\"\n",
    "print(message)"
   ]
  },
  {
   "cell_type": "code",
   "execution_count": 392,
   "id": "16e09070",
   "metadata": {},
   "outputs": [
    {
     "name": "stdout",
     "output_type": "stream",
     "text": [
      "C\n",
      "C\n"
     ]
    }
   ],
   "source": [
    "score = 78\n",
    "if score >= 90:\n",
    "    message ='A'\n",
    "else: # 0 ~ 89\n",
    "    if score >= 80:\n",
    "        message ='B'\n",
    "    else: # 0 ~ 79\n",
    "        if score >= 70:\n",
    "            message ='C'\n",
    "        else:\n",
    "            if score >= 60:\n",
    "                message ='D'\n",
    "            else: # 0 ~ 59\n",
    "                message ='F'\n",
    "print(message)\n",
    "# python type으로 변경\n",
    "message = 'A' if score >= 90 else( 'B' if score >= 80\n",
    "                             else( 'C' if score >= 70\n",
    "                             else( 'D' if score >= 60\n",
    "                             else 'F')))\n",
    "print(message)"
   ]
  },
  {
   "cell_type": "code",
   "execution_count": null,
   "id": "36a22214",
   "metadata": {},
   "outputs": [],
   "source": []
  }
 ],
 "metadata": {
  "kernelspec": {
   "display_name": "Python 3 (ipykernel)",
   "language": "python",
   "name": "python3"
  },
  "language_info": {
   "codemirror_mode": {
    "name": "ipython",
    "version": 3
   },
   "file_extension": ".py",
   "mimetype": "text/x-python",
   "name": "python",
   "nbconvert_exporter": "python",
   "pygments_lexer": "ipython3",
   "version": "3.11.4"
  }
 },
 "nbformat": 4,
 "nbformat_minor": 5
}
